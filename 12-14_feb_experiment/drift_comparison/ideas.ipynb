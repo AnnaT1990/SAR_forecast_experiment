{
 "cells": [
  {
   "cell_type": "markdown",
   "id": "1ae0654d-df7a-4c48-b342-f1b87cf26383",
   "metadata": {},
   "source": [
    "variant1\n",
    "This script assumes that your CSV files have columns named lon1, lat1, lon2, lat2, which represent the start and end coordinates for the drift displacements. The haversine function calculates the displacement (in kilometers) for each set of coordinates. Then, the script calculates the average displacement in each file, as an example of how you might compare the two sets of displacements. You might want to perform a different comparison, depending on your specific requirements."
   ]
  },
  {
   "cell_type": "code",
   "execution_count": 1,
   "id": "df6ee4d3-5d51-4551-bed1-368a26f2a92d",
   "metadata": {},
   "outputs": [],
   "source": [
    "\n",
    "import pandas as pd\n",
    "import numpy as np\n",
    "\n"
   ]
  },
  {
   "cell_type": "code",
   "execution_count": 2,
   "id": "5b60734f-606e-46f9-a5d0-ed5bd20dc25e",
   "metadata": {},
   "outputs": [],
   "source": [
    "def haversine(lon1, lat1, lon2, lat2):\n",
    "    \"\"\"\n",
    "    Calculate the great circle distance between two points \n",
    "    on the earth (specified in decimal degrees)\n",
    "    \"\"\"\n",
    "    # convert decimal degrees to radians \n",
    "    lon1, lat1, lon2, lat2 = map(np.radians, [lon1, lat1, lon2, lat2])\n",
    "\n",
    "    # haversine formula \n",
    "    dlon = lon2 - lon1 \n",
    "    dlat = lat2 - lat1 \n",
    "    a = np.sin(dlat/2)**2 + np.cos(lat1) * np.cos(lat2) * np.sin(dlon/2)**2\n",
    "    c = 2 * np.arcsin(np.sqrt(a)) \n",
    "    r = 6371 # Radius of earth in kilometers. Use 3956 for miles\n",
    "    return c * r"
   ]
  },
  {
   "cell_type": "code",
   "execution_count": null,
   "id": "a1236618-1a63-4a94-84f2-f9d220878d5b",
   "metadata": {},
   "outputs": [],
   "source": [
    "# read the csv files\n",
    "df1 = pd.read_csv('file1.csv')\n",
    "df2 = pd.read_csv('file2.csv')\n",
    "\n",
    "# calculate displacement for each set of coordinates in df1\n",
    "df1['displacement'] = df1.apply(lambda row: haversine(row['lon1'], row['lat1'], row['lon2'], row['lat2']), axis=1)\n",
    "\n",
    "# calculate displacement for each set of coordinates in df2\n",
    "df2['displacement'] = df2.apply(lambda row: haversine(row['lon1'], row['lat1'], row['lon2'], row['lat2']), axis=1)\n",
    "\n",
    "# compare the displacements\n",
    "# for example, compute the average displacement in each file\n",
    "average_displacement_df1 = df1['displacement'].mean()\n",
    "average_displacement_df2 = df2['displacement'].mean()\n",
    "\n",
    "print('Average displacement in file 1:', average_displacement_df1)\n",
    "print('Average displacement in file 2:', average_displacement_df2)"
   ]
  },
  {
   "cell_type": "markdown",
   "id": "e6afd915-0994-407d-a1e6-649d7dde46f9",
   "metadata": {},
   "source": [
    "variant 2\n",
    "\n",
    "Defines a function calculate_distance that calculates the Euclidean distance between two points in a specific coordinate system (EPSG:3857). The function uses GDAL's osr library to transform the input coordinates (assumed to be in EPSG:4326) to this coordinate system.\n",
    "Reads the CSV files.\n",
    "Calculates the displacement for each set of coordinates in both dataframes.\n",
    "Computes and prints the average displacement in each dataframe"
   ]
  },
  {
   "cell_type": "code",
   "execution_count": null,
   "id": "f833a246-1a45-4b1f-acfa-8b734e53fc67",
   "metadata": {},
   "outputs": [],
   "source": [
    "import pandas as pd\n",
    "from osgeo import osr\n",
    "\n",
    "def calculate_distance(lon1, lat1, lon2, lat2):\n",
    "    \"\"\"\n",
    "    Calculate the Haversine distance.\n",
    "    \"\"\"\n",
    "    source = osr.SpatialReference()\n",
    "    source.ImportFromEPSG(4326)  # Coordinate system of the points\n",
    "\n",
    "    target = osr.SpatialReference()\n",
    "    target.ImportFromEPSG(3857)  # Coordinate system you want to convert to (3857 is used for calculating distances)\n",
    "\n",
    "    transform = osr.CoordinateTransformation(source, target)\n",
    "\n",
    "    point1 = transform.TransformPoint(lon1, lat1)  # returns a tuple with x, y, z coordinates\n",
    "    point2 = transform.TransformPoint(lon2, lat2)\n",
    "\n",
    "    distance = ((point2[0]-point1[0])**2 + (point2[1]-point1[1])**2)**0.5  # Euclidean distance\n",
    "\n",
    "    return distance\n",
    "\n",
    "# read the csv files\n",
    "df1 = pd.read_csv('file1.csv')\n",
    "df2 = pd.read_csv('file2.csv')\n",
    "\n",
    "# calculate displacement for each set of coordinates in df1\n",
    "df1['displacement'] = df1.apply(lambda row: calculate_distance(row['lon1'], row['lat1'], row['lon2'], row['lat2']), axis=1)\n",
    "\n",
    "# calculate displacement for each set of coordinates in df2\n",
    "df2['displacement'] = df2.apply(lambda row: calculate_distance(row['lon1'], row['lat1'], row['lon2'], row['lat2']), axis=1)\n",
    "\n",
    "# compare the displacements\n",
    "# for example, compute the average displacement in each file\n",
    "average_displacement_df1 = df1['displacement'].mean()\n",
    "average_displacement_df2 = df2['displacement'].mean()\n",
    "\n",
    "print('Average displacement in file 1:', average_displacement_df1)\n",
    "print('Average displacement in file 2:', average_displacement_df2)\n"
   ]
  },
  {
   "cell_type": "markdown",
   "id": "9dc45c8a-b6fe-4a8f-8e78-5ce8aa6e8df0",
   "metadata": {},
   "source": [
    "variant 3\n",
    "Sure, if you want to calculate the displacement along the x (longitude) and y (latitude) axes separately, you can do so by subtracting the x and y coordinates of the start and end points. Here's how you can modify the previous script to do this:"
   ]
  },
  {
   "cell_type": "code",
   "execution_count": null,
   "id": "ee2234fb-246c-4c71-b0b5-5f9259cad897",
   "metadata": {},
   "outputs": [],
   "source": [
    "import pandas as pd\n",
    "from osgeo import osr\n",
    "\n",
    "def calculate_displacement(lon1, lat1, lon2, lat2):\n",
    "    \"\"\"\n",
    "    Calculate the displacement along x and y axes.\n",
    "    \"\"\"\n",
    "    source = osr.SpatialReference()\n",
    "    source.ImportFromEPSG(4326)  # Coordinate system of the points\n",
    "\n",
    "    target = osr.SpatialReference()\n",
    "    target.ImportFromEPSG(3857)  # Coordinate system you want to convert to (3857 is used for calculating distances)\n",
    "\n",
    "    transform = osr.CoordinateTransformation(source, target)\n",
    "\n",
    "    point1 = transform.TransformPoint(lon1, lat1)  # returns a tuple with x, y, z coordinates\n",
    "    point2 = transform.TransformPoint(lon2, lat2)\n",
    "\n",
    "    displacement_x = point2[0] - point1[0]  # Displacement along x-axis\n",
    "    displacement_y = point2[1] - point1[1]  # Displacement along y-axis\n",
    "\n",
    "    return displacement_x, displacement_y\n",
    "\n",
    "# read the csv files\n",
    "df1 = pd.read_csv('file1.csv')\n",
    "df2 = pd.read_csv('file2.csv')\n",
    "\n",
    "# calculate displacement for each set of coordinates in df1\n",
    "df1[['displacement_x', 'displacement_y']] = df1.apply(lambda row: calculate_displacement(row['lon1'], row['lat1'], row['lon2'], row['lat2']), axis=1, result_type='expand')\n",
    "\n",
    "# calculate displacement for each set of coordinates in df2\n",
    "df2[['displacement_x', 'displacement_y']] = df2.apply(lambda row: calculate_displacement(row['lon1'], row['lat1'], row['lon2'], row['lat2']), axis=1, result_type='expand')\n",
    "\n",
    "# compare the displacements\n",
    "# for example, compute the average displacement in each file\n",
    "average_displacement_x_df1 = df1['displacement_x'].mean()\n",
    "average_displacement_y_df1 = df1['displacement_y'].mean()\n",
    "average_displacement_x_df2 = df2['displacement_x'].mean()\n",
    "average_displacement_y_df2 = df2['displacement_y'].mean()\n",
    "\n",
    "print('Average x-displacement in file 1:', average_displacement_x_df1)\n",
    "print('Average y-displacement in file 1:', average_displacement_y_df1)\n",
    "print('Average x-displacement in file 2:', average_displacement_x_df2)\n",
    "print('Average y-displacement in file 2:', average_displacement_y_df2)\n"
   ]
  },
  {
   "cell_type": "code",
   "execution_count": null,
   "id": "f9d3c910-e5cf-48cc-83ce-3c4af722bf68",
   "metadata": {},
   "outputs": [],
   "source": []
  }
 ],
 "metadata": {
  "kernelspec": {
   "display_name": "Python 3 (ipykernel)",
   "language": "python",
   "name": "python3"
  },
  "language_info": {
   "codemirror_mode": {
    "name": "ipython",
    "version": 3
   },
   "file_extension": ".py",
   "mimetype": "text/x-python",
   "name": "python",
   "nbconvert_exporter": "python",
   "pygments_lexer": "ipython3",
   "version": "3.10.4"
  }
 },
 "nbformat": 4,
 "nbformat_minor": 5
}
