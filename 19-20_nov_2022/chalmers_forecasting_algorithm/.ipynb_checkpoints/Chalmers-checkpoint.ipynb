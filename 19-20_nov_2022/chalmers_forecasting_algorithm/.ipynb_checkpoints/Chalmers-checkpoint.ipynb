{
 "cells": [
  {
   "cell_type": "code",
   "execution_count": 1,
   "id": "03f90f32",
   "metadata": {
    "tags": []
   },
   "outputs": [],
   "source": [
    "import os\n",
    "import sys\n",
    "from datetime import datetime\n",
    "import glob"
   ]
  },
  {
   "cell_type": "code",
   "execution_count": 2,
   "id": "3846d4d1",
   "metadata": {
    "tags": []
   },
   "outputs": [
    {
     "name": "stdout",
     "output_type": "stream",
     "text": [
      "C:\\Anna\\Icedrift\\Chalmers\\alignment_OOP\\ice_drift_pc_ncc\\tools\\align\n"
     ]
    }
   ],
   "source": [
    "cd C:\\Anna\\Icedrift\\Chalmers\\alignment_OOP\\ice_drift_pc_ncc\\tools\\align"
   ]
  },
  {
   "cell_type": "code",
   "execution_count": 5,
   "id": "4c37fe6a",
   "metadata": {},
   "outputs": [
    {
     "data": {
      "text/plain": [
       "['align.py',\n",
       " 'Alignment_QS.ipynb',\n",
       " 'AlignSAR.py',\n",
       " 'copy_test',\n",
       " 'origina_align',\n",
       " 'README.md',\n",
       " '__pycache__']"
      ]
     },
     "execution_count": 5,
     "metadata": {},
     "output_type": "execute_result"
    }
   ],
   "source": [
    "os. listdir()"
   ]
  },
  {
   "cell_type": "code",
   "execution_count": 6,
   "id": "10fc688c",
   "metadata": {
    "scrolled": true,
    "tags": []
   },
   "outputs": [],
   "source": [
    "from AlignSAR import *"
   ]
  },
  {
   "cell_type": "code",
   "execution_count": 7,
   "id": "e63de337",
   "metadata": {
    "tags": []
   },
   "outputs": [],
   "source": [
    "# %load AlignSAR.py\n",
    "#!/usr/bin/env python3\n",
    "\"\"\"\n",
    "This script gives functionality to align two geotiff images given a velocity vector field.\n",
    "\n",
    "2021-09-02 Anders Gunnar Felix Hildeman\n",
    "2022-12-19 Denis Demchev\n",
    "\n",
    "\"\"\"\n",
    "\n",
    "import pathlib\n",
    "from skimage.transform import PiecewiseAffineTransform, warp\n",
    "\n",
    "try:\n",
    "    from osgeo import gdal\n",
    "except:\n",
    "    import gdal\n",
    "import numpy as np\n",
    "import os\n",
    "import csv\n",
    "import sys\n",
    "import glob\n",
    "import xml.etree.ElementTree\n",
    "sys.path.append(r'../geolocation_grid')\n",
    "from LocationMapping import LocationMapping\n",
    "import time\n",
    "\n",
    "class Alignment:\n",
    "\t\"\"\"Class for a pair of images alignment by displecements compensation \"\"\"\n",
    "\n",
    "\tdef __init__(self, img1_path=None, img2_path=None, displacement_path=None,\n",
    "\t\t\t\t transform_type=\"piecewise-affine\", out_path=r'./',\n",
    "\t\t\t\t transform_master=False, geocoded=False, proj=None):\n",
    "\n",
    "\t\tself.transform_type = transform_type\n",
    "\t\tself.img1_path = img1_path\n",
    "\t\tself.img2_path = img2_path\n",
    "\t\tself.displacement_path = displacement_path\n",
    "\t\tself.out_path = out_path\n",
    "\t\tself.transform_master = transform_master\n",
    "\t\tself.geocoded = geocoded\n",
    "\t\tself.proj = proj\n",
    "\n",
    "\t\tprint(f'Alignment method: {transform_type}')\n",
    "\t\tos.makedirs(self.out_path, exist_ok=True)\n",
    "\n",
    "\t\t# Get start time\n",
    "\t\tstart_time = time.time()\n",
    "\n",
    "\t\tif not (self.img1_path and self.img2_path and self.displacement_path) is None:\n",
    "\t\t\tself.performAlignment(padding='constant', back_alignment=False)\n",
    "\n",
    "\t\t\t# Measure execution time\n",
    "\t\t\texec_time = (time.time() - start_time) / 60.\n",
    "\t\t\tprint(\"Alignment finished in {:0.1f} minutes\\n\".format(exec_time))\n",
    "\t\telse:\n",
    "\t\t\traise TypeError(\n",
    "\t\t\t\t\"Please specify all neccesseaury path to data (Image 1, Image 2 and a path to displacement data)\")\n",
    "\n",
    "\tdef performAlignment(self, padding, back_alignment):\n",
    "\t\t\"\"\"\n",
    "\t\tFunction for aligning two images given a deformation field and then save it to output path.\n",
    "\t\t\"\"\"\n",
    "\t\t\n",
    "\t\t# Open first image and acquire raster as array\n",
    "\t\timage1 = gdal.Open(str(self.img1_path))\n",
    "\n",
    "\t\t# Open second  image and acquire raster as array\n",
    "\t\timage2 = gdal.Open(str(self.img1_path))\n",
    "\n",
    "\t\t# Get deformation data as original pixel locations in image1 and new pixel locations in image1\n",
    "\t\twith open(self.displacement_path) as csvfile:\n",
    "\t\t\tcsvreader = csv.reader(csvfile)\n",
    "\t\t\t# check if the file has a header row\n",
    "\t\t\thas_header = csv.Sniffer().has_header(csvfile.read(1024))\n",
    "\t\t\tcsvfile.seek(0)  # reset file pointer\n",
    "\t\t\t#skip header row if it exists\n",
    "\t\t\tif has_header:\n",
    "\t\t\t\tnext(csvreader)\n",
    "\t\t\tdisplacements = np.array([row for row in csvreader]).astype(float)\n",
    "\t\t\t# If coordinates are geocoded then convert them to image coordinates\n",
    "\t\t\tif self.geocoded == True:\n",
    "\t\t\t\tlm1 = LocationMapping(image1.GetGeoTransform(), image1.GetProjection())\n",
    "\t\t\t\tlm2 = LocationMapping(image2.GetGeoTransform(), image2.GetProjection())\n",
    "\t\t\t\tprint('\\nConvert geocoded cooridnates to raster coordinates...')\n",
    "\t\t\t\tdisplacements = displacements[~np.any(np.isnan(displacements), axis=1), :]\n",
    "\t\t\t\tdisplacements = displacements[~np.any(np.isinf(displacements), axis=1), :]\n",
    "\t\t\t\torig_locs = displacements[:, [0, 1]] \n",
    "\t\t\t\tnew_locs = displacements[:, [2, 3]]\n",
    "\t\t\t\tc0, r0 = lm1.latLon2Raster( orig_locs[:,1].reshape( (-1) ), orig_locs[:,0].reshape( (-1) ) )\n",
    "\t\t\t\tc1, r1 = lm2.latLon2Raster( new_locs[:,1].reshape( (-1) ), new_locs[:,0].reshape( (-1) ) )\n",
    "\t\t\t\torig_locs = np.stack((c0, r0)).T\n",
    "\t\t\t\tnew_locs = np.stack((c1, r1)).T\n",
    "\t\t\t\t#print(\"here are cordinates!\", orig_locs, new_locs) #added as temporal test\n",
    "\t\t\t\tprint('Done.\\n')\n",
    "\t\t\telse:\n",
    "\t\t\t\t# Select only not NaN data for displacements\n",
    "\t\t\t\tdisplacements = displacements[~np.any(np.isnan(displacements), axis=1), :]\n",
    "\t\t\t\tdisplacements = displacements[~np.any(np.isinf(displacements), axis=1), :]\n",
    "\t\t\t\torig_locs = displacements[:, [0, 1]]\n",
    "\t\t\t\tnew_locs = displacements[:, [2, 3]] + orig_locs\n",
    "\n",
    "\t\t# Acquire transformation given by deformation\n",
    "\t\tif self.transform_type == \"piecewise-affine\":\n",
    "\t\t\tprint(f'\\nEstimating {self.transform_type} transformation...')\n",
    "\t\t\tp = PiecewiseAffineTransform()\n",
    "\t\t\tp.estimate(src=orig_locs, dst=new_locs)\n",
    "\t\t\tself.p = p\n",
    "\t\t\tprint(f'Done.')\n",
    "\t\telse:\n",
    "\t\t\traise Exception(f'Sorry, {self.transform_type} transform is not implemented in the current version')\n",
    "\n",
    "\t\t# # Acquire convex hulls\n",
    "\t\t# print(\"Acquiring convex hulls.\")\n",
    "\t\t# maskOrig = None\n",
    "\t\t# maskNew = None\n",
    "\t\t# try:\n",
    "\t\t# \t# Get convex hull of image 1\n",
    "\t\t# \tch = ConvexHull( new_locs )\n",
    "\t\t# \ty, x = np.meshgrid( np.arange(rows1), np.arange(cols1) )\n",
    "\t\t# \ty, x = np.transpose(y), np.transpose(x)\n",
    "\t\t# \tx, y = x.flatten(), y.flatten()\n",
    "\t\t# \tpoints = np.stack( (x,y), axis=1 )\n",
    "\t\t# \tp = Path( new_locs[ch.vertices, :] )\n",
    "\t\t# \tgrid = p.contains_points( points )\n",
    "\t\t# \tmaskNew = grid.reshape(array2.shape)\n",
    "\n",
    "\t\t# \t# Get convex hull of image 2\n",
    "\t\t# \tch = ConvexHull( orig_locs )\n",
    "\t\t# \ty, x = np.meshgrid( np.arange(rows1), np.arange(cols1) )\n",
    "\t\t# \ty, x = np.transpose(y), np.transpose(x)\n",
    "\t\t# \tx, y = x.flatten(), y.flatten()\n",
    "\t\t# \tpoints = np.stack( (x,y), axis=1 )\n",
    "\t\t# \tp = Path( new_locs[ch.vertices, :] )\n",
    "\t\t# \tgrid = p.contains_points( points )\n",
    "\t\t# \tmaskOrig = grid.reshape(array2.shape)\n",
    "\n",
    "\t\t# \tdel ch, x, y, points, p, grid\n",
    "\t\t# except:\n",
    "\t\t# \treturn 1\n",
    "\n",
    "\t\t# Transform image1 raster array\n",
    "\t\ttry:\n",
    "\t\t\tprint(f'\\nWarping {self.img1_path}')\n",
    "\t\t\tstart_time = time.time()\n",
    "\n",
    "\t\t\tif self.warping(self.img1_path, image1,  self.p.inverse, padding, self.displacement_path):\n",
    "\t\t\t\texec_time = (time.time() - start_time) / 60.\n",
    "\t\t\t\tprint(\"Done in {:0.1f} minutes\\n\".format(exec_time))\n",
    "\t\t\t\treturn 1\n",
    "\n",
    "\t\t\t''' TODO:\n",
    "\t\t\tif back_alignment == True:\n",
    "\t\t\t\tprint('\\nStart back-alignment...')\n",
    "\t\t\t\taligned_images = glob.glob(f'{output_path}/Aligned*.tif*')\n",
    "\t\t\t\taligned_images.sort(key=lambda x: os.path.basename(x).split('_')[7])\n",
    "\t\t\t\tprint(f'Aligned image: {aligned_images[0]}')\n",
    "\t\t\t\timage_aligned_back = gdal.Open(aligned_images[0])\n",
    "\t\t\t\toutput_ba_path = output_path / 'back_alignment'\n",
    "\t\t\t\tos.makedirs(output_ba_path, exist_ok=True)\n",
    "\t\t\t\twarping(path1, output_ba_path, image_aligned_back, p, padding, displacement_path)\n",
    "\t\t\t\tprint('Done.')\n",
    "\t\t\telse:\n",
    "\t\t\t\tpass\n",
    "\t\t\t'''\n",
    "\t\texcept Exception as e:\n",
    "\t\t\tprint(str(e))\n",
    "\t\t\treturn 1\n",
    "\n",
    "\t\t# Transform image2 raster array\n",
    "\t\tif self.transform_master == True:\n",
    "\t\t\ttry:\n",
    "\t\t\t\tprint(f'\\nWarping {self.img2_path}')\n",
    "\t\t\t\tstart_time = time.time()\n",
    "\t\t\t\tif self.warping(self.img2_path, image2, self.p, padding, self.displacement_path):\n",
    "\t\t\t\t\texec_time = (time.time() - start_time) / 60.\n",
    "\t\t\t\t\tprint(\"Done in {:0.1f} minutes\\n\".format(exec_time))\n",
    "\t\t\t\t\treturn 1\n",
    "\n",
    "\t\t\texcept Exception as e:\n",
    "\t\t\t\tprint(str(e))\n",
    "\t\t\t\treturn 1\n",
    "\t\telse:\n",
    "\t\t\tpass\n",
    "\n",
    "\t\treturn 0\n",
    "\n",
    "\tdef warping(self, path, image, trans, padding, displacement_path):\n",
    "\t\t''' Perform warping of a pair of GeoTIFF files based on transformation '''\n",
    "\t\t\n",
    "\t\t# Create new geotiff file\n",
    "\t\t#First, check if this file was already aligned and renamed to delete the old alignment time reference\n",
    "\t\tfilename = os.path.basename(path)\n",
    "\t\tif not filename.startswith(\"Aligned\"):\n",
    "\t\t\tnew_path = f'{self.out_path}/Aligned_{displacement_path[-15:-4]}_{os.path.basename(path)}'\n",
    "\t\t\tprint(f\"A new name of the file is {new_path}\") # added temporary as a test\n",
    "\t\tif filename.startswith(\"Aligned\"):\n",
    "\t\t\tcut_filename = filename[20:]\n",
    "\t\t\tnew_path = f'{self.out_path}/Aligned_{displacement_path[-15:-4]}_{cut_filename}'\n",
    "\t\t\tprint(f\"A new name of the file is {new_path}\") # added temporary as a test\n",
    "\n",
    "\t\tGTdriver = gdal.GetDriverByName('GTiff')\n",
    "\t\topts = [\"COMPRESS=LZW\", \"BIGTIFF=YES\"]\n",
    "\t\tout = GTdriver.Create(new_path, image.RasterXSize, image.RasterYSize, image.RasterCount, gdal.GDT_Float32,\n",
    "\t\t\t\t\t\t\t  opts)\n",
    "\t\tout.SetGeoTransform(image.GetGeoTransform())\n",
    "\t\tout.SetProjection(image.GetProjection())\n",
    "\t\tmetadata = image.GetMetadata()\n",
    "\n",
    "\t\t# Get mapping between coordinates for the given image\n",
    "\t\tlocation_mapping = LocationMapping(image.GetGeoTransform(), image.GetProjection())\n",
    "\n",
    "\t\t# Preallocate output array\n",
    "\t\tarray = np.zeros((image.RasterYSize, image.RasterXSize, image.RasterCount), dtype=float)\n",
    "\n",
    "\t\tfor iterBands in range(image.RasterCount):\n",
    "\t\t\t\n",
    "\t\t\t# Get current raster band\n",
    "\t\t\tband = image.GetRasterBand(int(iterBands + 1))\n",
    "\t\t\t# Get name of raster band\n",
    "\t\t\tband_name = band.GetDescription()\n",
    "\t\t\t# Get raster array from current band\n",
    "\t\t\tarray[:, :, iterBands] = band.ReadAsArray()\n",
    "\t\t\t# Get corresponding band from out raster\n",
    "\t\t\tband_out = out.GetRasterBand(int(iterBands + 1))\n",
    "\t\t\t# Set name of band for output\n",
    "\t\t\tband_out.SetDescription(band_name)\n",
    "\n",
    "\t\t\t# If raster band name exists in metadata, warp the geolocationGridPoints\n",
    "\t\t\tif (band_name in metadata.keys()):\n",
    "\t\t\t\t# Get xml from current metadata\n",
    "\t\t\t\ttry:\n",
    "\t\t\t\t\txml_tree = xml.etree.ElementTree.fromstring(metadata[band_name])\n",
    "\t\t\t\t\tif (xml_tree.tag == 'geolocationGrid'):\n",
    "\t\t\t\t\t\t# Get all grid points xml elements\n",
    "\t\t\t\t\t\tgridPoints = list(xml_tree.findall('./geolocationGridPointList/geolocationGridPoint'))\n",
    "\t\t\t\t\t\t# Go through all girdPoint elements\n",
    "\t\t\t\t\t\tlat = np.zeros((len(gridPoints)))\n",
    "\t\t\t\t\t\tlong = np.zeros((len(gridPoints)))\n",
    "\t\t\t\t\t\tok_grid_points = np.zeros((len(gridPoints)), dtype=bool)\n",
    "\t\t\t\t\t\tfor iterGridPoints, gridPoint in enumerate(gridPoints):\n",
    "\t\t\t\t\t\t\t# Insert current latitude and longitude value\n",
    "\t\t\t\t\t\t\tcur_lat = gridPoint.find('./latitude')\n",
    "\t\t\t\t\t\t\tcur_long = gridPoint.find('./longitude')\n",
    "\t\t\t\t\t\t\t# If the latitude and longitude value actually existed\n",
    "\t\t\t\t\t\t\tif cur_lat is not None and cur_long is not None:\n",
    "\t\t\t\t\t\t\t\t# Insert current values in arrays\n",
    "\t\t\t\t\t\t\t\tlat[iterGridPoints] = float(cur_lat.text)\n",
    "\t\t\t\t\t\t\t\tlong[iterGridPoints] = float(cur_long.text)\n",
    "\t\t\t\t\t\t\t\tok_grid_points[iterGridPoints] = True\n",
    "\t\t\t\t\t\t\n",
    "\t\t\t\t\t\t# Map geolocation points\n",
    "\t\t\t\t\t\tx, y = location_mapping.latLon2Raster(np.array(lat), np.array(long))\n",
    "\t\t\t\t\t\tpoints = np.stack((x, y), axis=1)\n",
    "\t\t\t\t\t\tpoints = trans(points)\n",
    "\t\t\t\t\t\tok_grid_points = ok_grid_points & np.all(points >= 0, axis=1)\n",
    "\t\t\t\t\t\tlat, long = location_mapping.raster2LatLon(points[:, 0], points[:, 1])\n",
    "\n",
    "\t\t\t\t\t\t# Go through all grid points again\n",
    "\t\t\t\t\t\tfor iterGridPoints, gridPoint in enumerate(gridPoints):\n",
    "\t\t\t\t\t\t\t# If current grid point is marked as 'ok'\n",
    "\t\t\t\t\t\t\tif ok_grid_points[iterGridPoints]:\n",
    "\t\t\t\t\t\t\t\tgridPoint.find('./latitude').text = str(lat[iterGridPoints])\n",
    "\t\t\t\t\t\t\t\tgridPoint.find('./longitude').text = str(long[iterGridPoints])\n",
    "\t\t\t\t\t\t\telse:\n",
    "\t\t\t\t\t\t\t\t# Otherwise, remove\n",
    "\t\t\t\t\t\t\t\txml_tree.find('./geolocationGridPointList').remove(gridPoint)\n",
    "\n",
    "\t\t\t\t\t\t# Write new metadata\n",
    "\t\t\t\t\t\tmetadata[band_name] = xml.etree.ElementTree.tostring(xml_tree)\n",
    "\n",
    "\n",
    "\t\t\t\texcept Exception as e:\n",
    "\t\t\t\t\tprint(e)\n",
    "\t\t\t\t\treturn 1\n",
    "\t\t\n",
    "\t\tarray[array == 0] = np.nan\n",
    "\n",
    "\t\tarray_warped = warp(array, trans, mode='constant')  # , mode = padding, cval = np.nan )\n",
    "\t\tarray_warped[array_warped == 0] = np.nan\n",
    "\t\t# array_warped[~maskOrig] = np.nan\n",
    "\n",
    "\t\tfor iterBands in range(image.RasterCount):\n",
    "\t\t\t# Get corresponding band from out raster\n",
    "\t\t\tband_out = out.GetRasterBand(int(iterBands + 1))\n",
    "\t\t\t# Write aligned array to output\n",
    "\t\t\tband_out.WriteArray(array_warped[:, :, iterBands])\n",
    "\n",
    "\t\tout.SetMetadata(metadata)\n",
    "\t\tout.FlushCache()\n",
    "\t\tdel out\n",
    "\n",
    "\t\treturn 0\n"
   ]
  },
  {
   "cell_type": "code",
   "execution_count": null,
   "id": "3f783799-c9a2-4040-8a6b-a914aad66579",
   "metadata": {
    "tags": []
   },
   "outputs": [],
   "source": [
    "'''\n",
    "Chat GPT sugegstions on improvement - quite bad implimintation \n",
    "but maybe it is nice to separate functions \"get deformations\" and \"perfom alignmetn\"\n",
    "\n",
    "It may be useful to break up the performAlignment method into smaller, more focused methods to make the code more \n",
    "readable and maintainable. Additionally, the class could benefit from some error handling, such as checking that the \n",
    "specified paths actually exist before attempting to open the geotiff images\n",
    "'''  \n",
    "import pathlib\n",
    "import csv\n",
    "import os\n",
    "import time\n",
    "import numpy as np\n",
    "try:\n",
    "    from osgeo import gdal\n",
    "except:\n",
    "    import gdal\n",
    "from skimage.transform import PiecewiseAffineTransform, warp\n",
    "\n",
    "from LocationMapping import LocationMapping\n",
    "\n",
    "\n",
    "class Alignment:\n",
    "    \"\"\"Class for a pair of images alignment by displacements compensation\"\"\"\n",
    "\n",
    "    def __init__(self, img1_path=None, img2_path=None, displacement_path=None,\n",
    "                 transform_type=\"piecewise-affine\", out_path=r'./',\n",
    "                 transform_master=False, geocoded=False, proj=None):\n",
    "        self.transform_type = transform_type\n",
    "        self.img1_path = img1_path\n",
    "        self.img2_path = img2_path\n",
    "        self.displacement_path = displacement_path\n",
    "        self.out_path = out_path\n",
    "        self.transform_master = transform_master\n",
    "        self.geocoded = geocoded\n",
    "        self.proj = proj\n",
    "        self.p = None\n",
    "        self.image1 = None\n",
    "        self.image2 = None\n",
    "        self.displacements = None\n",
    "\n",
    "        print(f'Alignment method: {transform_type}')\n",
    "        os.makedirs(self.out_path, exist_ok=True)\n",
    "\n",
    "        if not all((self.img1_path, self.img2_path, self.displacement_path)):\n",
    "            raise TypeError(\"Please specify all necessary paths to data (Image 1, Image 2, and a path to displacement data)\")\n",
    "\n",
    "        # Check if the specified paths exist\n",
    "        for path in (self.img1_path, self.img2_path, self.displacement_path):\n",
    "            if not pathlib.Path(path).exists():\n",
    "                raise FileNotFoundError(f\"Specified file {path} does not exist\")\n",
    "\n",
    "        self.perform_alignment(padding='constant', back_alignment=False)\n",
    "\n",
    "    def perform_alignment(self, padding, back_alignment):\n",
    "        \"\"\"\n",
    "        Function for aligning two images given a deformation field and then save it to output path.\n",
    "        \"\"\"\n",
    "\n",
    "        # Open first image and acquire raster as array\n",
    "        self.image1 = gdal.Open(str(self.img1_path))\n",
    "\n",
    "        # Open second image and acquire raster as array\n",
    "        self.image2 = gdal.Open(str(self.img2_path))\n",
    "\n",
    "        # Get deformation data as original pixel locations in image1 and new pixel locations in image1\n",
    "        self.displacements = self.get_deformation_data()\n",
    "\n",
    "        # Acquire transformation given by deformation\n",
    "        self.get_transformation()\n",
    "\n",
    "        # Save aligned image\n",
    "        self.save_aligned_image(padding, back_alignment)\n",
    "\n",
    "    def get_deformation_data(self):\n",
    "        \"\"\"\n",
    "        Get displacement data and convert it to raster coordinates if it's in geocoded coordinates.\n",
    "        \"\"\"\n",
    "        with open(self.displacement_path) as csvfile:\n",
    "            csvreader = csv.reader(csvfile)\n",
    "            has_header = csv.Sniffer().has_header(csvfile.read(1024))\n",
    "            csvfile.seek(0)\n",
    "            if has_header:\n",
    "                next(csvreader)\n",
    "            displacements = np.array([row for row in csvreader]).astype(float)\n",
    "            if self.geocoded:k\n",
    "                lm1 = LocationMapping(self.image1.GetGeoTransform(), self.image1.GetProjection())\n",
    "                lm2 = LocationMapping(self.image2.GetGeoTransform(), self.image2.GetProjection())\n",
    "                print('\\nConverting geocoded coordinates to raster coordinates...')\n",
    "                displacements = displacements[~np.any(np.isnan(displacements), axis=1), :]\n",
    "                displacements = displacements[~np.any(np.isinf(displacements), axis=1), :]\n",
    "                orig_locs = displacements[:, [0, 1]]\n",
    "                new_locs = displacements[:, [2, 3]]\n",
    "                c0, r0 = lm1.latLon2Raster(orig_locs[:, 1].reshape((-1)), orig_locs[:, 0].reshape((-1)))\n",
    "                c1\n"
   ]
  },
  {
   "cell_type": "markdown",
   "id": "9c6e51d4-1e0d-4ad4-93ec-ccf2f2d378a9",
   "metadata": {
    "heading_collapsed": true,
    "tags": []
   },
   "source": [
    "### For single input file"
   ]
  },
  {
   "cell_type": "code",
   "execution_count": null,
   "id": "1ed0638d-3907-4bb7-adb0-69c70467553a",
   "metadata": {
    "hidden": true,
    "tags": []
   },
   "outputs": [
    {
     "name": "stdout",
     "output_type": "stream",
     "text": [
      "Alignment method: piecewise-affine\n",
      "\n",
      "Convert geocoded cooridnates to raster coordinates...\n",
      "77.32247602133035 -11.801506800074447\n",
      "wow3 -1385342.53240098 -248487.6182931384\n",
      "wow4 -3417.6054454266446 -4228.725223841533\n",
      "77.32247602133035 -11.559545533953916\n",
      "wow3 -1385342.53240098 -245590.54043879098\n",
      "wow4 -3345.178499067959 -3991.6580046933523\n",
      "Done.\n",
      "\n",
      "\n",
      "Estimating piecewise-affine transformation...\n",
      "Done.\n",
      "\n",
      "Warping C:\\Anna\\Icedrift\\Special_curriculum\\19-20_subset_experiment\\model_drift\\integrated_lambert\\Aligned_sar\\subset_of_S1A_EW_GRDM_1SDH_20221119T072104_20221119T072208_045960_057FE5_E8B1_Orb_Cal_TC_HV.tif\n",
      "A new name of the file is C:\\Anna\\Icedrift\\Special_curriculum\\19-20_subset_experiment\\model_drift\\integrated_lambert\\Aligned_sar/Aligned_20221120T09_subset_of_S1A_EW_GRDM_1SDH_20221119T072104_20221119T072208_045960_057FE5_E8B1_Orb_Cal_TC_HV.tif\n"
     ]
    }
   ],
   "source": [
    "%%time\n",
    "a = Alignment(img1_path=r\"C:\\Anna\\Icedrift\\Special_curriculum\\19-20_subset_experiment\\model_drift\\integrated_lambert\\Aligned_sar\\subset_of_S1A_EW_GRDM_1SDH_20221119T072104_20221119T072208_045960_057FE5_E8B1_Orb_Cal_TC_HV.tif\",\n",
    "              img2_path=r'C:\\Anna\\Icedrift\\Chalmers\\alignment_OOP\\alignment_test_data\\images\\sub_3996\\subset_2_of_S1A_EW_GRDM_1SDH_20221120T080155_20221120T080259_045975_05805E_51E1_Orb_Cal_TC_HV.tif',\n",
    "              displacement_path=r\"C:\\Anna\\Icedrift\\Special_curriculum\\19-20_subset_experiment\\model_drift\\integrated_lambert\\drift_lon_lat\\subset_ens8_19_20_nov_hourly_dirft_20221120T09.csv\",\n",
    "              out_path=r'C:\\Anna\\Icedrift\\Special_curriculum\\19-20_subset_experiment\\model_drift\\integrated_lambert\\Aligned_sar',\n",
    "              geocoded=True)"
   ]
  },
  {
   "cell_type": "code",
   "execution_count": 21,
   "id": "b30bc8dc-71f8-4d96-846d-9ef8bfc77757",
   "metadata": {
    "collapsed": true,
    "hidden": true,
    "jupyter": {
     "outputs_hidden": true
    },
    "tags": []
   },
   "outputs": [
    {
     "name": "stdout",
     "output_type": "stream",
     "text": [
      "Alignment method: piecewise-affine\n",
      "\n",
      "Convert geocoded cooridnates to raster coordinates...\n",
      "79.65628051757812 -8.828641891479492\n",
      "wow3 -1135617.5582795101 -152852.05443175766\n",
      "wow4 -784.7163488921259 -728.8975283399841\n",
      "79.49343159909236 -8.419647841761886\n",
      "wow3 -1156454.8595692392 -146918.00089027215\n",
      "wow4 -636.365010354988 -640.8086672556445\n",
      "Done.\n",
      "\n",
      "\n",
      "Estimating piecewise-affine transformation...\n",
      "Done.\n",
      "\n",
      "Warping C:\\Anna\\Icedrift\\Chalmers\\alignment_OOP\\alignment_test_data\\ensemble_experiment\\input_image\\subset_S1A_EW_GRDM_1SDH_20221119T072104_20221119T072208_045960_057FE5_E8B1_Orb_Cal_TC_HV.tif\n",
      "A new name of the file is C:\\Anna\\Icedrift\\Chalmers\\alignment_OOP\\alignment_test_data\\ensemble_experiment\\Sum_vector_experiment\\ensemble_sum\\2/Aligned_20221120T09_subset_S1A_EW_GRDM_1SDH_20221119T072104_20221119T072208_045960_057FE5_E8B1_Orb_Cal_TC_HV.tif\n",
      "CPU times: total: 15min 24s\n",
      "Wall time: 16min 4s\n"
     ]
    }
   ],
   "source": [
    "%%time\n",
    "a = Alignment(img1_path=r'C:\\Anna\\Icedrift\\Chalmers\\alignment_OOP\\alignment_test_data\\ensemble_experiment\\input_image\\subset_S1A_EW_GRDM_1SDH_20221119T072104_20221119T072208_045960_057FE5_E8B1_Orb_Cal_TC_HV.tif',\n",
    "              img2_path=r'C:\\Anna\\Icedrift\\Chalmers\\alignment_OOP\\alignment_test_data\\images\\sub_3996\\subset_2_of_S1A_EW_GRDM_1SDH_20221120T080155_20221120T080259_045975_05805E_51E1_Orb_Cal_TC_HV.tif',\n",
    "              displacement_path=r\"C:\\Anna\\Icedrift\\Chalmers\\alignment_OOP\\alignment_test_data\\ensemble_experiment\\Sum_vector_experiment\\ensemble_sum\\ens7_19_20_nov_sum_drift_20221120T09.csv\",\n",
    "              out_path=r'C:\\Anna\\Icedrift\\Chalmers\\alignment_OOP\\alignment_test_data\\ensemble_experiment\\Sum_vector_experiment\\ensemble_sum\\2',\n",
    "              geocoded=True)"
   ]
  },
  {
   "cell_type": "code",
   "execution_count": 22,
   "id": "eebf1b67-a8ce-417d-9ac0-cd49e0a12f2f",
   "metadata": {
    "collapsed": true,
    "hidden": true,
    "jupyter": {
     "outputs_hidden": true
    },
    "tags": []
   },
   "outputs": [
    {
     "name": "stdout",
     "output_type": "stream",
     "text": [
      "Alignment method: piecewise-affine\n",
      "\n",
      "Convert geocoded cooridnates to raster coordinates...\n",
      "79.65628051757812 -8.828641891479492\n",
      "wow3 -1135617.5582795101 -152852.05443175766\n",
      "wow4 -784.7163488921259 -728.8975283399841\n",
      "79.48535261699557 -8.300391390663213\n",
      "wow3 -1157209.5919911142 -145354.09007629493\n",
      "wow4 -597.2672400055577 -655.5780886423255\n",
      "Done.\n",
      "\n",
      "\n",
      "Estimating piecewise-affine transformation...\n",
      "Done.\n",
      "\n",
      "Warping C:\\Anna\\Icedrift\\Chalmers\\alignment_OOP\\alignment_test_data\\ensemble_experiment\\input_image\\subset_S1A_EW_GRDM_1SDH_20221119T072104_20221119T072208_045960_057FE5_E8B1_Orb_Cal_TC_HV.tif\n",
      "A new name of the file is C:\\Anna\\Icedrift\\Chalmers\\alignment_OOP\\alignment_test_data\\ensemble_experiment\\Sum_vector_experiment\\ensemble_sum\\3/Aligned_20221120T09_subset_S1A_EW_GRDM_1SDH_20221119T072104_20221119T072208_045960_057FE5_E8B1_Orb_Cal_TC_HV.tif\n",
      "CPU times: total: 15min 27s\n",
      "Wall time: 15min 59s\n"
     ]
    }
   ],
   "source": [
    "%%time\n",
    "a = Alignment(img1_path=r'C:\\Anna\\Icedrift\\Chalmers\\alignment_OOP\\alignment_test_data\\ensemble_experiment\\input_image\\subset_S1A_EW_GRDM_1SDH_20221119T072104_20221119T072208_045960_057FE5_E8B1_Orb_Cal_TC_HV.tif',\n",
    "              img2_path=r'C:\\Anna\\Icedrift\\Chalmers\\alignment_OOP\\alignment_test_data\\images\\sub_3996\\subset_2_of_S1A_EW_GRDM_1SDH_20221120T080155_20221120T080259_045975_05805E_51E1_Orb_Cal_TC_HV.tif',\n",
    "              displacement_path=r\"C:\\Anna\\Icedrift\\Chalmers\\alignment_OOP\\alignment_test_data\\ensemble_experiment\\Sum_vector_experiment\\ensemble_sum\\ens8_19_20_nov_sum_drift_20221120T09.csv\",\n",
    "              out_path=r'C:\\Anna\\Icedrift\\Chalmers\\alignment_OOP\\alignment_test_data\\ensemble_experiment\\Sum_vector_experiment\\ensemble_sum\\3',\n",
    "              geocoded=True)"
   ]
  },
  {
   "cell_type": "code",
   "execution_count": 23,
   "id": "0ec08716-74af-4757-bffb-f040fb3edf0f",
   "metadata": {
    "collapsed": true,
    "hidden": true,
    "jupyter": {
     "outputs_hidden": true
    },
    "tags": []
   },
   "outputs": [
    {
     "name": "stdout",
     "output_type": "stream",
     "text": [
      "Alignment method: piecewise-affine\n",
      "\n",
      "Convert geocoded cooridnates to raster coordinates...\n",
      "79.65628051757812 -8.828641891479492\n",
      "wow3 -1135617.5582795101 -152852.05443175766\n",
      "wow4 -784.7163488921259 -728.8975283399841\n",
      "79.49174106672028 -8.397045769722803\n",
      "wow3 -1156831.2967440707 -147033.32413245976\n",
      "wow4 -639.2480914096785 -640.7772890817815\n",
      "Done.\n",
      "\n",
      "\n",
      "Estimating piecewise-affine transformation...\n",
      "Done.\n",
      "\n",
      "Warping C:\\Anna\\Icedrift\\Chalmers\\alignment_OOP\\alignment_test_data\\ensemble_experiment\\input_image\\subset_S1A_EW_GRDM_1SDH_20221119T072104_20221119T072208_045960_057FE5_E8B1_Orb_Cal_TC_HV.tif\n",
      "A new name of the file is C:\\Anna\\Icedrift\\Chalmers\\alignment_OOP\\alignment_test_data\\ensemble_experiment\\Sum_vector_experiment\\ensemble_sum\\4/Aligned_20221120T09_subset_S1A_EW_GRDM_1SDH_20221119T072104_20221119T072208_045960_057FE5_E8B1_Orb_Cal_TC_HV.tif\n",
      "CPU times: total: 15min 17s\n",
      "Wall time: 17min 7s\n"
     ]
    }
   ],
   "source": [
    "%%time\n",
    "a = Alignment(img1_path=r'C:\\Anna\\Icedrift\\Chalmers\\alignment_OOP\\alignment_test_data\\ensemble_experiment\\input_image\\subset_S1A_EW_GRDM_1SDH_20221119T072104_20221119T072208_045960_057FE5_E8B1_Orb_Cal_TC_HV.tif',\n",
    "              img2_path=r'C:\\Anna\\Icedrift\\Chalmers\\alignment_OOP\\alignment_test_data\\images\\sub_3996\\subset_2_of_S1A_EW_GRDM_1SDH_20221120T080155_20221120T080259_045975_05805E_51E1_Orb_Cal_TC_HV.tif',\n",
    "              displacement_path=r\"C:\\Anna\\Icedrift\\Chalmers\\alignment_OOP\\alignment_test_data\\ensemble_experiment\\Sum_vector_experiment\\ensemble_sum\\ens9_19_20_nov_sum_drift_20221120T09.csv\",\n",
    "              out_path=r'C:\\Anna\\Icedrift\\Chalmers\\alignment_OOP\\alignment_test_data\\ensemble_experiment\\Sum_vector_experiment\\ensemble_sum\\4',\n",
    "              geocoded=True)"
   ]
  },
  {
   "cell_type": "code",
   "execution_count": 24,
   "id": "a575804d-56e5-4c35-b1c5-5331598f10d9",
   "metadata": {
    "collapsed": true,
    "hidden": true,
    "jupyter": {
     "outputs_hidden": true
    },
    "tags": []
   },
   "outputs": [
    {
     "name": "stdout",
     "output_type": "stream",
     "text": [
      "Alignment method: piecewise-affine\n",
      "\n",
      "Convert geocoded cooridnates to raster coordinates...\n",
      "79.65628051757812 -8.828641891479492\n",
      "wow3 -1135617.5582795101 -152852.05443175766\n",
      "wow4 -784.7163488921259 -728.8975283399841\n",
      "79.38241808038579 -8.31453724072276\n",
      "wow3 -1168793.2814442446 -146325.90159973237\n",
      "wow4 -621.5625280914937 -642.8603274118772\n",
      "Done.\n",
      "\n",
      "\n",
      "Estimating piecewise-affine transformation...\n",
      "Done.\n",
      "\n",
      "Warping C:\\Anna\\Icedrift\\Chalmers\\alignment_OOP\\alignment_test_data\\ensemble_experiment\\input_image\\subset_S1A_EW_GRDM_1SDH_20221119T072104_20221119T072208_045960_057FE5_E8B1_Orb_Cal_TC_HV.tif\n",
      "A new name of the file is C:\\Anna\\Icedrift\\Chalmers\\alignment_OOP\\alignment_test_data\\ensemble_experiment\\Sum_vector_experiment\\ensemble_sum\\5/Aligned_20221120T09_subset_S1A_EW_GRDM_1SDH_20221119T072104_20221119T072208_045960_057FE5_E8B1_Orb_Cal_TC_HV.tif\n",
      "CPU times: total: 15min 19s\n",
      "Wall time: 17min\n"
     ]
    }
   ],
   "source": [
    "%%time\n",
    "a = Alignment(img1_path=r'C:\\Anna\\Icedrift\\Chalmers\\alignment_OOP\\alignment_test_data\\ensemble_experiment\\input_image\\subset_S1A_EW_GRDM_1SDH_20221119T072104_20221119T072208_045960_057FE5_E8B1_Orb_Cal_TC_HV.tif',\n",
    "              img2_path=r'C:\\Anna\\Icedrift\\Chalmers\\alignment_OOP\\alignment_test_data\\images\\sub_3996\\subset_2_of_S1A_EW_GRDM_1SDH_20221120T080155_20221120T080259_045975_05805E_51E1_Orb_Cal_TC_HV.tif',\n",
    "              displacement_path=r\"C:\\Anna\\Icedrift\\Chalmers\\alignment_OOP\\alignment_test_data\\ensemble_experiment\\Sum_vector_experiment\\ensemble_sum\\ens10_19_20_nov_sum_drift_20221120T09.csv\",\n",
    "              out_path=r'C:\\Anna\\Icedrift\\Chalmers\\alignment_OOP\\alignment_test_data\\ensemble_experiment\\Sum_vector_experiment\\ensemble_sum\\5',\n",
    "              geocoded=True)"
   ]
  },
  {
   "cell_type": "code",
   "execution_count": 25,
   "id": "73fd9fb4-ab38-4f3f-b768-a7feb010ef5f",
   "metadata": {
    "collapsed": true,
    "hidden": true,
    "jupyter": {
     "outputs_hidden": true
    },
    "tags": []
   },
   "outputs": [
    {
     "name": "stdout",
     "output_type": "stream",
     "text": [
      "Alignment method: piecewise-affine\n",
      "\n",
      "Convert geocoded cooridnates to raster coordinates...\n",
      "79.65628051757812 -8.828641891479492\n",
      "wow3 -1135617.5582795101 -152852.05443175766\n",
      "wow4 -784.7163488921259 -728.8975283399841\n",
      "79.54446518935897 -8.445997268735509\n",
      "wow3 -1150822.0564679492 -147341.5383184825\n",
      "wow4 -646.9534460602467 -617.3110415231761\n",
      "Done.\n",
      "\n",
      "\n",
      "Estimating piecewise-affine transformation...\n",
      "Done.\n",
      "\n",
      "Warping C:\\Anna\\Icedrift\\Chalmers\\alignment_OOP\\alignment_test_data\\ensemble_experiment\\input_image\\subset_S1A_EW_GRDM_1SDH_20221119T072104_20221119T072208_045960_057FE5_E8B1_Orb_Cal_TC_HV.tif\n",
      "A new name of the file is C:\\Anna\\Icedrift\\Chalmers\\alignment_OOP\\alignment_test_data\\ensemble_experiment\\Sum_vector_experiment\\ensemble_sum\\6/Aligned_20221120T09_subset_S1A_EW_GRDM_1SDH_20221119T072104_20221119T072208_045960_057FE5_E8B1_Orb_Cal_TC_HV.tif\n",
      "CPU times: total: 15min 33s\n",
      "Wall time: 16min 40s\n"
     ]
    }
   ],
   "source": [
    "%%time\n",
    "a = Alignment(img1_path=r'C:\\Anna\\Icedrift\\Chalmers\\alignment_OOP\\alignment_test_data\\ensemble_experiment\\input_image\\subset_S1A_EW_GRDM_1SDH_20221119T072104_20221119T072208_045960_057FE5_E8B1_Orb_Cal_TC_HV.tif',\n",
    "              img2_path=r'C:\\Anna\\Icedrift\\Chalmers\\alignment_OOP\\alignment_test_data\\images\\sub_3996\\subset_2_of_S1A_EW_GRDM_1SDH_20221120T080155_20221120T080259_045975_05805E_51E1_Orb_Cal_TC_HV.tif',\n",
    "              displacement_path=r\"C:\\Anna\\Icedrift\\Chalmers\\alignment_OOP\\alignment_test_data\\ensemble_experiment\\Sum_vector_experiment\\ensemble_sum\\ens11_19_20_nov_sum_drift_20221120T09.csv\",\n",
    "              out_path=r'C:\\Anna\\Icedrift\\Chalmers\\alignment_OOP\\alignment_test_data\\ensemble_experiment\\Sum_vector_experiment\\ensemble_sum\\6',\n",
    "              geocoded=True)"
   ]
  },
  {
   "cell_type": "code",
   "execution_count": 6,
   "id": "0230c27f",
   "metadata": {
    "collapsed": true,
    "hidden": true,
    "jupyter": {
     "outputs_hidden": true
    },
    "scrolled": true,
    "tags": []
   },
   "outputs": [
    {
     "name": "stdout",
     "output_type": "stream",
     "text": [
      "Alignment method: piecewise-affine\n",
      "\n",
      "Convert geocoded cooridnates to raster coordinates...\n",
      "79.65628051757812 -8.828641891479492\n",
      "wow3 -1135617.5582795101 -152852.05443175766\n",
      "wow4 -784.7163488921259 -728.8975283399841\n",
      "79.65454864502162 -8.815737358529772\n",
      "wow3 -1135876.9705720677 -152688.1786688241\n",
      "wow4 -780.6194548187873 -727.0599076044315\n",
      "Done.\n",
      "\n",
      "\n",
      "Estimating piecewise-affine transformation...\n",
      "Done.\n",
      "\n",
      "Warping C:\\Anna\\Icedrift\\Chalmers\\alignment_OOP\\alignment_test_data\\ensemble_experiment\\input_image\\subset_S1A_EW_GRDM_1SDH_20221119T072104_20221119T072208_045960_057FE5_E8B1_Orb_Cal_TC_HV.tif\n",
      "A new name of the file is C:\\Anna\\Icedrift\\Chalmers\\alignment_OOP\\alignment_test_data\\ensemble_experiment\\output_image\\new/Aligned_0221119T082_subset_S1A_EW_GRDM_1SDH_20221119T072104_20221119T072208_045960_057FE5_E8B1_Orb_Cal_TC_HV.tif\n",
      "CPU times: total: 14min 43s\n",
      "Wall time: 16min 26s\n"
     ]
    }
   ],
   "source": [
    "%%time\n",
    "a = Alignment(img1_path=r'C:\\Anna\\Icedrift\\Chalmers\\alignment_OOP\\alignment_test_data\\ensemble_experiment\\input_image\\subset_S1A_EW_GRDM_1SDH_20221119T072104_20221119T072208_045960_057FE5_E8B1_Orb_Cal_TC_HV.tif',\n",
    "              img2_path=r'C:\\Anna\\Icedrift\\Chalmers\\alignment_OOP\\alignment_test_data\\ensemble_experiment\\sar2\\subset_S1A_EW_GRDM_1SDH_20221120T080155_20221120T080259_045975_05805E_51E1_Orb_Cal_TC_HV.tif',\n",
    "              displacement_path=r'C:\\Anna\\Icedrift\\Chalmers\\alignment_OOP\\alignment_test_data\\ensemble_experiment\\drift_lon_lat\\subset_mean_ens_19_20_nov_hourly_dirft_20221119T082.csv',\n",
    "              out_path=r'C:\\Anna\\Icedrift\\Chalmers\\alignment_OOP\\alignment_test_data\\ensemble_experiment\\output_image\\new',\n",
    "              geocoded=True)"
   ]
  },
  {
   "cell_type": "markdown",
   "id": "cd8f46d2-496b-433e-a48c-bcba4749ee2d",
   "metadata": {
    "tags": []
   },
   "source": [
    "### Running in batch for subset image and a list of csv files"
   ]
  },
  {
   "cell_type": "code",
   "execution_count": 4,
   "id": "45b97c56-76fd-4d92-8c47-6e84efc48be4",
   "metadata": {
    "tags": []
   },
   "outputs": [],
   "source": [
    "# Set paths to folders\n",
    "csv_folder = r\"C:\\Anna\\Icedrift\\Special_curriculum\\19-20_subset_experiment\\model_drift\\integrated_lambert\\drift_lon_lat\"\n",
    "tiff_folder = r\"C:\\Anna\\Icedrift\\Special_curriculum\\19-20_subset_experiment\\model_drift\\integrated_lambert\\Aligned_sar\"\n",
    "#output_folder = r\"C:\\Anna\\Icedrift\\Chalmers\\alignment_OOP\\alignment_test_data\\ensemble_experiment\\output_image\""
   ]
  },
  {
   "cell_type": "code",
   "execution_count": 5,
   "id": "16b81d29-3a9d-4316-ad9d-9357bc81a8ca",
   "metadata": {
    "tags": []
   },
   "outputs": [
    {
     "data": {
      "text/plain": [
       "'C:\\\\Anna\\\\Icedrift\\\\Special_curriculum\\\\19-20_subset_experiment\\\\model_drift\\\\integrated_lambert\\\\Aligned_sar\\\\subset_of_S1A_EW_GRDM_1SDH_20221119T072104_20221119T072208_045960_057FE5_E8B1_Orb_Cal_TC_HV.tif'"
      ]
     },
     "execution_count": 5,
     "metadata": {},
     "output_type": "execute_result"
    }
   ],
   "source": [
    "#Create a list of input tif files. At first, it's only one file\n",
    "tif_files = glob.glob(os.path.join(tiff_folder, '*.tif'))\n",
    "tif_files = sorted(tif_files, key=lambda x: os.path.getctime(os.path.join(tiff_folder, x)))\n",
    "#Create a list of all csv files with drift from input folder\n",
    "csv_files = glob.glob(os.path.join(csv_folder, '*.csv'))\n",
    "#sort according to the date and time specified at the end of the file name and before .csv\n",
    "csv_files = sorted(csv_files, key=lambda x: datetime.strptime(x[-15:-4], '%Y%m%dT%H'))\n",
    "#csv_files = sorted(os.listdir(csv_folder), key=lambda x: datetime.strptime(x[-15:-4], '%Y%m%dT%H'))\n",
    "tif_files[-1]"
   ]
  },
  {
   "cell_type": "code",
   "execution_count": 6,
   "id": "fc4b02e3-c52e-4f17-965f-1cffd5b0388f",
   "metadata": {
    "tags": []
   },
   "outputs": [
    {
     "name": "stdout",
     "output_type": "stream",
     "text": [
      "already done\n"
     ]
    }
   ],
   "source": [
    "for i, file in enumerate(csv_files):\n",
    "    if i == 0:\n",
    "        print(\"already done\")\n",
    "    else:\n",
    "        print(file)"
   ]
  },
  {
   "cell_type": "code",
   "execution_count": null,
   "id": "43beedfb-69d5-4cbe-854e-139dd2bfd84d",
   "metadata": {},
   "outputs": [],
   "source": [
    "#Version which work but it contains two separate modules\n",
    "#First to run on the original one image, then on each new aligned ones"
   ]
  },
  {
   "cell_type": "code",
   "execution_count": 17,
   "id": "47ed0d12-ca3f-4960-a5b7-39ebac26fc1b",
   "metadata": {
    "tags": []
   },
   "outputs": [
    {
     "name": "stdout",
     "output_type": "stream",
     "text": [
      "Alignment method: piecewise-affine\n",
      "\n",
      "Convert geocoded cooridnates to raster coordinates...\n",
      "77.32247924804688 -11.801506996154785\n",
      "wow3 -1385342.1764432844 -248487.6932314939\n",
      "wow4 -3417.607318885532 -4228.7199519054675\n",
      "77.32247924804686 -11.795346710832023\n",
      "wow3 -1385342.1764432858 -248421.7401339251\n",
      "wow4 -3415.958491446312 -4224.118165515657\n",
      "Done.\n",
      "\n",
      "\n",
      "Estimating piecewise-affine transformation...\n",
      "Done.\n",
      "\n",
      "Warping C:\\Anna\\Icedrift\\Special_curriculum\\19-20_subset_experiment\\model_drift\\iterative_lambert\\Aligned_sar\\subset_of_S1A_EW_GRDM_1SDH_20221119T072104_20221119T072208_045960_057FE5_E8B1_Orb_Cal_TC_HV.tif\n",
      "A new name of the file is C:\\Anna\\Icedrift\\Special_curriculum\\19-20_subset_experiment\\model_drift\\iterative_lambert\\Aligned_sar/Aligned_20221119T08_subset_of_S1A_EW_GRDM_1SDH_20221119T072104_20221119T072208_045960_057FE5_E8B1_Orb_Cal_TC_HV.tif\n",
      "Alignment finished in 91.2 minutes\n",
      "\n",
      "Alignment for csv file number 1 completed\n",
      "CPU times: total: 1h 23min 29s\n",
      "Wall time: 1h 31min 12s\n"
     ]
    }
   ],
   "source": [
    "%%time\n",
    "#1) i == 0\n",
    "\n",
    "#set general parameters for alignment\n",
    "img2_path = r'C:\\Anna\\Icedrift\\Chalmers\\alignment_OOP\\alignment_test_data\\full_extent_experiment_20_22Nov\\sar2\\S1A_EW_GRDM_1SDH_20221122T074535_20221122T074639_046004_05816B_9FC9_Orb_Cal_TC_HV.tif' #have to set it as alignment asks for it\n",
    "#Set outpath the same as input so all tiff would be saved in obe folder for further animation\n",
    "out_path = tiff_folder\n",
    "\n",
    "for i, file in enumerate(csv_files):\n",
    "    if i == 0:\n",
    "        #Runs alignment algortihm on the original tif for the first csv file\n",
    "        img1_path = tif_files[0]\n",
    "        displacement_path = os.path.join(csv_folder, csv_files[i])\n",
    "        #print(i, displacement_path)\n",
    "        \n",
    "        a = Alignment(img1_path = img1_path,\n",
    "                      img2_path = img2_path, \n",
    "                      displacement_path = displacement_path,\n",
    "                      out_path = out_path, \n",
    "                      geocoded=True)\n",
    "        print(f\"Alignment for csv file number {i+1} completed\")\n",
    "    else:\n",
    "        pass"
   ]
  },
  {
   "cell_type": "code",
   "execution_count": 18,
   "id": "2c75d5a8-1080-4baf-9e12-54a2fc26fe23",
   "metadata": {
    "tags": []
   },
   "outputs": [
    {
     "name": "stdout",
     "output_type": "stream",
     "text": [
      "already done\n",
      "Tiff folder now contains 2 files\n",
      "Alignment method: piecewise-affine\n",
      "\n",
      "Convert geocoded cooridnates to raster coordinates...\n",
      "77.32247924804688 -11.801506996154785\n",
      "wow3 -1385342.1764432844 -248487.6932314939\n",
      "wow4 -3417.607318885532 -4228.7199519054675\n",
      "77.32247924804686 -11.79171078651359\n",
      "wow3 -1385342.1764432858 -248384.1500597709\n",
      "wow4 -3415.018739592457 -4221.323741850028\n",
      "Done.\n",
      "\n",
      "\n",
      "Estimating piecewise-affine transformation...\n",
      "Done.\n",
      "\n",
      "Warping C:\\Anna\\Icedrift\\Special_curriculum\\19-20_subset_experiment\\model_drift\\iterative_lambert\\Aligned_sar\\Aligned_20221119T08_subset_of_S1A_EW_GRDM_1SDH_20221119T072104_20221119T072208_045960_057FE5_E8B1_Orb_Cal_TC_HV.tif\n",
      "A new name of the file is C:\\Anna\\Icedrift\\Special_curriculum\\19-20_subset_experiment\\model_drift\\iterative_lambert\\Aligned_sar/Aligned_20221119T09_subset_of_S1A_EW_GRDM_1SDH_20221119T072104_20221119T072208_045960_057FE5_E8B1_Orb_Cal_TC_HV.tif\n",
      "Alignment finished in 90.3 minutes\n",
      "\n",
      "Alignment for csv file number 2 completed\n",
      "Tiff folder now contains 3 files\n",
      "Alignment method: piecewise-affine\n",
      "\n",
      "Convert geocoded cooridnates to raster coordinates...\n",
      "77.32247924804688 -11.801506996154785\n",
      "wow3 -1385342.1764432844 -248487.6932314939\n",
      "wow4 -3417.607318885532 -4228.7199519054675\n",
      "77.32247924804686 -11.791867236745212\n",
      "wow3 -1385342.1764432858 -248388.48968491398\n",
      "wow4 -3415.127230221034 -4221.186635701844\n",
      "Done.\n",
      "\n",
      "\n",
      "Estimating piecewise-affine transformation...\n",
      "Done.\n",
      "\n",
      "Warping C:\\Anna\\Icedrift\\Special_curriculum\\19-20_subset_experiment\\model_drift\\iterative_lambert\\Aligned_sar\\Aligned_20221119T09_subset_of_S1A_EW_GRDM_1SDH_20221119T072104_20221119T072208_045960_057FE5_E8B1_Orb_Cal_TC_HV.tif\n",
      "A new name of the file is C:\\Anna\\Icedrift\\Special_curriculum\\19-20_subset_experiment\\model_drift\\iterative_lambert\\Aligned_sar/Aligned_20221119T10_subset_of_S1A_EW_GRDM_1SDH_20221119T072104_20221119T072208_045960_057FE5_E8B1_Orb_Cal_TC_HV.tif\n",
      "Alignment finished in 91.6 minutes\n",
      "\n",
      "Alignment for csv file number 3 completed\n",
      "Tiff folder now contains 4 files\n",
      "Alignment method: piecewise-affine\n",
      "\n",
      "Convert geocoded cooridnates to raster coordinates...\n",
      "77.32247924804688 -11.801506996154785\n",
      "wow3 -1385342.1764432844 -248487.6932314939\n",
      "wow4 -3417.607318885532 -4228.7199519054675\n",
      "77.32247924804686 -11.792015788604706\n",
      "wow3 -1385342.1764432858 -248392.45895468505\n",
      "wow4 -3415.2264619653106 -4220.969442422473\n",
      "Done.\n",
      "\n",
      "\n",
      "Estimating piecewise-affine transformation...\n",
      "Done.\n",
      "\n",
      "Warping C:\\Anna\\Icedrift\\Special_curriculum\\19-20_subset_experiment\\model_drift\\iterative_lambert\\Aligned_sar\\Aligned_20221119T10_subset_of_S1A_EW_GRDM_1SDH_20221119T072104_20221119T072208_045960_057FE5_E8B1_Orb_Cal_TC_HV.tif\n",
      "A new name of the file is C:\\Anna\\Icedrift\\Special_curriculum\\19-20_subset_experiment\\model_drift\\iterative_lambert\\Aligned_sar/Aligned_20221119T11_subset_of_S1A_EW_GRDM_1SDH_20221119T072104_20221119T072208_045960_057FE5_E8B1_Orb_Cal_TC_HV.tif\n",
      "Alignment finished in 90.1 minutes\n",
      "\n",
      "Alignment for csv file number 4 completed\n",
      "Tiff folder now contains 5 files\n",
      "Alignment method: piecewise-affine\n",
      "\n",
      "Convert geocoded cooridnates to raster coordinates...\n",
      "77.32247924804688 -11.801506996154785\n",
      "wow3 -1385342.1764432844 -248487.6932314939\n",
      "wow4 -3417.607318885532 -4228.7199519054675\n",
      "77.32247924804686 -11.792105274604738\n",
      "wow3 -1385342.1764432858 -248395.16484195655\n",
      "wow4 -3415.2941091470984 -4220.669030122782\n",
      "Done.\n",
      "\n",
      "\n",
      "Estimating piecewise-affine transformation...\n",
      "Done.\n",
      "\n",
      "Warping C:\\Anna\\Icedrift\\Special_curriculum\\19-20_subset_experiment\\model_drift\\iterative_lambert\\Aligned_sar\\Aligned_20221119T11_subset_of_S1A_EW_GRDM_1SDH_20221119T072104_20221119T072208_045960_057FE5_E8B1_Orb_Cal_TC_HV.tif\n",
      "A new name of the file is C:\\Anna\\Icedrift\\Special_curriculum\\19-20_subset_experiment\\model_drift\\iterative_lambert\\Aligned_sar/Aligned_20221119T12_subset_of_S1A_EW_GRDM_1SDH_20221119T072104_20221119T072208_045960_057FE5_E8B1_Orb_Cal_TC_HV.tif\n",
      "Alignment finished in 90.2 minutes\n",
      "\n",
      "Alignment for csv file number 5 completed\n",
      "Tiff folder now contains 6 files\n",
      "Alignment method: piecewise-affine\n",
      "\n",
      "Convert geocoded cooridnates to raster coordinates...\n",
      "77.32247924804688 -11.801506996154785\n",
      "wow3 -1385342.1764432844 -248487.6932314939\n",
      "wow4 -3417.607318885532 -4228.7199519054675\n",
      "77.32247924804686 -11.792162293365184\n",
      "wow3 -1385342.1764432858 -248396.73311097303\n",
      "wow4 -3415.3333158725104 -4220.333548838066\n",
      "Done.\n",
      "\n",
      "\n",
      "Estimating piecewise-affine transformation...\n",
      "Done.\n",
      "\n",
      "Warping C:\\Anna\\Icedrift\\Special_curriculum\\19-20_subset_experiment\\model_drift\\iterative_lambert\\Aligned_sar\\Aligned_20221119T12_subset_of_S1A_EW_GRDM_1SDH_20221119T072104_20221119T072208_045960_057FE5_E8B1_Orb_Cal_TC_HV.tif\n",
      "A new name of the file is C:\\Anna\\Icedrift\\Special_curriculum\\19-20_subset_experiment\\model_drift\\iterative_lambert\\Aligned_sar/Aligned_20221119T13_subset_of_S1A_EW_GRDM_1SDH_20221119T072104_20221119T072208_045960_057FE5_E8B1_Orb_Cal_TC_HV.tif\n",
      "Alignment finished in 91.5 minutes\n",
      "\n",
      "Alignment for csv file number 6 completed\n",
      "Tiff folder now contains 7 files\n",
      "Alignment method: piecewise-affine\n",
      "\n",
      "Convert geocoded cooridnates to raster coordinates...\n",
      "77.32247924804688 -11.801506996154785\n",
      "wow3 -1385342.1764432844 -248487.6932314939\n",
      "wow4 -3417.607318885532 -4228.7199519054675\n",
      "77.32247924804686 -11.792281822652372\n",
      "wow3 -1385342.1764432858 -248397.55952986697\n",
      "wow4 -3415.353976344859 -4220.00004648685\n",
      "Done.\n",
      "\n",
      "\n",
      "Estimating piecewise-affine transformation...\n",
      "Done.\n",
      "\n",
      "Warping C:\\Anna\\Icedrift\\Special_curriculum\\19-20_subset_experiment\\model_drift\\iterative_lambert\\Aligned_sar\\Aligned_20221119T13_subset_of_S1A_EW_GRDM_1SDH_20221119T072104_20221119T072208_045960_057FE5_E8B1_Orb_Cal_TC_HV.tif\n",
      "A new name of the file is C:\\Anna\\Icedrift\\Special_curriculum\\19-20_subset_experiment\\model_drift\\iterative_lambert\\Aligned_sar/Aligned_20221119T14_subset_of_S1A_EW_GRDM_1SDH_20221119T072104_20221119T072208_045960_057FE5_E8B1_Orb_Cal_TC_HV.tif\n",
      "Alignment finished in 92.0 minutes\n",
      "\n",
      "Alignment for csv file number 7 completed\n",
      "Tiff folder now contains 8 files\n",
      "Alignment method: piecewise-affine\n",
      "\n",
      "Convert geocoded cooridnates to raster coordinates...\n",
      "77.32247924804688 -11.801506996154785\n",
      "wow3 -1385342.1764432844 -248487.6932314939\n",
      "wow4 -3417.607318885532 -4228.7199519054675\n",
      "77.32247924804686 -11.792389081968567\n",
      "wow3 -1385342.1764432858 -248396.314813441\n",
      "wow4 -3415.322858434209 -4219.707406723348\n",
      "Done.\n",
      "\n",
      "\n",
      "Estimating piecewise-affine transformation...\n",
      "Done.\n",
      "\n",
      "Warping C:\\Anna\\Icedrift\\Special_curriculum\\19-20_subset_experiment\\model_drift\\iterative_lambert\\Aligned_sar\\Aligned_20221119T14_subset_of_S1A_EW_GRDM_1SDH_20221119T072104_20221119T072208_045960_057FE5_E8B1_Orb_Cal_TC_HV.tif\n",
      "A new name of the file is C:\\Anna\\Icedrift\\Special_curriculum\\19-20_subset_experiment\\model_drift\\iterative_lambert\\Aligned_sar/Aligned_20221119T15_subset_of_S1A_EW_GRDM_1SDH_20221119T072104_20221119T072208_045960_057FE5_E8B1_Orb_Cal_TC_HV.tif\n",
      "Alignment finished in 90.7 minutes\n",
      "\n",
      "Alignment for csv file number 8 completed\n",
      "Tiff folder now contains 9 files\n",
      "Alignment method: piecewise-affine\n",
      "\n",
      "Convert geocoded cooridnates to raster coordinates...\n",
      "77.32247924804688 -11.801506996154785\n",
      "wow3 -1385342.1764432844 -248487.6932314939\n",
      "wow4 -3417.607318885532 -4228.7199519054675\n",
      "77.32247924804686 -11.792389092245115\n",
      "wow3 -1385342.1764432858 -248392.49020430414\n",
      "wow4 -3415.227243205788 -4219.429470663718\n",
      "Done.\n",
      "\n",
      "\n",
      "Estimating piecewise-affine transformation...\n",
      "Done.\n",
      "\n",
      "Warping C:\\Anna\\Icedrift\\Special_curriculum\\19-20_subset_experiment\\model_drift\\iterative_lambert\\Aligned_sar\\Aligned_20221119T15_subset_of_S1A_EW_GRDM_1SDH_20221119T072104_20221119T072208_045960_057FE5_E8B1_Orb_Cal_TC_HV.tif\n",
      "A new name of the file is C:\\Anna\\Icedrift\\Special_curriculum\\19-20_subset_experiment\\model_drift\\iterative_lambert\\Aligned_sar/Aligned_20221119T16_subset_of_S1A_EW_GRDM_1SDH_20221119T072104_20221119T072208_045960_057FE5_E8B1_Orb_Cal_TC_HV.tif\n",
      "Alignment finished in 90.6 minutes\n",
      "\n",
      "Alignment for csv file number 9 completed\n",
      "Tiff folder now contains 10 files\n",
      "Alignment method: piecewise-affine\n",
      "\n",
      "Convert geocoded cooridnates to raster coordinates...\n",
      "77.32247924804688 -11.801506996154785\n",
      "wow3 -1385342.1764432844 -248487.6932314939\n",
      "wow4 -3417.607318885532 -4228.7199519054675\n",
      "77.32247924804686 -11.79238456238447\n",
      "wow3 -1385342.1764432858 -248388.84371323843\n",
      "wow4 -3415.1360809291455 -4219.126032704272\n",
      "Done.\n",
      "\n",
      "\n",
      "Estimating piecewise-affine transformation...\n",
      "Done.\n",
      "\n",
      "Warping C:\\Anna\\Icedrift\\Special_curriculum\\19-20_subset_experiment\\model_drift\\iterative_lambert\\Aligned_sar\\Aligned_20221119T16_subset_of_S1A_EW_GRDM_1SDH_20221119T072104_20221119T072208_045960_057FE5_E8B1_Orb_Cal_TC_HV.tif\n",
      "A new name of the file is C:\\Anna\\Icedrift\\Special_curriculum\\19-20_subset_experiment\\model_drift\\iterative_lambert\\Aligned_sar/Aligned_20221119T17_subset_of_S1A_EW_GRDM_1SDH_20221119T072104_20221119T072208_045960_057FE5_E8B1_Orb_Cal_TC_HV.tif\n",
      "Alignment finished in 90.9 minutes\n",
      "\n",
      "Alignment for csv file number 10 completed\n",
      "Tiff folder now contains 11 files\n",
      "Alignment method: piecewise-affine\n",
      "\n",
      "Convert geocoded cooridnates to raster coordinates...\n",
      "77.32247924804688 -11.801506996154785\n",
      "wow3 -1385342.1764432844 -248487.6932314939\n",
      "wow4 -3417.607318885532 -4228.7199519054675\n",
      "77.32247924804686 -11.792359173939193\n",
      "wow3 -1385342.1764432858 -248385.92021810068\n",
      "wow4 -3415.062993550702 -4218.834184963009\n",
      "Done.\n",
      "\n",
      "\n",
      "Estimating piecewise-affine transformation...\n",
      "Done.\n",
      "\n",
      "Warping C:\\Anna\\Icedrift\\Special_curriculum\\19-20_subset_experiment\\model_drift\\iterative_lambert\\Aligned_sar\\Aligned_20221119T17_subset_of_S1A_EW_GRDM_1SDH_20221119T072104_20221119T072208_045960_057FE5_E8B1_Orb_Cal_TC_HV.tif\n",
      "A new name of the file is C:\\Anna\\Icedrift\\Special_curriculum\\19-20_subset_experiment\\model_drift\\iterative_lambert\\Aligned_sar/Aligned_20221119T18_subset_of_S1A_EW_GRDM_1SDH_20221119T072104_20221119T072208_045960_057FE5_E8B1_Orb_Cal_TC_HV.tif\n",
      "Alignment finished in 92.0 minutes\n",
      "\n",
      "Alignment for csv file number 11 completed\n",
      "Tiff folder now contains 12 files\n",
      "Alignment method: piecewise-affine\n",
      "\n",
      "Convert geocoded cooridnates to raster coordinates...\n",
      "77.32247924804688 -11.801506996154785\n",
      "wow3 -1385342.1764432844 -248487.6932314939\n",
      "wow4 -3417.607318885532 -4228.7199519054675\n",
      "77.32247924804686 -11.792282290368615\n",
      "wow3 -1385342.1764432858 -248383.17864051592\n",
      "wow4 -3414.9944541110826 -4218.602693121214\n",
      "Done.\n",
      "\n",
      "\n",
      "Estimating piecewise-affine transformation...\n",
      "Done.\n",
      "\n",
      "Warping C:\\Anna\\Icedrift\\Special_curriculum\\19-20_subset_experiment\\model_drift\\iterative_lambert\\Aligned_sar\\Aligned_20221119T18_subset_of_S1A_EW_GRDM_1SDH_20221119T072104_20221119T072208_045960_057FE5_E8B1_Orb_Cal_TC_HV.tif\n",
      "A new name of the file is C:\\Anna\\Icedrift\\Special_curriculum\\19-20_subset_experiment\\model_drift\\iterative_lambert\\Aligned_sar/Aligned_20221119T19_subset_of_S1A_EW_GRDM_1SDH_20221119T072104_20221119T072208_045960_057FE5_E8B1_Orb_Cal_TC_HV.tif\n",
      "Alignment finished in 92.4 minutes\n",
      "\n",
      "Alignment for csv file number 12 completed\n",
      "Tiff folder now contains 13 files\n",
      "Alignment method: piecewise-affine\n",
      "\n",
      "Convert geocoded cooridnates to raster coordinates...\n",
      "77.32247924804688 -11.801506996154785\n",
      "wow3 -1385342.1764432844 -248487.6932314939\n",
      "wow4 -3417.607318885532 -4228.7199519054675\n",
      "77.32247924804686 -11.792140164100777\n",
      "wow3 -1385342.1764432858 -248379.76850804265\n",
      "wow4 -3414.909200799251 -4218.444458754044\n",
      "Done.\n",
      "\n",
      "\n",
      "Estimating piecewise-affine transformation...\n",
      "Done.\n",
      "\n",
      "Warping C:\\Anna\\Icedrift\\Special_curriculum\\19-20_subset_experiment\\model_drift\\iterative_lambert\\Aligned_sar\\Aligned_20221119T19_subset_of_S1A_EW_GRDM_1SDH_20221119T072104_20221119T072208_045960_057FE5_E8B1_Orb_Cal_TC_HV.tif\n",
      "A new name of the file is C:\\Anna\\Icedrift\\Special_curriculum\\19-20_subset_experiment\\model_drift\\iterative_lambert\\Aligned_sar/Aligned_20221119T20_subset_of_S1A_EW_GRDM_1SDH_20221119T072104_20221119T072208_045960_057FE5_E8B1_Orb_Cal_TC_HV.tif\n",
      "Alignment finished in 90.9 minutes\n",
      "\n",
      "Alignment for csv file number 13 completed\n",
      "Tiff folder now contains 14 files\n",
      "Alignment method: piecewise-affine\n",
      "\n",
      "Convert geocoded cooridnates to raster coordinates...\n",
      "77.32247924804688 -11.801506996154785\n",
      "wow3 -1385342.1764432844 -248487.6932314939\n",
      "wow4 -3417.607318885532 -4228.7199519054675\n",
      "77.32247924804686 -11.791983325634726\n",
      "wow3 -1385342.1764432858 -248376.12867871905\n",
      "wow4 -3414.8182050661608 -4218.338237478654\n",
      "Done.\n",
      "\n",
      "\n",
      "Estimating piecewise-affine transformation...\n",
      "Done.\n",
      "\n",
      "Warping C:\\Anna\\Icedrift\\Special_curriculum\\19-20_subset_experiment\\model_drift\\iterative_lambert\\Aligned_sar\\Aligned_20221119T20_subset_of_S1A_EW_GRDM_1SDH_20221119T072104_20221119T072208_045960_057FE5_E8B1_Orb_Cal_TC_HV.tif\n",
      "A new name of the file is C:\\Anna\\Icedrift\\Special_curriculum\\19-20_subset_experiment\\model_drift\\iterative_lambert\\Aligned_sar/Aligned_20221119T21_subset_of_S1A_EW_GRDM_1SDH_20221119T072104_20221119T072208_045960_057FE5_E8B1_Orb_Cal_TC_HV.tif\n",
      "Alignment finished in 91.9 minutes\n",
      "\n",
      "Alignment for csv file number 14 completed\n",
      "Tiff folder now contains 15 files\n",
      "Alignment method: piecewise-affine\n",
      "\n",
      "Convert geocoded cooridnates to raster coordinates...\n",
      "77.32247924804688 -11.801506996154785\n",
      "wow3 -1385342.1764432844 -248487.6932314939\n",
      "wow4 -3417.607318885532 -4228.7199519054675\n",
      "77.32247924804686 -11.791887164364878\n",
      "wow3 -1385342.1764432858 -248373.61070512896\n",
      "wow4 -3414.7552557264084 -4218.282745095942\n",
      "Done.\n",
      "\n",
      "\n",
      "Estimating piecewise-affine transformation...\n",
      "Done.\n",
      "\n",
      "Warping C:\\Anna\\Icedrift\\Special_curriculum\\19-20_subset_experiment\\model_drift\\iterative_lambert\\Aligned_sar\\Aligned_20221119T21_subset_of_S1A_EW_GRDM_1SDH_20221119T072104_20221119T072208_045960_057FE5_E8B1_Orb_Cal_TC_HV.tif\n",
      "A new name of the file is C:\\Anna\\Icedrift\\Special_curriculum\\19-20_subset_experiment\\model_drift\\iterative_lambert\\Aligned_sar/Aligned_20221119T22_subset_of_S1A_EW_GRDM_1SDH_20221119T072104_20221119T072208_045960_057FE5_E8B1_Orb_Cal_TC_HV.tif\n",
      "Alignment finished in 91.1 minutes\n",
      "\n",
      "Alignment for csv file number 15 completed\n",
      "Tiff folder now contains 16 files\n",
      "Alignment method: piecewise-affine\n",
      "\n",
      "Convert geocoded cooridnates to raster coordinates...\n",
      "77.32247924804688 -11.801506996154785\n",
      "wow3 -1385342.1764432844 -248487.6932314939\n",
      "wow4 -3417.607318885532 -4228.7199519054675\n",
      "77.32247924804686 -11.791722347317634\n",
      "wow3 -1385342.1764432858 -248369.0825810592\n",
      "wow4 -3414.6420526246643 -4218.266718607562\n",
      "Done.\n",
      "\n",
      "\n",
      "Estimating piecewise-affine transformation...\n",
      "Done.\n",
      "\n",
      "Warping C:\\Anna\\Icedrift\\Special_curriculum\\19-20_subset_experiment\\model_drift\\iterative_lambert\\Aligned_sar\\Aligned_20221119T22_subset_of_S1A_EW_GRDM_1SDH_20221119T072104_20221119T072208_045960_057FE5_E8B1_Orb_Cal_TC_HV.tif\n",
      "A new name of the file is C:\\Anna\\Icedrift\\Special_curriculum\\19-20_subset_experiment\\model_drift\\iterative_lambert\\Aligned_sar/Aligned_20221119T23_subset_of_S1A_EW_GRDM_1SDH_20221119T072104_20221119T072208_045960_057FE5_E8B1_Orb_Cal_TC_HV.tif\n",
      "Alignment finished in 91.7 minutes\n",
      "\n",
      "Alignment for csv file number 16 completed\n",
      "Tiff folder now contains 17 files\n",
      "Alignment method: piecewise-affine\n",
      "\n",
      "Convert geocoded cooridnates to raster coordinates...\n",
      "77.32247924804688 -11.801506996154785\n",
      "wow3 -1385342.1764432844 -248487.6932314939\n",
      "wow4 -3417.607318885532 -4228.7199519054675\n",
      "77.32247924804686 -11.791495687546993\n",
      "wow3 -1385342.1764432858 -248362.53297063647\n",
      "wow4 -3414.4783123640964 -4218.278969881922\n",
      "Done.\n",
      "\n",
      "\n",
      "Estimating piecewise-affine transformation...\n",
      "Done.\n",
      "\n",
      "Warping C:\\Anna\\Icedrift\\Special_curriculum\\19-20_subset_experiment\\model_drift\\iterative_lambert\\Aligned_sar\\Aligned_20221119T23_subset_of_S1A_EW_GRDM_1SDH_20221119T072104_20221119T072208_045960_057FE5_E8B1_Orb_Cal_TC_HV.tif\n",
      "A new name of the file is C:\\Anna\\Icedrift\\Special_curriculum\\19-20_subset_experiment\\model_drift\\iterative_lambert\\Aligned_sar/Aligned_20221120T00_subset_of_S1A_EW_GRDM_1SDH_20221119T072104_20221119T072208_045960_057FE5_E8B1_Orb_Cal_TC_HV.tif\n",
      "Alignment finished in 91.8 minutes\n",
      "\n",
      "Alignment for csv file number 17 completed\n",
      "Tiff folder now contains 18 files\n",
      "Alignment method: piecewise-affine\n",
      "\n",
      "Convert geocoded cooridnates to raster coordinates...\n",
      "77.32247924804688 -11.801506996154785\n",
      "wow3 -1385342.1764432844 -248487.6932314939\n",
      "wow4 -3417.607318885532 -4228.7199519054675\n",
      "77.32247924804686 -11.791263167175915\n",
      "wow3 -1385342.1764432858 -248355.80371612334\n",
      "wow4 -3414.310081001268 -4218.319004126638\n",
      "Done.\n",
      "\n",
      "\n",
      "Estimating piecewise-affine transformation...\n",
      "Done.\n",
      "\n",
      "Warping C:\\Anna\\Icedrift\\Special_curriculum\\19-20_subset_experiment\\model_drift\\iterative_lambert\\Aligned_sar\\Aligned_20221120T00_subset_of_S1A_EW_GRDM_1SDH_20221119T072104_20221119T072208_045960_057FE5_E8B1_Orb_Cal_TC_HV.tif\n",
      "A new name of the file is C:\\Anna\\Icedrift\\Special_curriculum\\19-20_subset_experiment\\model_drift\\iterative_lambert\\Aligned_sar/Aligned_20221120T01_subset_of_S1A_EW_GRDM_1SDH_20221119T072104_20221119T072208_045960_057FE5_E8B1_Orb_Cal_TC_HV.tif\n",
      "Alignment finished in 90.6 minutes\n",
      "\n",
      "Alignment for csv file number 18 completed\n",
      "Tiff folder now contains 19 files\n",
      "Alignment method: piecewise-affine\n",
      "\n",
      "Convert geocoded cooridnates to raster coordinates...\n",
      "77.32247924804688 -11.801506996154785\n",
      "wow3 -1385342.1764432844 -248487.6932314939\n",
      "wow4 -3417.607318885532 -4228.7199519054675\n",
      "77.32247924804686 -11.791043393138589\n",
      "wow3 -1385342.1764432858 -248349.427390698\n",
      "wow4 -3414.1506728656345 -4218.352835869181\n",
      "Done.\n",
      "\n",
      "\n",
      "Estimating piecewise-affine transformation...\n",
      "Done.\n",
      "\n",
      "Warping C:\\Anna\\Icedrift\\Special_curriculum\\19-20_subset_experiment\\model_drift\\iterative_lambert\\Aligned_sar\\Aligned_20221120T01_subset_of_S1A_EW_GRDM_1SDH_20221119T072104_20221119T072208_045960_057FE5_E8B1_Orb_Cal_TC_HV.tif\n",
      "A new name of the file is C:\\Anna\\Icedrift\\Special_curriculum\\19-20_subset_experiment\\model_drift\\iterative_lambert\\Aligned_sar/Aligned_20221120T02_subset_of_S1A_EW_GRDM_1SDH_20221119T072104_20221119T072208_045960_057FE5_E8B1_Orb_Cal_TC_HV.tif\n",
      "Alignment finished in 92.0 minutes\n",
      "\n",
      "Alignment for csv file number 19 completed\n",
      "Tiff folder now contains 20 files\n",
      "Alignment method: piecewise-affine\n",
      "\n",
      "Convert geocoded cooridnates to raster coordinates...\n",
      "77.32247924804688 -11.801506996154785\n",
      "wow3 -1385342.1764432844 -248487.6932314939\n",
      "wow4 -3417.607318885532 -4228.7199519054675\n",
      "77.32247924804686 -11.790865479084248\n",
      "wow3 -1385342.1764432858 -248344.08532940352\n",
      "wow4 -3414.0171213332724 -4218.339668669468\n",
      "Done.\n",
      "\n",
      "\n",
      "Estimating piecewise-affine transformation...\n",
      "Done.\n",
      "\n",
      "Warping C:\\Anna\\Icedrift\\Special_curriculum\\19-20_subset_experiment\\model_drift\\iterative_lambert\\Aligned_sar\\Aligned_20221120T02_subset_of_S1A_EW_GRDM_1SDH_20221119T072104_20221119T072208_045960_057FE5_E8B1_Orb_Cal_TC_HV.tif\n",
      "A new name of the file is C:\\Anna\\Icedrift\\Special_curriculum\\19-20_subset_experiment\\model_drift\\iterative_lambert\\Aligned_sar/Aligned_20221120T03_subset_of_S1A_EW_GRDM_1SDH_20221119T072104_20221119T072208_045960_057FE5_E8B1_Orb_Cal_TC_HV.tif\n",
      "Alignment finished in 90.6 minutes\n",
      "\n",
      "Alignment for csv file number 20 completed\n",
      "Tiff folder now contains 21 files\n",
      "Alignment method: piecewise-affine\n",
      "\n",
      "Convert geocoded cooridnates to raster coordinates...\n",
      "77.32247924804688 -11.801506996154785\n",
      "wow3 -1385342.1764432844 -248487.6932314939\n",
      "wow4 -3417.607318885532 -4228.7199519054675\n",
      "77.32247924804686 -11.790723732818586\n",
      "wow3 -1385342.1764432858 -248339.90263664917\n",
      "wow4 -3413.912554014414 -4218.292700696181\n",
      "Done.\n",
      "\n",
      "\n",
      "Estimating piecewise-affine transformation...\n",
      "Done.\n",
      "\n",
      "Warping C:\\Anna\\Icedrift\\Special_curriculum\\19-20_subset_experiment\\model_drift\\iterative_lambert\\Aligned_sar\\Aligned_20221120T03_subset_of_S1A_EW_GRDM_1SDH_20221119T072104_20221119T072208_045960_057FE5_E8B1_Orb_Cal_TC_HV.tif\n",
      "A new name of the file is C:\\Anna\\Icedrift\\Special_curriculum\\19-20_subset_experiment\\model_drift\\iterative_lambert\\Aligned_sar/Aligned_20221120T04_subset_of_S1A_EW_GRDM_1SDH_20221119T072104_20221119T072208_045960_057FE5_E8B1_Orb_Cal_TC_HV.tif\n",
      "Alignment finished in 91.1 minutes\n",
      "\n",
      "Alignment for csv file number 21 completed\n",
      "Tiff folder now contains 22 files\n",
      "Alignment method: piecewise-affine\n",
      "\n",
      "Convert geocoded cooridnates to raster coordinates...\n",
      "77.32247924804688 -11.801506996154785\n",
      "wow3 -1385342.1764432844 -248487.6932314939\n",
      "wow4 -3417.607318885532 -4228.7199519054675\n",
      "77.32247924804686 -11.790616328610287\n",
      "wow3 -1385342.1764432858 -248336.85644092096\n",
      "wow4 -3413.8363991212086 -4218.226444036642\n",
      "Done.\n",
      "\n",
      "\n",
      "Estimating piecewise-affine transformation...\n",
      "Done.\n",
      "\n",
      "Warping C:\\Anna\\Icedrift\\Special_curriculum\\19-20_subset_experiment\\model_drift\\iterative_lambert\\Aligned_sar\\Aligned_20221120T04_subset_of_S1A_EW_GRDM_1SDH_20221119T072104_20221119T072208_045960_057FE5_E8B1_Orb_Cal_TC_HV.tif\n",
      "A new name of the file is C:\\Anna\\Icedrift\\Special_curriculum\\19-20_subset_experiment\\model_drift\\iterative_lambert\\Aligned_sar/Aligned_20221120T05_subset_of_S1A_EW_GRDM_1SDH_20221119T072104_20221119T072208_045960_057FE5_E8B1_Orb_Cal_TC_HV.tif\n",
      "Alignment finished in 92.3 minutes\n",
      "\n",
      "Alignment for csv file number 22 completed\n",
      "Tiff folder now contains 23 files\n",
      "Alignment method: piecewise-affine\n",
      "\n",
      "Convert geocoded cooridnates to raster coordinates...\n",
      "77.32247924804688 -11.801506996154785\n",
      "wow3 -1385342.1764432844 -248487.6932314939\n",
      "wow4 -3417.607318885532 -4228.7199519054675\n",
      "77.32247924804686 -11.790548315015432\n",
      "wow3 -1385342.1764432858 -248334.81835981985\n",
      "wow4 -3413.785447093681 -4218.154936085863\n",
      "Done.\n",
      "\n",
      "\n",
      "Estimating piecewise-affine transformation...\n",
      "Done.\n",
      "\n",
      "Warping C:\\Anna\\Icedrift\\Special_curriculum\\19-20_subset_experiment\\model_drift\\iterative_lambert\\Aligned_sar\\Aligned_20221120T05_subset_of_S1A_EW_GRDM_1SDH_20221119T072104_20221119T072208_045960_057FE5_E8B1_Orb_Cal_TC_HV.tif\n",
      "A new name of the file is C:\\Anna\\Icedrift\\Special_curriculum\\19-20_subset_experiment\\model_drift\\iterative_lambert\\Aligned_sar/Aligned_20221120T06_subset_of_S1A_EW_GRDM_1SDH_20221119T072104_20221119T072208_045960_057FE5_E8B1_Orb_Cal_TC_HV.tif\n",
      "Alignment finished in 90.0 minutes\n",
      "\n",
      "Alignment for csv file number 23 completed\n",
      "Tiff folder now contains 24 files\n",
      "Alignment method: piecewise-affine\n",
      "\n",
      "Convert geocoded cooridnates to raster coordinates...\n",
      "77.32247924804688 -11.801506996154785\n",
      "wow3 -1385342.1764432844 -248487.6932314939\n",
      "wow4 -3417.607318885532 -4228.7199519054675\n",
      "77.32247924804686 -11.790517799976245\n",
      "wow3 -1385342.1764432858 -248333.64480501966\n",
      "wow4 -3413.756108223676 -4218.055619899702\n",
      "Done.\n",
      "\n",
      "\n",
      "Estimating piecewise-affine transformation...\n",
      "Done.\n",
      "\n",
      "Warping C:\\Anna\\Icedrift\\Special_curriculum\\19-20_subset_experiment\\model_drift\\iterative_lambert\\Aligned_sar\\Aligned_20221120T06_subset_of_S1A_EW_GRDM_1SDH_20221119T072104_20221119T072208_045960_057FE5_E8B1_Orb_Cal_TC_HV.tif\n",
      "A new name of the file is C:\\Anna\\Icedrift\\Special_curriculum\\19-20_subset_experiment\\model_drift\\iterative_lambert\\Aligned_sar/Aligned_20221120T07_subset_of_S1A_EW_GRDM_1SDH_20221119T072104_20221119T072208_045960_057FE5_E8B1_Orb_Cal_TC_HV.tif\n",
      "Alignment finished in 91.1 minutes\n",
      "\n",
      "Alignment for csv file number 24 completed\n",
      "Tiff folder now contains 25 files\n",
      "Alignment method: piecewise-affine\n",
      "\n",
      "Convert geocoded cooridnates to raster coordinates...\n",
      "77.32247924804688 -11.801506996154785\n",
      "wow3 -1385342.1764432844 -248487.6932314939\n",
      "wow4 -3417.607318885532 -4228.7199519054675\n",
      "77.32247924804686 -11.790464600429026\n",
      "wow3 -1385342.1764432858 -248332.0043526494\n",
      "wow4 -3413.71509691442 -4217.967291278451\n",
      "Done.\n",
      "\n",
      "\n",
      "Estimating piecewise-affine transformation...\n",
      "Done.\n",
      "\n",
      "Warping C:\\Anna\\Icedrift\\Special_curriculum\\19-20_subset_experiment\\model_drift\\iterative_lambert\\Aligned_sar\\Aligned_20221120T07_subset_of_S1A_EW_GRDM_1SDH_20221119T072104_20221119T072208_045960_057FE5_E8B1_Orb_Cal_TC_HV.tif\n",
      "A new name of the file is C:\\Anna\\Icedrift\\Special_curriculum\\19-20_subset_experiment\\model_drift\\iterative_lambert\\Aligned_sar/Aligned_20221120T08_subset_of_S1A_EW_GRDM_1SDH_20221119T072104_20221119T072208_045960_057FE5_E8B1_Orb_Cal_TC_HV.tif\n",
      "Alignment finished in 91.0 minutes\n",
      "\n",
      "Alignment for csv file number 25 completed\n",
      "Tiff folder now contains 26 files\n",
      "Alignment method: piecewise-affine\n",
      "\n",
      "Convert geocoded cooridnates to raster coordinates...\n",
      "77.32247924804688 -11.801506996154785\n",
      "wow3 -1385342.1764432844 -248487.6932314939\n",
      "wow4 -3417.607318885532 -4228.7199519054675\n",
      "77.32247924804686 -11.80094733738757\n",
      "wow3 -1385342.1764432858 -248479.68230181903\n",
      "wow4 -3417.4070456436602 -4228.184504397324\n",
      "Done.\n",
      "\n",
      "\n",
      "Estimating piecewise-affine transformation...\n",
      "Done.\n",
      "\n",
      "Warping C:\\Anna\\Icedrift\\Special_curriculum\\19-20_subset_experiment\\model_drift\\iterative_lambert\\Aligned_sar\\Aligned_20221120T08_subset_of_S1A_EW_GRDM_1SDH_20221119T072104_20221119T072208_045960_057FE5_E8B1_Orb_Cal_TC_HV.tif\n",
      "A new name of the file is C:\\Anna\\Icedrift\\Special_curriculum\\19-20_subset_experiment\\model_drift\\iterative_lambert\\Aligned_sar/Aligned_20221120T09_subset_of_S1A_EW_GRDM_1SDH_20221119T072104_20221119T072208_045960_057FE5_E8B1_Orb_Cal_TC_HV.tif\n",
      "Alignment finished in 91.2 minutes\n",
      "\n",
      "Alignment for csv file number 26 completed\n",
      "CPU times: total: 1d 10h 15min 35s\n",
      "Wall time: 1d 13h 59min 29s\n"
     ]
    }
   ],
   "source": [
    "%%time\n",
    "#2) i > 0\n",
    "\n",
    "#set general parameters for alignment\n",
    "img2_path = r'C:\\Anna\\Icedrift\\Chalmers\\alignment_OOP\\alignment_test_data\\full_extent_experiment_20_22Nov\\sar2\\S1A_EW_GRDM_1SDH_20221122T074535_20221122T074639_046004_05816B_9FC9_Orb_Cal_TC_HV.tif' #have to set it as alignment asks for it\n",
    "#Set outpath the same as input so all tiff would be saved in obe folder for further animation\n",
    "out_path = tiff_folder\n",
    "\n",
    "for i, file in enumerate(csv_files):\n",
    "    if i == 0:\n",
    "        print(\"already done\")\n",
    "\n",
    "    if i > 0:\n",
    "\n",
    "        #First, update a list of tif files. I use this as I don't know how to get output out of Denis's class to append it to the list\n",
    "        tif_files = glob.glob(os.path.join(tiff_folder, '*.tif'))\n",
    "\n",
    "        #sorting the list by creation time. if I would just append, I'd use tif_files[-1] immidiatly\n",
    "        tif_files = sorted(tif_files, key=lambda x: os.path.getctime(os.path.join(tiff_folder, x)))\n",
    "        print(f\"Tiff folder now contains {len(tif_files)} files\")\n",
    "\n",
    "        #Using the last created aligned tif file from the list     \n",
    "        img1_path = tif_files[-1]\n",
    "        displacement_path = os.path.join(csv_folder, csv_files[i])\n",
    "        \n",
    "        a = Alignment(img1_path = img1_path,\n",
    "              img2_path = img2_path,\n",
    "              displacement_path = displacement_path,\n",
    "              out_path = out_path,\n",
    "              geocoded=True)\n",
    "        print(f\"Alignment for csv file number {i+1} completed\")\n"
   ]
  },
  {
   "cell_type": "code",
   "execution_count": null,
   "id": "fb3988cf-9f1d-4784-90fc-e844c6cabba5",
   "metadata": {
    "tags": []
   },
   "outputs": [
    {
     "name": "stdout",
     "output_type": "stream",
     "text": [
      "Alignment method: piecewise-affine\n",
      "\n",
      "Convert geocoded cooridnates to raster coordinates...\n",
      "79.65628051757812 -8.828641891479492\n",
      "wow3 -1135617.5582795101 -152852.05443175766\n",
      "wow4 -784.7163488921259 -728.8975283399841\n",
      "79.65455873074836 -8.81192071532945\n",
      "wow3 -1135862.735876632 -152649.2009924326\n",
      "wow4 -779.6450129089994 -727.3873988878947\n",
      "Done.\n",
      "\n",
      "\n",
      "Estimating piecewise-affine transformation...\n",
      "Done.\n",
      "\n",
      "Warping C:\\Anna\\Icedrift\\Chalmers\\alignment_OOP\\alignment_test_data\\ensemble_experiment\\ens8_hourly_drift\\sar_images\\subset_S1A_EW_GRDM_1SDH_20221119T072104_20221119T072208_045960_057FE5_E8B1_Orb_Cal_TC_HV.tif\n",
      "A new name of the file is C:\\Anna\\Icedrift\\Chalmers\\alignment_OOP\\alignment_test_data\\ensemble_experiment\\ens8_hourly_drift\\sar_images/Aligned_20221119T08_subset_S1A_EW_GRDM_1SDH_20221119T072104_20221119T072208_045960_057FE5_E8B1_Orb_Cal_TC_HV.tif\n"
     ]
    }
   ],
   "source": [
    "#Version which for some reason doesn't work (but try to run again.\n",
    "#I checnged ALign.py and now it names first files without \"Aligned\" in the beginning and just then with\n",
    "\n",
    "#set general parameters for alignment\n",
    "img2_path = r'C:\\Anna\\Icedrift\\Chalmers\\alignment_OOP\\alignment_test_data\\ensemble_experiment\\sar2\\subset_S1A_EW_GRDM_1SDH_20221120T080155_20221120T080259_045975_05805E_51E1_Orb_Cal_TC_HV.tif' #have to set it as alignment asks for it\n",
    "#Set outpath the same as input so all tiff would be saved in obe folder for further animation\n",
    "out_path = tiff_folder\n",
    "\n",
    "for i, file in enumerate(csv_files):\n",
    "    if i == 0:\n",
    "        #Runs alignment algortihm on the original tif for the first csv file\n",
    "        img1_path = tif_files[0]\n",
    "        displacement_path = os.path.join(csv_folder, csv_files[i])\n",
    "        #print(i, displacement_path)\n",
    "        \n",
    "        a = Alignment(img1_path = img1_path,\n",
    "                      img2_path = img2_path, \n",
    "                      displacement_path = displacement_path,\n",
    "                      out_path = out_path, \n",
    "                      geocoded=True)\n",
    "        print(f\"Alignment for csv file number {i+1} completed\")\n",
    "\n",
    "    if i > 0:\n",
    "\n",
    "        #First, update a list of tif files. I use this as I don't know how to get output out of Denis's class to append it to the list\n",
    "        tif_files = glob.glob(os.path.join(tiff_folder, '*.tif'))\n",
    "\n",
    "        #sorting the list by creation time. if I would just append, I'd use tif_files[-1] immidiatly\n",
    "        tif_files = sorted(tif_files, key=lambda x: os.path.getctime(os.path.join(tiff_folder, x)))\n",
    "        print(f\"Tiff folder now contains {len(tif_files)} files\")\n",
    "\n",
    "        #Using the last created aligned tif file from the list     \n",
    "        img1_path = tif_files[-1]\n",
    "        displacement_path = os.path.join(csv_folder, csv_files[i])\n",
    "        \n",
    "        a = Alignment(img1_path = img1_path,\n",
    "              img2_path = img2_path,\n",
    "              displacement_path = displacement_path,\n",
    "              out_path = out_path,\n",
    "              geocoded=True)\n",
    "        print(f\"Alignment for csv file number {i+1} completed\")"
   ]
  },
  {
   "cell_type": "markdown",
   "id": "00d8c2b9-024d-41bc-81f2-1a70c7ea3917",
   "metadata": {},
   "source": [
    "### For integrated drift\n"
   ]
  },
  {
   "cell_type": "code",
   "execution_count": 7,
   "id": "8f5872d5-e12c-429d-aac0-e8f2b0fc31b5",
   "metadata": {
    "tags": []
   },
   "outputs": [
    {
     "name": "stdout",
     "output_type": "stream",
     "text": [
      "Alignment method: piecewise-affine\n",
      "\n",
      "Convert geocoded cooridnates to raster coordinates...\n",
      "77.32247602133035 -11.801506800074447\n",
      "wow3 -1385342.53240098 -248487.6182931384\n",
      "wow4 -3417.6054454266446 -4228.725223841533\n",
      "77.32247602133035 -11.559545533953916\n",
      "wow3 -1385342.53240098 -245590.54043879098\n",
      "wow4 -3345.178499067959 -3991.6580046933523\n",
      "Done.\n",
      "\n",
      "\n",
      "Estimating piecewise-affine transformation...\n",
      "Done.\n",
      "\n",
      "Warping C:\\Anna\\Icedrift\\Special_curriculum\\19-20_subset_experiment\\model_drift\\integrated_lambert\\Aligned_sar\\subset_of_S1A_EW_GRDM_1SDH_20221119T072104_20221119T072208_045960_057FE5_E8B1_Orb_Cal_TC_HV.tif\n",
      "A new name of the file is C:\\Anna\\Icedrift\\Special_curriculum\\19-20_subset_experiment\\model_drift\\integrated_lambert\\Aligned_sar/Aligned_20221120T09_subset_of_S1A_EW_GRDM_1SDH_20221119T072104_20221119T072208_045960_057FE5_E8B1_Orb_Cal_TC_HV.tif\n",
      "Alignment finished in 95.5 minutes\n",
      "\n",
      "Alignment for csv file number 1 completed\n",
      "CPU times: total: 1h 29min 12s\n",
      "Wall time: 1h 35min 32s\n"
     ]
    }
   ],
   "source": [
    "%%time\n",
    "#1) i == 0\n",
    "\n",
    "#set general parameters for alignment\n",
    "img1_path = r'C:\\Anna\\Icedrift\\Special_curriculum\\19-20_subset_experiment\\model_drift\\integrated_lambert\\Aligned_sar\\subset_of_S1A_EW_GRDM_1SDH_20221119T072104_20221119T072208_045960_057FE5_E8B1_Orb_Cal_TC_HV.tif'\n",
    "img2_path = r'C:\\Anna\\Icedrift\\Special_curriculum\\19-20_subset_experiment\\SAR\\Subset2\\subset_of_S1A_EW_GRDM_1SDH_20221120T080155_20221120T080259_045975_05805E_51E1_Orb_Cal_TC_HV.tif' #have to set it as alignment asks for it\n",
    "#Set outpath the same as input so all tiff would be saved in obe folder for further animation\n",
    "out_path = tiff_folder\n",
    "\n",
    "for i, file in enumerate(csv_files):\n",
    "        #Runs alignment algortihm on the original tif for the first csv file\n",
    "        #img1_path = tif_files[0]\n",
    "        displacement_path = os.path.join(csv_folder, csv_files[i])\n",
    "        #print(i, displacement_path)\n",
    "        \n",
    "        a = Alignment(img1_path = img1_path,\n",
    "                      img2_path = img2_path, \n",
    "                      displacement_path = displacement_path,\n",
    "                      out_path = out_path, \n",
    "                      geocoded=True)\n",
    "        print(f\"Alignment for csv file number {i+1} completed\")"
   ]
  },
  {
   "cell_type": "markdown",
   "id": "82220eda-1918-40da-889f-aaf42dc2142f",
   "metadata": {
    "jp-MarkdownHeadingCollapsed": true,
    "tags": []
   },
   "source": [
    "### Testing part to change the errors"
   ]
  },
  {
   "cell_type": "code",
   "execution_count": 2,
   "id": "4c83ab96",
   "metadata": {
    "tags": []
   },
   "outputs": [],
   "source": [
    "img1_path=r'C:\\Anna\\Icedrift\\Chalmers\\alignment_OOP\\alignment_test_data\\images\\sub\\subset_1_of_subset_1_of_S1A_EW_GRDM_1SDH_20221119T072104_20221119T072208_045960_057FE5_E8B1_Orb_Cal_TC_HV.tif'\n",
    "img2_path=r'C:\\Anna\\Icedrift\\Chalmers\\alignment_OOP\\alignment_test_data\\images\\sub\\subset_2_of_S1A_EW_GRDM_1SDH_20221120T080155_20221120T080259_045975_05805E_51E1_Orb_Cal_TC_HV.tif'\n",
    "displacement_path=r'C:\\Anna\\Icedrift\\Chalmers\\alignment_OOP\\alignment_test_data\\drift\\model\\subset_19-20_nov_model_lat12lon12.csv'\n",
    "#displacement_path=r'C:\\Anna\\Icedrift\\Chalmers\\alignment_OOP\\alignment_test_data\\drift\\060\\fltrd_CTU_drift_20191028T174022-20191031T170040.csv'\n",
    "out_path=r'C:\\Anna\\Icedrift\\Chalmers\\alignment_OOP\\alignment_test_data\\model_shift'"
   ]
  },
  {
   "cell_type": "code",
   "execution_count": null,
   "id": "e04af44f",
   "metadata": {},
   "outputs": [],
   "source": [
    "with open(displacement_path) as csvfile:\n",
    "            csvreader = csv.reader(csvfile)\n",
    "            displacements = np.array([row for row in csvreader]).astype(float)"
   ]
  },
  {
   "cell_type": "code",
   "execution_count": 44,
   "id": "917bb5df",
   "metadata": {},
   "outputs": [],
   "source": [
    "# Select only not NaN data for displacements\n",
    "displacements = displacements[~np.any(np.isnan(displacements), axis=1), :]\n",
    "orig_locs = displacements[:, [1, 0]]\n",
    "new_locs = displacements[:, [3, 2]] + orig_locs"
   ]
  },
  {
   "cell_type": "code",
   "execution_count": 45,
   "id": "69b8bc95",
   "metadata": {},
   "outputs": [
    {
     "data": {
      "text/plain": [
       "array([[       inf,        inf],\n",
       "       [       inf,        inf],\n",
       "       [       inf,        inf],\n",
       "       ...,\n",
       "       [4900.52932, 2755.18578],\n",
       "       [4951.09626, 2801.21019],\n",
       "       [4939.09913, 2771.61271]])"
      ]
     },
     "execution_count": 45,
     "metadata": {},
     "output_type": "execute_result"
    }
   ],
   "source": [
    "new_locs"
   ]
  },
  {
   "cell_type": "code",
   "execution_count": 10,
   "id": "2d302178",
   "metadata": {
    "tags": []
   },
   "outputs": [
    {
     "name": "stdout",
     "output_type": "stream",
     "text": [
      "\n",
      "Convert geocoded cooridnates to raster coordinates...\n",
      "[[nan nan]\n",
      " [nan nan]\n",
      " [nan nan]\n",
      " ...\n",
      " [nan nan]\n",
      " [nan nan]\n",
      " [nan nan]]\n"
     ]
    }
   ],
   "source": [
    "#from LocationMapping import LocationMapping\n",
    "\n",
    "img1_path=r'C:\\Anna\\Icedrift\\Chalmers\\alignment_OOP\\alignment_test_data\\images\\sub\\subset_1_of_subset_1_of_S1A_EW_GRDM_1SDH_20221119T072104_20221119T072208_045960_057FE5_E8B1_Orb_Cal_TC_HV.tif'\n",
    "img2_path=r'C:\\Anna\\Icedrift\\Chalmers\\alignment_OOP\\alignment_test_data\\images\\sub\\subset_2_of_S1A_EW_GRDM_1SDH_20221120T080155_20221120T080259_045975_05805E_51E1_Orb_Cal_TC_HV.tif'\n",
    "image1 =gdal.Open(img1_path)\n",
    "image2 =gdal.Open(img2_path)\n",
    "displacement_path=r'C:\\Anna\\Model_data\\model_output\\19_20_Nov_for_aligh\\subset_19-20_nov_model_lat12lon12.csv'\n",
    "\n",
    "with open(displacement_path) as csvfile:\n",
    "    csvreader = csv.reader(csvfile)\n",
    "    displacements = np.array([row for row in csvreader]).astype(float)\n",
    "\n",
    "    lm1 = LocationMapping(image1.GetGeoTransform(), image1.GetProjection())\n",
    "    lm2 = LocationMapping(image2.GetGeoTransform(), image2.GetProjection())\n",
    "    print('\\nConvert geocoded cooridnates to raster coordinates...')\n",
    "    displacements = displacements[~np.any(np.isnan(displacements), axis=1), :]\n",
    "    orig_locs = displacements[:, [0, 1]] \n",
    "    new_locs = displacements[:, [2, 3]]\n",
    "    \n",
    "    #print(\"here are cordinates!\", orig_locs, new_locs)\n",
    "    \n",
    "    c0, r0 = lm1.latLon2Raster( orig_locs[:,1].reshape( (-1) ), orig_locs[:,0].reshape( (-1) ) )\n",
    "    c1, r1 = lm2.latLon2Raster( new_locs[:,1].reshape( (-1) ), new_locs[:,0].reshape( (-1) ) )\n",
    "    orig_locs = np.stack((c0, r0)).T\n",
    "    new_locs = np.stack((c1, r1)).T\n",
    "    print(orig_locs)"
   ]
  },
  {
   "cell_type": "code",
   "execution_count": 105,
   "id": "0b71fb0b",
   "metadata": {},
   "outputs": [
    {
     "data": {
      "text/plain": [
       "(array([ -34.64850695,   27.85149305,   90.35149305, ..., 1902.85149305,\n",
       "        1965.35149305, 2027.85149305]),\n",
       " array([-359.64486866, -359.64486866, -359.64486866, ..., 3390.35513134,\n",
       "        3390.35513134, 3390.35513134]))"
      ]
     },
     "execution_count": 105,
     "metadata": {},
     "output_type": "execute_result"
    }
   ],
   "source": [
    "c0, r0"
   ]
  },
  {
   "cell_type": "code",
   "execution_count": 90,
   "id": "4fdbe9e7",
   "metadata": {},
   "outputs": [],
   "source": [
    "# Open geotiff file\n",
    "image = gdal.Open(str(img1_path))\n",
    "# Create Location mapping\n",
    "lm = LocationMapping( image.GetGeoTransform(), image.GetProjection() )\n",
    "# Get lon and lat values of all pixels\n",
    "X = np.arange( image.RasterXSize )\n",
    "Y = np.arange( image.RasterYSize )\n",
    "X, Y = np.meshgrid( X, Y )\n",
    "\n",
    "lon, lat  = lm.raster2LatLon( X.reshape( (-1) ), Y.reshape( (-1) ) ) #changed lat and lon"
   ]
  },
  {
   "cell_type": "code",
   "execution_count": 92,
   "id": "ab2c4cd9",
   "metadata": {},
   "outputs": [
    {
     "name": "stdout",
     "output_type": "stream",
     "text": [
      "80.13542745597685 -3.822772608567932\n",
      "wow3 -1083703.0595653877 -64503.400476076\n",
      "wow4 -8.440110832452775e-11 5.704350769519806e-10\n"
     ]
    }
   ],
   "source": [
    "lon = lon.reshape(image.RasterYSize,image.RasterXSize)\n",
    "lat = lat.reshape(image.RasterYSize,image.RasterXSize)\n",
    "\n",
    "x, y = lm.latLon2Raster(lat.reshape((-1)),lon.reshape((-1)))"
   ]
  },
  {
   "cell_type": "code",
   "execution_count": 93,
   "id": "7302e464",
   "metadata": {},
   "outputs": [
    {
     "data": {
      "text/plain": [
       "(-0.0, 1.0)"
      ]
     },
     "execution_count": 93,
     "metadata": {},
     "output_type": "execute_result"
    }
   ],
   "source": [
    "minx = np.nanmin(x)\n",
    "miny = np.nanmin(y)\n",
    "np.ceil(minx), np.ceil(miny)"
   ]
  },
  {
   "cell_type": "code",
   "execution_count": 94,
   "id": "23237050",
   "metadata": {},
   "outputs": [
    {
     "data": {
      "text/plain": [
       "(2960.0, 2960.0)"
      ]
     },
     "execution_count": 94,
     "metadata": {},
     "output_type": "execute_result"
    }
   ],
   "source": [
    "np.ceil(np.nanmax(x)),np.ceil(np.nanmax(y))"
   ]
  },
  {
   "cell_type": "code",
   "execution_count": 104,
   "id": "15dff5c9",
   "metadata": {},
   "outputs": [
    {
     "data": {
      "text/plain": [
       "2960"
      ]
     },
     "execution_count": 104,
     "metadata": {},
     "output_type": "execute_result"
    }
   ],
   "source": [
    "u, v = "
   ]
  },
  {
   "cell_type": "code",
   "execution_count": 78,
   "id": "a2ec39c6",
   "metadata": {},
   "outputs": [
    {
     "data": {
      "text/plain": [
       "(-3.822772608567932, 80.13542745597685)"
      ]
     },
     "execution_count": 78,
     "metadata": {},
     "output_type": "execute_result"
    },
    {
     "data": {
      "image/png": "[encoded data removed]",
      "text/plain": [
       "<Figure size 640x480 with 2 Axes>"
      ]
     },
     "metadata": {},
     "output_type": "display_data"
    }
   ],
   "source": [
    "import matplotlib.pyplot as plt \n",
    "\n",
    "plt.imshow(lat)\n",
    "plt.colorbar()\n",
    "np.nanmin(lon), np.nanmin(lat)"
   ]
  },
  {
   "cell_type": "code",
   "execution_count": 106,
   "id": "833c93fa",
   "metadata": {},
   "outputs": [
    {
     "name": "stdout",
     "output_type": "stream",
     "text": [
      "C:\\Anna\\Icedrift\\Chalmers\\alignment_OOP\\ice_drift_pc_ncc\\tools\\geolocation_grid\n"
     ]
    }
   ],
   "source": [
    "cd C:\\Anna\\Icedrift\\Chalmers\\alignment_OOP\\ice_drift_pc_ncc\\tools\\geolocation_grid"
   ]
  },
  {
   "cell_type": "code",
   "execution_count": 22,
   "id": "1b65f4e2",
   "metadata": {},
   "outputs": [
    {
     "name": "stdout",
     "output_type": "stream",
     "text": [
      "Alignment method: piecewise-affine\n",
      "\n",
      "Convert geocoded cooridnates to raster coordinates...\n",
      "Done.\n",
      "\n",
      "\n",
      "Estimating piecewise-affine transformation...\n",
      "Done.\n",
      "\n",
      "Warping C:\\Anna\\Icedrift\\Chalmers\\alignment_OOP\\alignment_test_data\\images\\sub\\subset_1_of_subset_1_of_S1A_EW_GRDM_1SDH_20221119T072104_20221119T072208_045960_057FE5_E8B1_Orb_Cal_TC_HV.tif\n",
      "CPU times: total: 59 s\n",
      "Wall time: 58 s\n"
     ]
    }
   ],
   "source": [
    "%%time\n",
    "a = Alignment(img1_path=r'C:\\Anna\\Icedrift\\Chalmers\\alignment_OOP\\alignment_test_data\\images\\sub\\subset_1_of_subset_1_of_S1A_EW_GRDM_1SDH_20221119T072104_20221119T072208_045960_057FE5_E8B1_Orb_Cal_TC_HV.tif',\n",
    "              img2_path=r'C:\\Anna\\Icedrift\\Chalmers\\alignment_OOP\\alignment_test_data\\images\\sub\\subset_2_of_S1A_EW_GRDM_1SDH_20221120T080155_20221120T080259_045975_05805E_51E1_Orb_Cal_TC_HV.tif',\n",
    "              displacement_path=r'C:\\Anna\\Icedrift\\Chalmers\\alignment_OOP\\alignment_test_data\\drift\\sub\\subset_19-20_nov_drift_HV.csv',\n",
    "              out_path=r'C:\\Anna\\Icedrift\\Chalmers\\alignment_OOP\\alignment_test_data\\alignments2',\n",
    "              geocoded=True)\n",
    "\n"
   ]
  },
  {
   "cell_type": "code",
   "execution_count": 16,
   "id": "dc470ae0",
   "metadata": {},
   "outputs": [
    {
     "name": "stdout",
     "output_type": "stream",
     "text": [
      "Alignment method: piecewise-affine\n",
      "\n",
      "Convert geocoded cooridnates to raster coordinates...\n",
      "Done.\n",
      "\n",
      "\n",
      "Estimating piecewise-affine transformation...\n"
     ]
    },
    {
     "ename": "ValueError",
     "evalue": "Points cannot contain NaN",
     "output_type": "error",
     "traceback": [
      "\u001b[1;31m---------------------------------------------------------------------------\u001b[0m",
      "\u001b[1;31mValueError\u001b[0m                                Traceback (most recent call last)",
      "File \u001b[1;32m<timed exec>:1\u001b[0m\n",
      "File \u001b[1;32mC:\\Anna\\Icedrift\\Chalmers\\alignment_OOP\\ice_drift_pc_ncc\\tools\\align\\AlignSAR.py:48\u001b[0m, in \u001b[0;36mAlignment.__init__\u001b[1;34m(self, img1_path, img2_path, displacement_path, transform_type, out_path, transform_master, geocoded, proj)\u001b[0m\n\u001b[0;32m     45\u001b[0m os\u001b[38;5;241m.\u001b[39mmakedirs(\u001b[38;5;28mself\u001b[39m\u001b[38;5;241m.\u001b[39mout_path, exist_ok\u001b[38;5;241m=\u001b[39m\u001b[38;5;28;01mTrue\u001b[39;00m)\n\u001b[0;32m     47\u001b[0m \u001b[38;5;28;01mif\u001b[39;00m \u001b[38;5;129;01mnot\u001b[39;00m (\u001b[38;5;28mself\u001b[39m\u001b[38;5;241m.\u001b[39mimg1_path \u001b[38;5;129;01mand\u001b[39;00m \u001b[38;5;28mself\u001b[39m\u001b[38;5;241m.\u001b[39mimg2_path \u001b[38;5;129;01mand\u001b[39;00m \u001b[38;5;28mself\u001b[39m\u001b[38;5;241m.\u001b[39mdisplacement_path) \u001b[38;5;129;01mis\u001b[39;00m \u001b[38;5;28;01mNone\u001b[39;00m:\n\u001b[1;32m---> 48\u001b[0m \t\u001b[38;5;28;43mself\u001b[39;49m\u001b[38;5;241;43m.\u001b[39;49m\u001b[43mperformAlignment\u001b[49m\u001b[43m(\u001b[49m\u001b[43mpadding\u001b[49m\u001b[38;5;241;43m=\u001b[39;49m\u001b[38;5;124;43m'\u001b[39;49m\u001b[38;5;124;43mconstant\u001b[39;49m\u001b[38;5;124;43m'\u001b[39;49m\u001b[43m,\u001b[49m\u001b[43m \u001b[49m\u001b[43mback_alignment\u001b[49m\u001b[38;5;241;43m=\u001b[39;49m\u001b[38;5;28;43;01mFalse\u001b[39;49;00m\u001b[43m)\u001b[49m\n\u001b[0;32m     49\u001b[0m \u001b[38;5;28;01melse\u001b[39;00m:\n\u001b[0;32m     50\u001b[0m \t\u001b[38;5;28;01mraise\u001b[39;00m \u001b[38;5;167;01mTypeError\u001b[39;00m(\n\u001b[0;32m     51\u001b[0m \t\t\u001b[38;5;124m\"\u001b[39m\u001b[38;5;124mPlease specify all neccesseaury path to data (Image 1, Image 2 and a path to displacement data)\u001b[39m\u001b[38;5;124m\"\u001b[39m)\n",
      "File \u001b[1;32mC:\\Anna\\Icedrift\\Chalmers\\alignment_OOP\\ice_drift_pc_ncc\\tools\\align\\AlignSAR.py:92\u001b[0m, in \u001b[0;36mAlignment.performAlignment\u001b[1;34m(self, padding, back_alignment)\u001b[0m\n\u001b[0;32m     90\u001b[0m \u001b[38;5;28mprint\u001b[39m(\u001b[38;5;124mf\u001b[39m\u001b[38;5;124m'\u001b[39m\u001b[38;5;130;01m\\n\u001b[39;00m\u001b[38;5;124mEstimating \u001b[39m\u001b[38;5;132;01m{\u001b[39;00m\u001b[38;5;28mself\u001b[39m\u001b[38;5;241m.\u001b[39mtransform_type\u001b[38;5;132;01m}\u001b[39;00m\u001b[38;5;124m transformation...\u001b[39m\u001b[38;5;124m'\u001b[39m)\n\u001b[0;32m     91\u001b[0m p \u001b[38;5;241m=\u001b[39m PiecewiseAffineTransform()\n\u001b[1;32m---> 92\u001b[0m \u001b[43mp\u001b[49m\u001b[38;5;241;43m.\u001b[39;49m\u001b[43mestimate\u001b[49m\u001b[43m(\u001b[49m\u001b[43msrc\u001b[49m\u001b[38;5;241;43m=\u001b[39;49m\u001b[43morig_locs\u001b[49m\u001b[43m,\u001b[49m\u001b[43m \u001b[49m\u001b[43mdst\u001b[49m\u001b[38;5;241;43m=\u001b[39;49m\u001b[43mnew_locs\u001b[49m\u001b[43m)\u001b[49m\n\u001b[0;32m     93\u001b[0m \u001b[38;5;28mself\u001b[39m\u001b[38;5;241m.\u001b[39mp \u001b[38;5;241m=\u001b[39m p\n\u001b[0;32m     94\u001b[0m \u001b[38;5;28mprint\u001b[39m(\u001b[38;5;124mf\u001b[39m\u001b[38;5;124m'\u001b[39m\u001b[38;5;124mDone.\u001b[39m\u001b[38;5;124m'\u001b[39m)\n",
      "File \u001b[1;32m~\\Miniconda3\\envs\\chalmers\\lib\\site-packages\\skimage\\transform\\_geometric.py:978\u001b[0m, in \u001b[0;36mPiecewiseAffineTransform.estimate\u001b[1;34m(self, src, dst)\u001b[0m\n\u001b[0;32m    975\u001b[0m ndim \u001b[38;5;241m=\u001b[39m src\u001b[38;5;241m.\u001b[39mshape[\u001b[38;5;241m1\u001b[39m]\n\u001b[0;32m    976\u001b[0m \u001b[38;5;66;03m# forward piecewise affine\u001b[39;00m\n\u001b[0;32m    977\u001b[0m \u001b[38;5;66;03m# triangulate input positions into mesh\u001b[39;00m\n\u001b[1;32m--> 978\u001b[0m \u001b[38;5;28mself\u001b[39m\u001b[38;5;241m.\u001b[39m_tesselation \u001b[38;5;241m=\u001b[39m \u001b[43mspatial\u001b[49m\u001b[38;5;241;43m.\u001b[39;49m\u001b[43mDelaunay\u001b[49m\u001b[43m(\u001b[49m\u001b[43msrc\u001b[49m\u001b[43m)\u001b[49m\n\u001b[0;32m    980\u001b[0m success \u001b[38;5;241m=\u001b[39m \u001b[38;5;28;01mTrue\u001b[39;00m\n\u001b[0;32m    982\u001b[0m \u001b[38;5;66;03m# find affine mapping from source positions to destination\u001b[39;00m\n",
      "File \u001b[1;32m_qhull.pyx:1841\u001b[0m, in \u001b[0;36mscipy.spatial._qhull.Delaunay.__init__\u001b[1;34m()\u001b[0m\n",
      "File \u001b[1;32m_qhull.pyx:280\u001b[0m, in \u001b[0;36mscipy.spatial._qhull._Qhull.__init__\u001b[1;34m()\u001b[0m\n",
      "\u001b[1;31mValueError\u001b[0m: Points cannot contain NaN"
     ]
    }
   ],
   "source": [
    "%%time\n",
    "a = Alignment(img1_path=r'C:\\Anna\\Icedrift\\Chalmers\\alignment_OOP\\alignment_test_data\\images\\sub_3996\\subset_1_of_subset_1_of_S1A_EW_GRDM_1SDH_20221119T072104_20221119T072208_045960_057FE5_E8B1_Orb_Cal_TC_HV.tif',\n",
    "              img2_path=r'C:\\Anna\\Icedrift\\Chalmers\\alignment_OOP\\alignment_test_data\\images\\sub_3996\\subset_2_of_S1A_EW_GRDM_1SDH_20221120T080155_20221120T080259_045975_05805E_51E1_Orb_Cal_TC_HV.tif',\n",
    "              displacement_path=r'C:\\Anna\\Icedrift\\Chalmers\\alignment_OOP\\alignment_test_data\\drift\\sub_3996\\subset_19-20_nov_drift_HV_projected.csv',\n",
    "              out_path=r'C:\\Anna\\Icedrift\\Chalmers\\alignment_OOP\\alignment_test_data\\alignments3',\n",
    "              geocoded=True,\n",
    "              proj=3996)"
   ]
  },
  {
   "cell_type": "code",
   "execution_count": 4,
   "id": "47483432",
   "metadata": {},
   "outputs": [
    {
     "data": {
      "text/plain": [
       "array([[  0,   1,   2, ..., 246, 247, 248],\n",
       "       [  0,   1,   2, ..., 246, 247, 248],\n",
       "       [  0,   1,   2, ..., 246, 247, 248],\n",
       "       ...,\n",
       "       [  0,   1,   2, ..., 246, 247, 248],\n",
       "       [  0,   1,   2, ..., 246, 247, 248],\n",
       "       [  0,   1,   2, ..., 246, 247, 248]])"
      ]
     },
     "execution_count": 4,
     "metadata": {},
     "output_type": "execute_result"
    }
   ],
   "source": [
    "i_coords, j_coords = np.meshgrid(range(252), range(249), indexing='ij')\n",
    "j_coords"
   ]
  },
  {
   "cell_type": "code",
   "execution_count": 12,
   "id": "75425bb4",
   "metadata": {},
   "outputs": [],
   "source": [
    "#open csv and add the columns x y instead of the previous"
   ]
  },
  {
   "cell_type": "code",
   "execution_count": 8,
   "id": "a9b94d30",
   "metadata": {},
   "outputs": [
    {
     "name": "stdout",
     "output_type": "stream",
     "text": [
      "C:\\Anna\\Icedrift\\Chalmers\\alignment_OOP\\ice_drift_pc_ncc\\tools\\geolocation_grid\n"
     ]
    }
   ],
   "source": [
    "cd C:\\Anna\\Icedrift\\Chalmers\\alignment_OOP\\ice_drift_pc_ncc\\tools\\geolocation_grid"
   ]
  },
  {
   "cell_type": "code",
   "execution_count": 15,
   "id": "0063483e",
   "metadata": {},
   "outputs": [
    {
     "name": "stdout",
     "output_type": "stream",
     "text": [
      "C:\\Anna\\Icedrift\\Chalmers\\alignment_OOP\\ice_drift_pc_ncc\\tools\\geolocation_grid\n"
     ]
    }
   ],
   "source": [
    "cd C:\\Anna\\Icedrift\\Chalmers\\alignment_OOP\\ice_drift_pc_ncc\\tools\\geolocation_grid"
   ]
  },
  {
   "cell_type": "code",
   "execution_count": null,
   "id": "ca14fad9",
   "metadata": {},
   "outputs": [],
   "source": []
  }
 ],
 "metadata": {
  "kernelspec": {
   "display_name": "Python 3 (ipykernel)",
   "language": "python",
   "name": "python3"
  },
  "language_info": {
   "codemirror_mode": {
    "name": "ipython",
    "version": 3
   },
   "file_extension": ".py",
   "mimetype": "text/x-python",
   "name": "python",
   "nbconvert_exporter": "python",
   "pygments_lexer": "ipython3",
   "version": "3.8.15"
  },
  "varInspector": {
   "cols": {
    "lenName": 16,
    "lenType": 16,
    "lenVar": 40
   },
   "kernels_config": {
    "python": {
     "delete_cmd_postfix": "",
     "delete_cmd_prefix": "del ",
     "library": "var_list.py",
     "varRefreshCmd": "print(var_dic_list())"
    },
    "r": {
     "delete_cmd_postfix": ") ",
     "delete_cmd_prefix": "rm(",
     "library": "var_list.r",
     "varRefreshCmd": "cat(var_dic_list()) "
    }
   },
   "types_to_exclude": [
    "module",
    "function",
    "builtin_function_or_method",
    "instance",
    "_Feature"
   ],
   "window_display": false
  }
 },
 "nbformat": 4,
 "nbformat_minor": 5
}
