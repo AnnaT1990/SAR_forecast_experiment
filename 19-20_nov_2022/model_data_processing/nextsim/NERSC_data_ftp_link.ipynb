{
 "cells": [
  {
   "cell_type": "code",
   "execution_count": 1,
   "id": "6f47e29e-00ee-454b-8b8b-1502af2cb499",
   "metadata": {},
   "outputs": [
    {
     "ename": "SyntaxError",
     "evalue": "invalid syntax (3210689834.py, line 1)",
     "output_type": "error",
     "traceback": [
      "\u001b[0;36m  Input \u001b[0;32mIn [1]\u001b[0;36m\u001b[0m\n\u001b[0;31m    wget ftp://ftp.nersc.no/pub/Anton/Moorings_barents.nc\u001b[0m\n\u001b[0m         ^\u001b[0m\n\u001b[0;31mSyntaxError\u001b[0m\u001b[0;31m:\u001b[0m invalid syntax\n"
     ]
    }
   ],
   "source": [
    "wget ftp://ftp.nersc.no/pub/Anton/Moorings_barents.nc"
   ]
  },
  {
   "cell_type": "code",
   "execution_count": 2,
   "id": "3186a2ba-461a-4dbe-a11a-7b1302466c07",
   "metadata": {},
   "outputs": [
    {
     "data": {
      "text/plain": [
       "'221 Goodbye.'"
      ]
     },
     "execution_count": 2,
     "metadata": {},
     "output_type": "execute_result"
    }
   ],
   "source": [
    "\n",
    "ftp://ftp.nersc.no/pub/Anton/Moorings_barents.nc \n",
    "\n",
    "ftp://ftp.nersc.no/pub/Anton/read_nextsim_vectors.ipynb\n",
    "\n",
    "\n",
    "from ftplib import FTP\n",
    "\n",
    "# Define FTP details and filename\n",
    "ftp_link = 'ftp.nersc.no'\n",
    "directory = 'pub/Anton/'\n",
    "filename = 'read_nextsim_vectors.ipynb'\n",
    "\n",
    "# Connect to FTP server\n",
    "ftp = FTP(ftp_link)\n",
    "ftp.login()  # Anonymous login\n",
    "ftp.cwd(directory)\n",
    "\n",
    "# Download the file\n",
    "with open(filename, 'wb') as f:\n",
    "    ftp.retrbinary('RETR ' + filename, f.write)\n",
    "\n",
    "ftp.quit()"
   ]
  },
  {
   "cell_type": "code",
   "execution_count": 4,
   "id": "2b292e61-207a-4088-b52f-09a6fa49e4da",
   "metadata": {},
   "outputs": [
    {
     "data": {
      "text/plain": [
       "'221 Goodbye.'"
      ]
     },
     "execution_count": 4,
     "metadata": {},
     "output_type": "execute_result"
    }
   ],
   "source": [
    "from ftplib import FTP\n",
    "\n",
    "# Define FTP details and filename\n",
    "ftp_link = 'ftp.nersc.no'\n",
    "directory = 'pub/Anton/'\n",
    "filename = 'Moorings_barents.nc'\n",
    "\n",
    "# Specify the path where you want to save the file on your computer\n",
    "save_path = r'/home/jovyan/data/NERSC_model'\n",
    "\n",
    "# Connect to FTP server\n",
    "ftp = FTP(ftp_link)\n",
    "ftp.login()  # Anonymous login\n",
    "ftp.cwd(directory)\n",
    "\n",
    "# Download the file to the specified location\n",
    "with open(save_path + filename, 'wb') as f:\n",
    "    ftp.retrbinary('RETR ' + filename, f.write)\n",
    "\n",
    "ftp.quit()\n"
   ]
  },
  {
   "cell_type": "code",
   "execution_count": null,
   "id": "b1503781-7656-4d84-89c0-7e7cad8d76ee",
   "metadata": {},
   "outputs": [],
   "source": [
    "from ftplib import FTP\n",
    "import os\n",
    "\n",
    "# Define FTP details and filename\n",
    "ftp_link = 'ftp.nersc.no'\n",
    "directory = 'pub/Anton/'\n",
    "filename = 'Moorings_barents.nc'\n",
    "\n",
    "# Connect to FTP server\n",
    "ftp = FTP(ftp_link)\n",
    "ftp.login()  # Anonymous login\n",
    "ftp.cwd(directory)\n",
    "\n",
    "# Download the file\n",
    "with open(filename, 'wb') as f:\n",
    "    ftp.retrbinary('RETR ' + filename, f.write)\n",
    "\n",
    "ftp.quit()\n"
   ]
  }
 ],
 "metadata": {
  "kernelspec": {
   "display_name": "Python 3 (ipykernel)",
   "language": "python",
   "name": "python3"
  },
  "language_info": {
   "codemirror_mode": {
    "name": "ipython",
    "version": 3
   },
   "file_extension": ".py",
   "mimetype": "text/x-python",
   "name": "python",
   "nbconvert_exporter": "python",
   "pygments_lexer": "ipython3",
   "version": "3.10.4"
  }
 },
 "nbformat": 4,
 "nbformat_minor": 5
}
