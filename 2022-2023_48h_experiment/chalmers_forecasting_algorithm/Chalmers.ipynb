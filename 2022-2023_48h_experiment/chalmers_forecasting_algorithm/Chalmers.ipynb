{
 "cells": [
  {
   "cell_type": "code",
   "execution_count": 2,
   "id": "03f90f32",
   "metadata": {
    "tags": []
   },
   "outputs": [],
   "source": [
    "import os\n",
    "import sys\n",
    "from datetime import datetime\n",
    "import glob\n",
    "\n",
    "sys.path.append(r'./tools/align')\n",
    "sys.path.append(r'./tools/geolocation_grid')\n",
    "\n"
   ]
  },
  {
   "cell_type": "code",
   "execution_count": 3,
   "id": "a4ba4ccd-b594-49ff-8e62-ecf2f75420a0",
   "metadata": {},
   "outputs": [],
   "source": [
    "from AlignSAR import *"
   ]
  },
  {
   "cell_type": "markdown",
   "id": "ccb0fdb8-a718-4864-bad3-ac04f7f77ba3",
   "metadata": {
    "jp-MarkdownHeadingCollapsed": true,
    "tags": []
   },
   "source": [
    "### Transforming model displacement data into projection of tiff image - 3966 (move it to model_drift_export notebook)"
   ]
  },
  {
   "cell_type": "code",
   "execution_count": 33,
   "id": "31dc77ed-4c3e-4429-b0b2-68748f89f1a3",
   "metadata": {
    "tags": []
   },
   "outputs": [
    {
     "name": "stdout",
     "output_type": "stream",
     "text": [
      "[-248487.61829314 -246224.85196304 -243962.01197043 ...  382410.12795377\n",
      "  384677.01383337  386944.0345087 ] [-1200727.33567686 -1201763.41200213 -1202797.1437475  ...\n",
      "  -926627.1244491   -927630.24194831  -928633.30891533] [2897.07785435 2899.01187782 2900.82603413 ...    0.            0.\n",
      "    0.        ] [-11440.44304695 -11436.59083978 -11430.49120978 ...      0.\n",
      "      0.              0.        ]\n"
     ]
    }
   ],
   "source": [
    "#export of reprojected drift\n",
    "from LocationMapping import LocationMapping\n",
    "img1_path=r'/home/jovyan/data/SAR_images/subset_of_S1A_EW_GRDM_1SDH_20221119T072104_20221119T072208_045960_057FE5_E8B1_Orb_Cal_TC_HV.tif'\n",
    "displacement_path=r'/home/jovyan/data/model_data_process_output/hourly_cumulative_drift_csv/drift_lon2_lat2/hourly_ice_displacement_20221120T09_lon2lat2.csv'\n",
    "image1 = gdal.Open(str(img1_path))\n",
    "\n",
    "with open(displacement_path) as csvfile:\n",
    "    csvreader = csv.reader(csvfile)\n",
    "    # check if the file has a header row\n",
    "    has_header = csv.Sniffer().has_header(csvfile.read(1024))\n",
    "    csvfile.seek(0)  # reset file pointer\n",
    "    #skip header row if it exists\n",
    "    if has_header:\n",
    "        next(csvreader)\n",
    "    displacements = np.array([row for row in csvreader]).astype(float)\n",
    "            \n",
    "lm1 = LocationMapping(image1.GetGeoTransform(), image1.GetProjection())\n",
    "displacements = displacements[~np.any(np.isnan(displacements), axis=1), :]\n",
    "displacements = displacements[~np.any(np.isinf(displacements), axis=1), :]\n",
    "orig_locs = displacements[:, [0, 1]] \n",
    "new_locs = displacements[:, [2, 3]]                \n",
    "\n",
    "#swapped references to original and new coordinated columns as gdal swap coordinates while processing. \n",
    "y1, x1 = lm1.mapFromCoords2Proj( orig_locs[:,1].reshape( (-1) ), orig_locs[:,0].reshape( (-1) ) )\n",
    "y2, x2 = lm1.mapFromCoords2Proj( new_locs[:,1].reshape( (-1) ), new_locs[:,0].reshape( (-1) ) )\n",
    "dx = x2 - x1\n",
    "dy = y2 - y1"
   ]
  },
  {
   "cell_type": "code",
   "execution_count": 34,
   "id": "141131ae-c476-4134-bfd3-7c4879a3a8f6",
   "metadata": {},
   "outputs": [],
   "source": [
    "output_dir = r'/home/jovyan/data/model_data_process_output/cum_drift_3996_csv'\n",
    "\n",
    "points=zip(x1, y1, dx, dy)\n",
    "header=['x','y', 'dx','dy']\n",
    "\n",
    "#Create CSV file for every displacement\n",
    "\n",
    "file_name = f'cum_ice_displacement_dxdy.csv'\n",
    "file_path = os.path.join(output_dir, file_name)\n",
    "\n",
    "\n",
    "#Open the CSV file for writing              \n",
    "with open(file_path, 'w', newline='') as csv_file:\n",
    "    out = csv.writer(csv_file, delimiter=',')\n",
    "    out.writerow(header)\n",
    "    out.writerows(points)"
   ]
  },
  {
   "cell_type": "markdown",
   "id": "9c6e51d4-1e0d-4ad4-93ec-ccf2f2d378a9",
   "metadata": {
    "heading_collapsed": true,
    "tags": []
   },
   "source": [
    "### For single input file\n",
    "\n",
    "For example, to run algorithm once for one csv file with cumulative (integrated) drift.\n",
    "* If results doesn't make sense, it might be a problem with gdal version.\n",
    "Install a different version or go to ./tools/geolocation_grid/LocationMapping.py and swap x and y in latLon2Raster function in 'self.mapFromProj2Raster(y, x )"
   ]
  },
  {
   "cell_type": "markdown",
   "id": "3ca1daa5-f8d0-4d56-8002-b7ac490d4f24",
   "metadata": {
    "hidden": true
   },
   "source": [
    "##### For SAR1 -> SAR2 using model subset drift"
   ]
  },
  {
   "cell_type": "code",
   "execution_count": null,
   "id": "6be822e1-a7d5-4503-aad9-ce6ef3114fea",
   "metadata": {
    "hidden": true
   },
   "outputs": [
    {
     "name": "stdout",
     "output_type": "stream",
     "text": [
      "Alignment method: piecewise-affine\n",
      "\n",
      "Convert geocoded cooridnates to raster coordinates...\n",
      "Done.\n",
      "\n",
      "\n",
      "Estimating piecewise-affine transformation...\n",
      "Done.\n",
      "\n",
      "Warping /home/jovyan/experiment_data/2022-2023_48h_experiment/SAR_images/HV/S1A_EW_GRDM_1SDH_20230212T080151_20230212T080255_047200_05A9D0_C7EB_Orb_Cal_TC_HV.tif\n",
      "A new name of the file is /home/jovyan/experiment_data/2022-2023_48h_experiment/SAR_forecast/HV/sar2_model//Forecasted_um_disp_for_S1A_EW_GRDM_1SDH_20230212T080151_20230212T080255_047200_05A9D0_C7EB_Orb_Cal_TC_HV.tif\n"
     ]
    }
   ],
   "source": [
    "%%time\n",
    "a = Alignment(img1_path=r'/home/jovyan/experiment_data/2022-2023_48h_experiment/SAR_images/HV/S1A_EW_GRDM_1SDH_20230212T080151_20230212T080255_047200_05A9D0_C7EB_Orb_Cal_TC_HV.tif',\n",
    "              img2_path=r'/home/jovyan/experiment_data/2022-2023_48h_experiment/SAR_images/HV/S1A_EW_GRDM_1SDH_20230212T080151_20230212T080255_047200_05A9D0_C7EB_Orb_Cal_TC_HV.tif',\n",
    "              displacement_path=r'/home/jovyan/experiment_data/2022-2023_48h_experiment/drift_output/12_14_feb/barents_model_24ens_cum_disp_for_chalmers.csv',\n",
    "              out_path=r'/home/jovyan/experiment_data/2022-2023_48h_experiment/SAR_forecast/HV/sar2_model/',\n",
    "              geocoded=True)\n",
    "\n"
   ]
  },
  {
   "cell_type": "markdown",
   "id": "1e0ff5a8-cde2-4df4-bd06-3e7cc5788bd4",
   "metadata": {
    "hidden": true
   },
   "source": [
    "##### For SAR1 -> SAR2 using algorithm drift (after filtering with gpi)"
   ]
  },
  {
   "cell_type": "code",
   "execution_count": null,
   "id": "24b18987-a451-4cdb-ab84-60f55490eef8",
   "metadata": {
    "hidden": true
   },
   "outputs": [],
   "source": [
    "%%time\n",
    "a = Alignment(img1_path=r'/home/jovyan/experiment_data/2022-2023_48h_experiment/SAR_images/HV/S1A_EW_GRDM_1SDH_20230212T080151_20230212T080255_047200_05A9D0_C7EB_Orb_Cal_TC_HV.tif',\n",
    "              img2_path=r'/home/jovyan/experiment_data/2022-2023_48h_experiment/SAR_images/HV/S1A_EW_GRDM_1SDH_20230212T080151_20230212T080255_047200_05A9D0_C7EB_Orb_Cal_TC_HV.tif',\n",
    "              displacement_path=r'/home/jovyan/experiment_data/2022-2023_48h_experiment/drift_output/12_14_feb/barents_alg_disp_for_chalmers_14-16feb_gpi.csv',\n",
    "              out_path=r'/home/jovyan/experiment_data/2022-2023_48h_experiment/SAR_forecast/HV/sar2_alg_gpi/',\n",
    "              geocoded=True)\n",
    "\n"
   ]
  },
  {
   "cell_type": "markdown",
   "id": "cd467cc5-9486-4aca-80b6-bf785aa3eee5",
   "metadata": {
    "hidden": true,
    "tags": []
   },
   "source": [
    "##### For SAR1 -> SAR2 using algorithm drift (full)"
   ]
  },
  {
   "cell_type": "code",
   "execution_count": 5,
   "id": "1ed0638d-3907-4bb7-adb0-69c70467553a",
   "metadata": {
    "collapsed": true,
    "hidden": true,
    "jupyter": {
     "outputs_hidden": true
    },
    "tags": []
   },
   "outputs": [
    {
     "name": "stdout",
     "output_type": "stream",
     "text": [
      "Alignment method: piecewise-affine\n"
     ]
    },
    {
     "ename": "FileNotFoundError",
     "evalue": "[Errno 2] No such file or directory: '/home/jovyan/data/SAR_images/subset_of_S1A_EW_GRDM_1SDH_20221120T080155_20221120T080259_045975_05805E_51E1_Orb_Cal_TC_HV.tif'",
     "output_type": "error",
     "traceback": [
      "\u001b[0;31m---------------------------------------------------------------------------\u001b[0m",
      "\u001b[0;31mFileNotFoundError\u001b[0m                         Traceback (most recent call last)",
      "File \u001b[0;32m<timed exec>:1\u001b[0m, in \u001b[0;36m<module>\u001b[0;34m\u001b[0m\n",
      "File \u001b[0;32m~/packages/2022-2023_48h_experiment/chalmers_forecasting_algorithm/./tools/align/AlignSAR.py:50\u001b[0m, in \u001b[0;36mAlignment.__init__\u001b[0;34m(self, img1_path, img2_path, displacement_path, transform_type, out_path, transform_master, geocoded, proj)\u001b[0m\n\u001b[1;32m     47\u001b[0m start_time \u001b[38;5;241m=\u001b[39m time\u001b[38;5;241m.\u001b[39mtime()\n\u001b[1;32m     49\u001b[0m \u001b[38;5;28;01mif\u001b[39;00m \u001b[38;5;129;01mnot\u001b[39;00m (\u001b[38;5;28mself\u001b[39m\u001b[38;5;241m.\u001b[39mimg1_path \u001b[38;5;129;01mand\u001b[39;00m \u001b[38;5;28mself\u001b[39m\u001b[38;5;241m.\u001b[39mimg2_path \u001b[38;5;129;01mand\u001b[39;00m \u001b[38;5;28mself\u001b[39m\u001b[38;5;241m.\u001b[39mdisplacement_path) \u001b[38;5;129;01mis\u001b[39;00m \u001b[38;5;28;01mNone\u001b[39;00m:\n\u001b[0;32m---> 50\u001b[0m \t\u001b[38;5;28;43mself\u001b[39;49m\u001b[38;5;241;43m.\u001b[39;49m\u001b[43mperformAlignment\u001b[49m\u001b[43m(\u001b[49m\u001b[43mpadding\u001b[49m\u001b[38;5;241;43m=\u001b[39;49m\u001b[38;5;124;43m'\u001b[39;49m\u001b[38;5;124;43mconstant\u001b[39;49m\u001b[38;5;124;43m'\u001b[39;49m\u001b[43m,\u001b[49m\u001b[43m \u001b[49m\u001b[43mback_alignment\u001b[49m\u001b[38;5;241;43m=\u001b[39;49m\u001b[38;5;28;43;01mFalse\u001b[39;49;00m\u001b[43m)\u001b[49m\n\u001b[1;32m     52\u001b[0m \t\u001b[38;5;66;03m# Measure execution time\u001b[39;00m\n\u001b[1;32m     53\u001b[0m \texec_time \u001b[38;5;241m=\u001b[39m (time\u001b[38;5;241m.\u001b[39mtime() \u001b[38;5;241m-\u001b[39m start_time) \u001b[38;5;241m/\u001b[39m \u001b[38;5;241m60.\u001b[39m\n",
      "File \u001b[0;32m~/packages/2022-2023_48h_experiment/chalmers_forecasting_algorithm/./tools/align/AlignSAR.py:71\u001b[0m, in \u001b[0;36mAlignment.performAlignment\u001b[0;34m(self, padding, back_alignment)\u001b[0m\n\u001b[1;32m     65\u001b[0m image1 \u001b[38;5;241m=\u001b[39m gdal\u001b[38;5;241m.\u001b[39mOpen(\u001b[38;5;28mstr\u001b[39m(\u001b[38;5;28mself\u001b[39m\u001b[38;5;241m.\u001b[39mimg1_path))\n\u001b[1;32m     67\u001b[0m \u001b[38;5;66;03m# Open second  image and acquire raster as array\u001b[39;00m\n\u001b[1;32m     68\u001b[0m \u001b[38;5;66;03m#image2 = gdal.Open(str(self.img1_path))\u001b[39;00m\n\u001b[1;32m     69\u001b[0m \n\u001b[1;32m     70\u001b[0m \u001b[38;5;66;03m# Get deformation data as original pixel locations in image1 and new pixel locations in image1\u001b[39;00m\n\u001b[0;32m---> 71\u001b[0m \u001b[38;5;28;01mwith\u001b[39;00m \u001b[38;5;28;43mopen\u001b[39;49m\u001b[43m(\u001b[49m\u001b[38;5;28;43mself\u001b[39;49m\u001b[38;5;241;43m.\u001b[39;49m\u001b[43mdisplacement_path\u001b[49m\u001b[43m)\u001b[49m \u001b[38;5;28;01mas\u001b[39;00m csvfile:\n\u001b[1;32m     72\u001b[0m \tcsvreader \u001b[38;5;241m=\u001b[39m csv\u001b[38;5;241m.\u001b[39mreader(csvfile)\n\u001b[1;32m     73\u001b[0m \t\u001b[38;5;66;03m# check if the file has a header row\u001b[39;00m\n",
      "\u001b[0;31mFileNotFoundError\u001b[0m: [Errno 2] No such file or directory: '/home/jovyan/data/SAR_images/subset_of_S1A_EW_GRDM_1SDH_20221120T080155_20221120T080259_045975_05805E_51E1_Orb_Cal_TC_HV.tif'"
     ]
    }
   ],
   "source": [
    "%%time\n",
    "a = Alignment(img1_path=r'/home/jovyan/experiment_data/2022-2023_48h_experiment/SAR_images/HV/S1A_EW_GRDM_1SDH_20230212T080151_20230212T080255_047200_05A9D0_C7EB_Orb_Cal_TC_HV.tif',\n",
    "              img2_path=r'/home/jovyan/experiment_data/2022-2023_48h_experiment/SAR_images/HV/S1A_EW_GRDM_1SDH_20230212T080151_20230212T080255_047200_05A9D0_C7EB_Orb_Cal_TC_HV.tif',\n",
    "              displacement_path=r'/home/jovyan/experiment_data/2022-2023_48h_experiment/drift_output/12_14_feb/barents_alg_disp_for_chalmers_14-16feb.csv',\n",
    "              out_path=r'/home/jovyan/experiment_data/2022-2023_48h_experiment/SAR_forecast/HV/sar2_algorithm/',\n",
    "              geocoded=True)\n",
    "\n"
   ]
  },
  {
   "cell_type": "markdown",
   "id": "cd8f46d2-496b-433e-a48c-bcba4749ee2d",
   "metadata": {
    "tags": []
   },
   "source": [
    "### Running in batch for image-driven approach\n",
    "\n",
    "(use as input every new forecasted image)"
   ]
  },
  {
   "cell_type": "code",
   "execution_count": null,
   "id": "45b97c56-76fd-4d92-8c47-6e84efc48be4",
   "metadata": {
    "tags": []
   },
   "outputs": [],
   "source": [
    "# Set paths to folders\n",
    "csv_folder = r'/home/jovyan/data/model_data_process_output/hourly_cumulative_drift_csv/drift_lon2_lat2/hourly_ice_displacement_20221120T09_lon2lat2.csv'\n",
    "tiff_folder = r'/home/jovyan/data/SAR_images_forecast/'"
   ]
  },
  {
   "cell_type": "code",
   "execution_count": 5,
   "id": "16b81d29-3a9d-4316-ad9d-9357bc81a8ca",
   "metadata": {
    "tags": []
   },
   "outputs": [
    {
     "data": {
      "text/plain": [
       "'C:\\\\Anna\\\\Icedrift\\\\Special_curriculum\\\\19-20_subset_experiment\\\\model_drift\\\\integrated_lambert\\\\Aligned_sar\\\\subset_of_S1A_EW_GRDM_1SDH_20221119T072104_20221119T072208_045960_057FE5_E8B1_Orb_Cal_TC_HV.tif'"
      ]
     },
     "execution_count": 5,
     "metadata": {},
     "output_type": "execute_result"
    }
   ],
   "source": [
    "#Create a list of input tif files. At first, it's only one file\n",
    "tif_files = glob.glob(os.path.join(tiff_folder, '*.tif'))\n",
    "tif_files = sorted(tif_files, key=lambda x: os.path.getctime(os.path.join(tiff_folder, x)))\n",
    "#Create a list of all csv files with drift from input folder\n",
    "csv_files = glob.glob(os.path.join(csv_folder, '*.csv'))\n",
    "#sort according to the date and time specified at the end of the file name and before .csv\n",
    "csv_files = sorted(csv_files, key=lambda x: datetime.strptime(x[-15:-4], '%Y%m%dT%H'))\n",
    "#csv_files = sorted(os.listdir(csv_folder), key=lambda x: datetime.strptime(x[-15:-4], '%Y%m%dT%H'))\n",
    "tif_files[-1]"
   ]
  },
  {
   "cell_type": "code",
   "execution_count": 6,
   "id": "fc4b02e3-c52e-4f17-965f-1cffd5b0388f",
   "metadata": {
    "tags": []
   },
   "outputs": [
    {
     "name": "stdout",
     "output_type": "stream",
     "text": [
      "already done\n"
     ]
    }
   ],
   "source": [
    "for i, file in enumerate(csv_files):\n",
    "    if i == 0:\n",
    "        print(\"already done\")\n",
    "    else:\n",
    "        print(file)"
   ]
  },
  {
   "cell_type": "code",
   "execution_count": null,
   "id": "43beedfb-69d5-4cbe-854e-139dd2bfd84d",
   "metadata": {},
   "outputs": [],
   "source": [
    "#Version which work but it contains two separate modules\n",
    "#First to run on the original one image, then on each new forecasted ones"
   ]
  },
  {
   "cell_type": "code",
   "execution_count": 17,
   "id": "47ed0d12-ca3f-4960-a5b7-39ebac26fc1b",
   "metadata": {
    "tags": []
   },
   "outputs": [
    {
     "name": "stdout",
     "output_type": "stream",
     "text": [
      "Alignment method: piecewise-affine\n",
      "\n",
      "Convert geocoded cooridnates to raster coordinates...\n",
      "77.32247924804688 -11.801506996154785\n",
      "wow3 -1385342.1764432844 -248487.6932314939\n",
      "wow4 -3417.607318885532 -4228.7199519054675\n",
      "77.32247924804686 -11.795346710832023\n",
      "wow3 -1385342.1764432858 -248421.7401339251\n",
      "wow4 -3415.958491446312 -4224.118165515657\n",
      "Done.\n",
      "\n",
      "\n",
      "Estimating piecewise-affine transformation...\n",
      "Done.\n",
      "\n",
      "Warping C:\\Anna\\Icedrift\\Special_curriculum\\19-20_subset_experiment\\model_drift\\iterative_lambert\\Aligned_sar\\subset_of_S1A_EW_GRDM_1SDH_20221119T072104_20221119T072208_045960_057FE5_E8B1_Orb_Cal_TC_HV.tif\n",
      "A new name of the file is C:\\Anna\\Icedrift\\Special_curriculum\\19-20_subset_experiment\\model_drift\\iterative_lambert\\Aligned_sar/Aligned_20221119T08_subset_of_S1A_EW_GRDM_1SDH_20221119T072104_20221119T072208_045960_057FE5_E8B1_Orb_Cal_TC_HV.tif\n",
      "Alignment finished in 91.2 minutes\n",
      "\n",
      "Alignment for csv file number 1 completed\n",
      "CPU times: total: 1h 23min 29s\n",
      "Wall time: 1h 31min 12s\n"
     ]
    }
   ],
   "source": [
    "%%time\n",
    "#1) i == 0\n",
    "\n",
    "#set general parameters for the forecast\n",
    "img2_path=r'/home/jovyan/data/SAR_images/subset_of_S1A_EW_GRDM_1SDH_20221120T080155_20221120T080259_045975_05805E_51E1_Orb_Cal_TC_HV.tif'\n",
    "#Set outpath the same as input so all tiff would be saved in obe folder for further animation\n",
    "out_path = tiff_folder\n",
    "\n",
    "for i, file in enumerate(csv_files):\n",
    "    if i == 0:\n",
    "        #Runs forecast algortihm on the original tif for the first csv file\n",
    "        img1_path = tif_files[0]\n",
    "        displacement_path = os.path.join(csv_folder, csv_files[i])\n",
    "        #print(i, displacement_path)\n",
    "        \n",
    "        a = Alignment(img1_path = img1_path,\n",
    "                      img2_path = img2_path, \n",
    "                      displacement_path = displacement_path,\n",
    "                      out_path = out_path, \n",
    "                      geocoded=True)\n",
    "        print(f\"Forecast for csv file number {i+1} completed\")\n",
    "    else:\n",
    "        pass"
   ]
  },
  {
   "cell_type": "code",
   "execution_count": 18,
   "id": "2c75d5a8-1080-4baf-9e12-54a2fc26fe23",
   "metadata": {
    "collapsed": true,
    "jupyter": {
     "outputs_hidden": true
    },
    "tags": []
   },
   "outputs": [
    {
     "name": "stdout",
     "output_type": "stream",
     "text": [
      "already done\n",
      "Tiff folder now contains 2 files\n",
      "Alignment method: piecewise-affine\n",
      "\n",
      "Convert geocoded cooridnates to raster coordinates...\n",
      "77.32247924804688 -11.801506996154785\n",
      "wow3 -1385342.1764432844 -248487.6932314939\n",
      "wow4 -3417.607318885532 -4228.7199519054675\n",
      "77.32247924804686 -11.79171078651359\n",
      "wow3 -1385342.1764432858 -248384.1500597709\n",
      "wow4 -3415.018739592457 -4221.323741850028\n",
      "Done.\n",
      "\n",
      "\n",
      "Estimating piecewise-affine transformation...\n",
      "Done.\n",
      "\n",
      "Warping C:\\Anna\\Icedrift\\Special_curriculum\\19-20_subset_experiment\\model_drift\\iterative_lambert\\Aligned_sar\\Aligned_20221119T08_subset_of_S1A_EW_GRDM_1SDH_20221119T072104_20221119T072208_045960_057FE5_E8B1_Orb_Cal_TC_HV.tif\n",
      "A new name of the file is C:\\Anna\\Icedrift\\Special_curriculum\\19-20_subset_experiment\\model_drift\\iterative_lambert\\Aligned_sar/Aligned_20221119T09_subset_of_S1A_EW_GRDM_1SDH_20221119T072104_20221119T072208_045960_057FE5_E8B1_Orb_Cal_TC_HV.tif\n",
      "Alignment finished in 90.3 minutes\n",
      "\n",
      "Alignment for csv file number 2 completed\n",
      "Tiff folder now contains 3 files\n",
      "Alignment method: piecewise-affine\n",
      "\n",
      "Convert geocoded cooridnates to raster coordinates...\n",
      "77.32247924804688 -11.801506996154785\n",
      "wow3 -1385342.1764432844 -248487.6932314939\n",
      "wow4 -3417.607318885532 -4228.7199519054675\n",
      "77.32247924804686 -11.791867236745212\n",
      "wow3 -1385342.1764432858 -248388.48968491398\n",
      "wow4 -3415.127230221034 -4221.186635701844\n",
      "Done.\n",
      "\n",
      "\n",
      "Estimating piecewise-affine transformation...\n",
      "Done.\n",
      "\n",
      "Warping C:\\Anna\\Icedrift\\Special_curriculum\\19-20_subset_experiment\\model_drift\\iterative_lambert\\Aligned_sar\\Aligned_20221119T09_subset_of_S1A_EW_GRDM_1SDH_20221119T072104_20221119T072208_045960_057FE5_E8B1_Orb_Cal_TC_HV.tif\n",
      "A new name of the file is C:\\Anna\\Icedrift\\Special_curriculum\\19-20_subset_experiment\\model_drift\\iterative_lambert\\Aligned_sar/Aligned_20221119T10_subset_of_S1A_EW_GRDM_1SDH_20221119T072104_20221119T072208_045960_057FE5_E8B1_Orb_Cal_TC_HV.tif\n",
      "Alignment finished in 91.6 minutes\n",
      "\n",
      "Alignment for csv file number 3 completed\n",
      "Tiff folder now contains 4 files\n",
      "Alignment method: piecewise-affine\n",
      "\n",
      "Convert geocoded cooridnates to raster coordinates...\n",
      "77.32247924804688 -11.801506996154785\n",
      "wow3 -1385342.1764432844 -248487.6932314939\n",
      "wow4 -3417.607318885532 -4228.7199519054675\n",
      "77.32247924804686 -11.792015788604706\n",
      "wow3 -1385342.1764432858 -248392.45895468505\n",
      "wow4 -3415.2264619653106 -4220.969442422473\n",
      "Done.\n",
      "\n",
      "\n",
      "Estimating piecewise-affine transformation...\n",
      "Done.\n",
      "\n",
      "Warping C:\\Anna\\Icedrift\\Special_curriculum\\19-20_subset_experiment\\model_drift\\iterative_lambert\\Aligned_sar\\Aligned_20221119T10_subset_of_S1A_EW_GRDM_1SDH_20221119T072104_20221119T072208_045960_057FE5_E8B1_Orb_Cal_TC_HV.tif\n",
      "A new name of the file is C:\\Anna\\Icedrift\\Special_curriculum\\19-20_subset_experiment\\model_drift\\iterative_lambert\\Aligned_sar/Aligned_20221119T11_subset_of_S1A_EW_GRDM_1SDH_20221119T072104_20221119T072208_045960_057FE5_E8B1_Orb_Cal_TC_HV.tif\n",
      "Alignment finished in 90.1 minutes\n",
      "\n",
      "Alignment for csv file number 4 completed\n",
      "Tiff folder now contains 5 files\n",
      "Alignment method: piecewise-affine\n",
      "\n",
      "Convert geocoded cooridnates to raster coordinates...\n",
      "77.32247924804688 -11.801506996154785\n",
      "wow3 -1385342.1764432844 -248487.6932314939\n",
      "wow4 -3417.607318885532 -4228.7199519054675\n",
      "77.32247924804686 -11.792105274604738\n",
      "wow3 -1385342.1764432858 -248395.16484195655\n",
      "wow4 -3415.2941091470984 -4220.669030122782\n",
      "Done.\n",
      "\n",
      "\n",
      "Estimating piecewise-affine transformation...\n",
      "Done.\n",
      "\n",
      "Warping C:\\Anna\\Icedrift\\Special_curriculum\\19-20_subset_experiment\\model_drift\\iterative_lambert\\Aligned_sar\\Aligned_20221119T11_subset_of_S1A_EW_GRDM_1SDH_20221119T072104_20221119T072208_045960_057FE5_E8B1_Orb_Cal_TC_HV.tif\n",
      "A new name of the file is C:\\Anna\\Icedrift\\Special_curriculum\\19-20_subset_experiment\\model_drift\\iterative_lambert\\Aligned_sar/Aligned_20221119T12_subset_of_S1A_EW_GRDM_1SDH_20221119T072104_20221119T072208_045960_057FE5_E8B1_Orb_Cal_TC_HV.tif\n",
      "Alignment finished in 90.2 minutes\n",
      "\n",
      "Alignment for csv file number 5 completed\n",
      "Tiff folder now contains 6 files\n",
      "Alignment method: piecewise-affine\n",
      "\n",
      "Convert geocoded cooridnates to raster coordinates...\n",
      "77.32247924804688 -11.801506996154785\n",
      "wow3 -1385342.1764432844 -248487.6932314939\n",
      "wow4 -3417.607318885532 -4228.7199519054675\n",
      "77.32247924804686 -11.792162293365184\n",
      "wow3 -1385342.1764432858 -248396.73311097303\n",
      "wow4 -3415.3333158725104 -4220.333548838066\n",
      "Done.\n",
      "\n",
      "\n",
      "Estimating piecewise-affine transformation...\n",
      "Done.\n",
      "\n",
      "Warping C:\\Anna\\Icedrift\\Special_curriculum\\19-20_subset_experiment\\model_drift\\iterative_lambert\\Aligned_sar\\Aligned_20221119T12_subset_of_S1A_EW_GRDM_1SDH_20221119T072104_20221119T072208_045960_057FE5_E8B1_Orb_Cal_TC_HV.tif\n",
      "A new name of the file is C:\\Anna\\Icedrift\\Special_curriculum\\19-20_subset_experiment\\model_drift\\iterative_lambert\\Aligned_sar/Aligned_20221119T13_subset_of_S1A_EW_GRDM_1SDH_20221119T072104_20221119T072208_045960_057FE5_E8B1_Orb_Cal_TC_HV.tif\n",
      "Alignment finished in 91.5 minutes\n",
      "\n",
      "Alignment for csv file number 6 completed\n",
      "Tiff folder now contains 7 files\n",
      "Alignment method: piecewise-affine\n",
      "\n",
      "Convert geocoded cooridnates to raster coordinates...\n",
      "77.32247924804688 -11.801506996154785\n",
      "wow3 -1385342.1764432844 -248487.6932314939\n",
      "wow4 -3417.607318885532 -4228.7199519054675\n",
      "77.32247924804686 -11.792281822652372\n",
      "wow3 -1385342.1764432858 -248397.55952986697\n",
      "wow4 -3415.353976344859 -4220.00004648685\n",
      "Done.\n",
      "\n",
      "\n",
      "Estimating piecewise-affine transformation...\n",
      "Done.\n",
      "\n",
      "Warping C:\\Anna\\Icedrift\\Special_curriculum\\19-20_subset_experiment\\model_drift\\iterative_lambert\\Aligned_sar\\Aligned_20221119T13_subset_of_S1A_EW_GRDM_1SDH_20221119T072104_20221119T072208_045960_057FE5_E8B1_Orb_Cal_TC_HV.tif\n",
      "A new name of the file is C:\\Anna\\Icedrift\\Special_curriculum\\19-20_subset_experiment\\model_drift\\iterative_lambert\\Aligned_sar/Aligned_20221119T14_subset_of_S1A_EW_GRDM_1SDH_20221119T072104_20221119T072208_045960_057FE5_E8B1_Orb_Cal_TC_HV.tif\n",
      "Alignment finished in 92.0 minutes\n",
      "\n",
      "Alignment for csv file number 7 completed\n",
      "Tiff folder now contains 8 files\n",
      "Alignment method: piecewise-affine\n",
      "\n",
      "Convert geocoded cooridnates to raster coordinates...\n",
      "77.32247924804688 -11.801506996154785\n",
      "wow3 -1385342.1764432844 -248487.6932314939\n",
      "wow4 -3417.607318885532 -4228.7199519054675\n",
      "77.32247924804686 -11.792389081968567\n",
      "wow3 -1385342.1764432858 -248396.314813441\n",
      "wow4 -3415.322858434209 -4219.707406723348\n",
      "Done.\n",
      "\n",
      "\n",
      "Estimating piecewise-affine transformation...\n",
      "Done.\n",
      "\n",
      "Warping C:\\Anna\\Icedrift\\Special_curriculum\\19-20_subset_experiment\\model_drift\\iterative_lambert\\Aligned_sar\\Aligned_20221119T14_subset_of_S1A_EW_GRDM_1SDH_20221119T072104_20221119T072208_045960_057FE5_E8B1_Orb_Cal_TC_HV.tif\n",
      "A new name of the file is C:\\Anna\\Icedrift\\Special_curriculum\\19-20_subset_experiment\\model_drift\\iterative_lambert\\Aligned_sar/Aligned_20221119T15_subset_of_S1A_EW_GRDM_1SDH_20221119T072104_20221119T072208_045960_057FE5_E8B1_Orb_Cal_TC_HV.tif\n",
      "Alignment finished in 90.7 minutes\n",
      "\n",
      "Alignment for csv file number 8 completed\n",
      "Tiff folder now contains 9 files\n",
      "Alignment method: piecewise-affine\n",
      "\n",
      "Convert geocoded cooridnates to raster coordinates...\n",
      "77.32247924804688 -11.801506996154785\n",
      "wow3 -1385342.1764432844 -248487.6932314939\n",
      "wow4 -3417.607318885532 -4228.7199519054675\n",
      "77.32247924804686 -11.792389092245115\n",
      "wow3 -1385342.1764432858 -248392.49020430414\n",
      "wow4 -3415.227243205788 -4219.429470663718\n",
      "Done.\n",
      "\n",
      "\n",
      "Estimating piecewise-affine transformation...\n",
      "Done.\n",
      "\n",
      "Warping C:\\Anna\\Icedrift\\Special_curriculum\\19-20_subset_experiment\\model_drift\\iterative_lambert\\Aligned_sar\\Aligned_20221119T15_subset_of_S1A_EW_GRDM_1SDH_20221119T072104_20221119T072208_045960_057FE5_E8B1_Orb_Cal_TC_HV.tif\n",
      "A new name of the file is C:\\Anna\\Icedrift\\Special_curriculum\\19-20_subset_experiment\\model_drift\\iterative_lambert\\Aligned_sar/Aligned_20221119T16_subset_of_S1A_EW_GRDM_1SDH_20221119T072104_20221119T072208_045960_057FE5_E8B1_Orb_Cal_TC_HV.tif\n",
      "Alignment finished in 90.6 minutes\n",
      "\n",
      "Alignment for csv file number 9 completed\n",
      "Tiff folder now contains 10 files\n",
      "Alignment method: piecewise-affine\n",
      "\n",
      "Convert geocoded cooridnates to raster coordinates...\n",
      "77.32247924804688 -11.801506996154785\n",
      "wow3 -1385342.1764432844 -248487.6932314939\n",
      "wow4 -3417.607318885532 -4228.7199519054675\n",
      "77.32247924804686 -11.79238456238447\n",
      "wow3 -1385342.1764432858 -248388.84371323843\n",
      "wow4 -3415.1360809291455 -4219.126032704272\n",
      "Done.\n",
      "\n",
      "\n",
      "Estimating piecewise-affine transformation...\n",
      "Done.\n",
      "\n",
      "Warping C:\\Anna\\Icedrift\\Special_curriculum\\19-20_subset_experiment\\model_drift\\iterative_lambert\\Aligned_sar\\Aligned_20221119T16_subset_of_S1A_EW_GRDM_1SDH_20221119T072104_20221119T072208_045960_057FE5_E8B1_Orb_Cal_TC_HV.tif\n",
      "A new name of the file is C:\\Anna\\Icedrift\\Special_curriculum\\19-20_subset_experiment\\model_drift\\iterative_lambert\\Aligned_sar/Aligned_20221119T17_subset_of_S1A_EW_GRDM_1SDH_20221119T072104_20221119T072208_045960_057FE5_E8B1_Orb_Cal_TC_HV.tif\n",
      "Alignment finished in 90.9 minutes\n",
      "\n",
      "Alignment for csv file number 10 completed\n",
      "Tiff folder now contains 11 files\n",
      "Alignment method: piecewise-affine\n",
      "\n",
      "Convert geocoded cooridnates to raster coordinates...\n",
      "77.32247924804688 -11.801506996154785\n",
      "wow3 -1385342.1764432844 -248487.6932314939\n",
      "wow4 -3417.607318885532 -4228.7199519054675\n",
      "77.32247924804686 -11.792359173939193\n",
      "wow3 -1385342.1764432858 -248385.92021810068\n",
      "wow4 -3415.062993550702 -4218.834184963009\n",
      "Done.\n",
      "\n",
      "\n",
      "Estimating piecewise-affine transformation...\n",
      "Done.\n",
      "\n",
      "Warping C:\\Anna\\Icedrift\\Special_curriculum\\19-20_subset_experiment\\model_drift\\iterative_lambert\\Aligned_sar\\Aligned_20221119T17_subset_of_S1A_EW_GRDM_1SDH_20221119T072104_20221119T072208_045960_057FE5_E8B1_Orb_Cal_TC_HV.tif\n",
      "A new name of the file is C:\\Anna\\Icedrift\\Special_curriculum\\19-20_subset_experiment\\model_drift\\iterative_lambert\\Aligned_sar/Aligned_20221119T18_subset_of_S1A_EW_GRDM_1SDH_20221119T072104_20221119T072208_045960_057FE5_E8B1_Orb_Cal_TC_HV.tif\n",
      "Alignment finished in 92.0 minutes\n",
      "\n",
      "Alignment for csv file number 11 completed\n",
      "Tiff folder now contains 12 files\n",
      "Alignment method: piecewise-affine\n",
      "\n",
      "Convert geocoded cooridnates to raster coordinates...\n",
      "77.32247924804688 -11.801506996154785\n",
      "wow3 -1385342.1764432844 -248487.6932314939\n",
      "wow4 -3417.607318885532 -4228.7199519054675\n",
      "77.32247924804686 -11.792282290368615\n",
      "wow3 -1385342.1764432858 -248383.17864051592\n",
      "wow4 -3414.9944541110826 -4218.602693121214\n",
      "Done.\n",
      "\n",
      "\n",
      "Estimating piecewise-affine transformation...\n",
      "Done.\n",
      "\n",
      "Warping C:\\Anna\\Icedrift\\Special_curriculum\\19-20_subset_experiment\\model_drift\\iterative_lambert\\Aligned_sar\\Aligned_20221119T18_subset_of_S1A_EW_GRDM_1SDH_20221119T072104_20221119T072208_045960_057FE5_E8B1_Orb_Cal_TC_HV.tif\n",
      "A new name of the file is C:\\Anna\\Icedrift\\Special_curriculum\\19-20_subset_experiment\\model_drift\\iterative_lambert\\Aligned_sar/Aligned_20221119T19_subset_of_S1A_EW_GRDM_1SDH_20221119T072104_20221119T072208_045960_057FE5_E8B1_Orb_Cal_TC_HV.tif\n",
      "Alignment finished in 92.4 minutes\n",
      "\n",
      "Alignment for csv file number 12 completed\n",
      "Tiff folder now contains 13 files\n",
      "Alignment method: piecewise-affine\n",
      "\n",
      "Convert geocoded cooridnates to raster coordinates...\n",
      "77.32247924804688 -11.801506996154785\n",
      "wow3 -1385342.1764432844 -248487.6932314939\n",
      "wow4 -3417.607318885532 -4228.7199519054675\n",
      "77.32247924804686 -11.792140164100777\n",
      "wow3 -1385342.1764432858 -248379.76850804265\n",
      "wow4 -3414.909200799251 -4218.444458754044\n",
      "Done.\n",
      "\n",
      "\n",
      "Estimating piecewise-affine transformation...\n",
      "Done.\n",
      "\n",
      "Warping C:\\Anna\\Icedrift\\Special_curriculum\\19-20_subset_experiment\\model_drift\\iterative_lambert\\Aligned_sar\\Aligned_20221119T19_subset_of_S1A_EW_GRDM_1SDH_20221119T072104_20221119T072208_045960_057FE5_E8B1_Orb_Cal_TC_HV.tif\n",
      "A new name of the file is C:\\Anna\\Icedrift\\Special_curriculum\\19-20_subset_experiment\\model_drift\\iterative_lambert\\Aligned_sar/Aligned_20221119T20_subset_of_S1A_EW_GRDM_1SDH_20221119T072104_20221119T072208_045960_057FE5_E8B1_Orb_Cal_TC_HV.tif\n",
      "Alignment finished in 90.9 minutes\n",
      "\n",
      "Alignment for csv file number 13 completed\n",
      "Tiff folder now contains 14 files\n",
      "Alignment method: piecewise-affine\n",
      "\n",
      "Convert geocoded cooridnates to raster coordinates...\n",
      "77.32247924804688 -11.801506996154785\n",
      "wow3 -1385342.1764432844 -248487.6932314939\n",
      "wow4 -3417.607318885532 -4228.7199519054675\n",
      "77.32247924804686 -11.791983325634726\n",
      "wow3 -1385342.1764432858 -248376.12867871905\n",
      "wow4 -3414.8182050661608 -4218.338237478654\n",
      "Done.\n",
      "\n",
      "\n",
      "Estimating piecewise-affine transformation...\n",
      "Done.\n",
      "\n",
      "Warping C:\\Anna\\Icedrift\\Special_curriculum\\19-20_subset_experiment\\model_drift\\iterative_lambert\\Aligned_sar\\Aligned_20221119T20_subset_of_S1A_EW_GRDM_1SDH_20221119T072104_20221119T072208_045960_057FE5_E8B1_Orb_Cal_TC_HV.tif\n",
      "A new name of the file is C:\\Anna\\Icedrift\\Special_curriculum\\19-20_subset_experiment\\model_drift\\iterative_lambert\\Aligned_sar/Aligned_20221119T21_subset_of_S1A_EW_GRDM_1SDH_20221119T072104_20221119T072208_045960_057FE5_E8B1_Orb_Cal_TC_HV.tif\n",
      "Alignment finished in 91.9 minutes\n",
      "\n",
      "Alignment for csv file number 14 completed\n",
      "Tiff folder now contains 15 files\n",
      "Alignment method: piecewise-affine\n",
      "\n",
      "Convert geocoded cooridnates to raster coordinates...\n",
      "77.32247924804688 -11.801506996154785\n",
      "wow3 -1385342.1764432844 -248487.6932314939\n",
      "wow4 -3417.607318885532 -4228.7199519054675\n",
      "77.32247924804686 -11.791887164364878\n",
      "wow3 -1385342.1764432858 -248373.61070512896\n",
      "wow4 -3414.7552557264084 -4218.282745095942\n",
      "Done.\n",
      "\n",
      "\n",
      "Estimating piecewise-affine transformation...\n",
      "Done.\n",
      "\n",
      "Warping C:\\Anna\\Icedrift\\Special_curriculum\\19-20_subset_experiment\\model_drift\\iterative_lambert\\Aligned_sar\\Aligned_20221119T21_subset_of_S1A_EW_GRDM_1SDH_20221119T072104_20221119T072208_045960_057FE5_E8B1_Orb_Cal_TC_HV.tif\n",
      "A new name of the file is C:\\Anna\\Icedrift\\Special_curriculum\\19-20_subset_experiment\\model_drift\\iterative_lambert\\Aligned_sar/Aligned_20221119T22_subset_of_S1A_EW_GRDM_1SDH_20221119T072104_20221119T072208_045960_057FE5_E8B1_Orb_Cal_TC_HV.tif\n",
      "Alignment finished in 91.1 minutes\n",
      "\n",
      "Alignment for csv file number 15 completed\n",
      "Tiff folder now contains 16 files\n",
      "Alignment method: piecewise-affine\n",
      "\n",
      "Convert geocoded cooridnates to raster coordinates...\n",
      "77.32247924804688 -11.801506996154785\n",
      "wow3 -1385342.1764432844 -248487.6932314939\n",
      "wow4 -3417.607318885532 -4228.7199519054675\n",
      "77.32247924804686 -11.791722347317634\n",
      "wow3 -1385342.1764432858 -248369.0825810592\n",
      "wow4 -3414.6420526246643 -4218.266718607562\n",
      "Done.\n",
      "\n",
      "\n",
      "Estimating piecewise-affine transformation...\n",
      "Done.\n",
      "\n",
      "Warping C:\\Anna\\Icedrift\\Special_curriculum\\19-20_subset_experiment\\model_drift\\iterative_lambert\\Aligned_sar\\Aligned_20221119T22_subset_of_S1A_EW_GRDM_1SDH_20221119T072104_20221119T072208_045960_057FE5_E8B1_Orb_Cal_TC_HV.tif\n",
      "A new name of the file is C:\\Anna\\Icedrift\\Special_curriculum\\19-20_subset_experiment\\model_drift\\iterative_lambert\\Aligned_sar/Aligned_20221119T23_subset_of_S1A_EW_GRDM_1SDH_20221119T072104_20221119T072208_045960_057FE5_E8B1_Orb_Cal_TC_HV.tif\n",
      "Alignment finished in 91.7 minutes\n",
      "\n",
      "Alignment for csv file number 16 completed\n",
      "Tiff folder now contains 17 files\n",
      "Alignment method: piecewise-affine\n",
      "\n",
      "Convert geocoded cooridnates to raster coordinates...\n",
      "77.32247924804688 -11.801506996154785\n",
      "wow3 -1385342.1764432844 -248487.6932314939\n",
      "wow4 -3417.607318885532 -4228.7199519054675\n",
      "77.32247924804686 -11.791495687546993\n",
      "wow3 -1385342.1764432858 -248362.53297063647\n",
      "wow4 -3414.4783123640964 -4218.278969881922\n",
      "Done.\n",
      "\n",
      "\n",
      "Estimating piecewise-affine transformation...\n",
      "Done.\n",
      "\n",
      "Warping C:\\Anna\\Icedrift\\Special_curriculum\\19-20_subset_experiment\\model_drift\\iterative_lambert\\Aligned_sar\\Aligned_20221119T23_subset_of_S1A_EW_GRDM_1SDH_20221119T072104_20221119T072208_045960_057FE5_E8B1_Orb_Cal_TC_HV.tif\n",
      "A new name of the file is C:\\Anna\\Icedrift\\Special_curriculum\\19-20_subset_experiment\\model_drift\\iterative_lambert\\Aligned_sar/Aligned_20221120T00_subset_of_S1A_EW_GRDM_1SDH_20221119T072104_20221119T072208_045960_057FE5_E8B1_Orb_Cal_TC_HV.tif\n",
      "Alignment finished in 91.8 minutes\n",
      "\n",
      "Alignment for csv file number 17 completed\n",
      "Tiff folder now contains 18 files\n",
      "Alignment method: piecewise-affine\n",
      "\n",
      "Convert geocoded cooridnates to raster coordinates...\n",
      "77.32247924804688 -11.801506996154785\n",
      "wow3 -1385342.1764432844 -248487.6932314939\n",
      "wow4 -3417.607318885532 -4228.7199519054675\n",
      "77.32247924804686 -11.791263167175915\n",
      "wow3 -1385342.1764432858 -248355.80371612334\n",
      "wow4 -3414.310081001268 -4218.319004126638\n",
      "Done.\n",
      "\n",
      "\n",
      "Estimating piecewise-affine transformation...\n",
      "Done.\n",
      "\n",
      "Warping C:\\Anna\\Icedrift\\Special_curriculum\\19-20_subset_experiment\\model_drift\\iterative_lambert\\Aligned_sar\\Aligned_20221120T00_subset_of_S1A_EW_GRDM_1SDH_20221119T072104_20221119T072208_045960_057FE5_E8B1_Orb_Cal_TC_HV.tif\n",
      "A new name of the file is C:\\Anna\\Icedrift\\Special_curriculum\\19-20_subset_experiment\\model_drift\\iterative_lambert\\Aligned_sar/Aligned_20221120T01_subset_of_S1A_EW_GRDM_1SDH_20221119T072104_20221119T072208_045960_057FE5_E8B1_Orb_Cal_TC_HV.tif\n",
      "Alignment finished in 90.6 minutes\n",
      "\n",
      "Alignment for csv file number 18 completed\n",
      "Tiff folder now contains 19 files\n",
      "Alignment method: piecewise-affine\n",
      "\n",
      "Convert geocoded cooridnates to raster coordinates...\n",
      "77.32247924804688 -11.801506996154785\n",
      "wow3 -1385342.1764432844 -248487.6932314939\n",
      "wow4 -3417.607318885532 -4228.7199519054675\n",
      "77.32247924804686 -11.791043393138589\n",
      "wow3 -1385342.1764432858 -248349.427390698\n",
      "wow4 -3414.1506728656345 -4218.352835869181\n",
      "Done.\n",
      "\n",
      "\n",
      "Estimating piecewise-affine transformation...\n",
      "Done.\n",
      "\n",
      "Warping C:\\Anna\\Icedrift\\Special_curriculum\\19-20_subset_experiment\\model_drift\\iterative_lambert\\Aligned_sar\\Aligned_20221120T01_subset_of_S1A_EW_GRDM_1SDH_20221119T072104_20221119T072208_045960_057FE5_E8B1_Orb_Cal_TC_HV.tif\n",
      "A new name of the file is C:\\Anna\\Icedrift\\Special_curriculum\\19-20_subset_experiment\\model_drift\\iterative_lambert\\Aligned_sar/Aligned_20221120T02_subset_of_S1A_EW_GRDM_1SDH_20221119T072104_20221119T072208_045960_057FE5_E8B1_Orb_Cal_TC_HV.tif\n",
      "Alignment finished in 92.0 minutes\n",
      "\n",
      "Alignment for csv file number 19 completed\n",
      "Tiff folder now contains 20 files\n",
      "Alignment method: piecewise-affine\n",
      "\n",
      "Convert geocoded cooridnates to raster coordinates...\n",
      "77.32247924804688 -11.801506996154785\n",
      "wow3 -1385342.1764432844 -248487.6932314939\n",
      "wow4 -3417.607318885532 -4228.7199519054675\n",
      "77.32247924804686 -11.790865479084248\n",
      "wow3 -1385342.1764432858 -248344.08532940352\n",
      "wow4 -3414.0171213332724 -4218.339668669468\n",
      "Done.\n",
      "\n",
      "\n",
      "Estimating piecewise-affine transformation...\n",
      "Done.\n",
      "\n",
      "Warping C:\\Anna\\Icedrift\\Special_curriculum\\19-20_subset_experiment\\model_drift\\iterative_lambert\\Aligned_sar\\Aligned_20221120T02_subset_of_S1A_EW_GRDM_1SDH_20221119T072104_20221119T072208_045960_057FE5_E8B1_Orb_Cal_TC_HV.tif\n",
      "A new name of the file is C:\\Anna\\Icedrift\\Special_curriculum\\19-20_subset_experiment\\model_drift\\iterative_lambert\\Aligned_sar/Aligned_20221120T03_subset_of_S1A_EW_GRDM_1SDH_20221119T072104_20221119T072208_045960_057FE5_E8B1_Orb_Cal_TC_HV.tif\n",
      "Alignment finished in 90.6 minutes\n",
      "\n",
      "Alignment for csv file number 20 completed\n",
      "Tiff folder now contains 21 files\n",
      "Alignment method: piecewise-affine\n",
      "\n",
      "Convert geocoded cooridnates to raster coordinates...\n",
      "77.32247924804688 -11.801506996154785\n",
      "wow3 -1385342.1764432844 -248487.6932314939\n",
      "wow4 -3417.607318885532 -4228.7199519054675\n",
      "77.32247924804686 -11.790723732818586\n",
      "wow3 -1385342.1764432858 -248339.90263664917\n",
      "wow4 -3413.912554014414 -4218.292700696181\n",
      "Done.\n",
      "\n",
      "\n",
      "Estimating piecewise-affine transformation...\n",
      "Done.\n",
      "\n",
      "Warping C:\\Anna\\Icedrift\\Special_curriculum\\19-20_subset_experiment\\model_drift\\iterative_lambert\\Aligned_sar\\Aligned_20221120T03_subset_of_S1A_EW_GRDM_1SDH_20221119T072104_20221119T072208_045960_057FE5_E8B1_Orb_Cal_TC_HV.tif\n",
      "A new name of the file is C:\\Anna\\Icedrift\\Special_curriculum\\19-20_subset_experiment\\model_drift\\iterative_lambert\\Aligned_sar/Aligned_20221120T04_subset_of_S1A_EW_GRDM_1SDH_20221119T072104_20221119T072208_045960_057FE5_E8B1_Orb_Cal_TC_HV.tif\n",
      "Alignment finished in 91.1 minutes\n",
      "\n",
      "Alignment for csv file number 21 completed\n",
      "Tiff folder now contains 22 files\n",
      "Alignment method: piecewise-affine\n",
      "\n",
      "Convert geocoded cooridnates to raster coordinates...\n",
      "77.32247924804688 -11.801506996154785\n",
      "wow3 -1385342.1764432844 -248487.6932314939\n",
      "wow4 -3417.607318885532 -4228.7199519054675\n",
      "77.32247924804686 -11.790616328610287\n",
      "wow3 -1385342.1764432858 -248336.85644092096\n",
      "wow4 -3413.8363991212086 -4218.226444036642\n",
      "Done.\n",
      "\n",
      "\n",
      "Estimating piecewise-affine transformation...\n",
      "Done.\n",
      "\n",
      "Warping C:\\Anna\\Icedrift\\Special_curriculum\\19-20_subset_experiment\\model_drift\\iterative_lambert\\Aligned_sar\\Aligned_20221120T04_subset_of_S1A_EW_GRDM_1SDH_20221119T072104_20221119T072208_045960_057FE5_E8B1_Orb_Cal_TC_HV.tif\n",
      "A new name of the file is C:\\Anna\\Icedrift\\Special_curriculum\\19-20_subset_experiment\\model_drift\\iterative_lambert\\Aligned_sar/Aligned_20221120T05_subset_of_S1A_EW_GRDM_1SDH_20221119T072104_20221119T072208_045960_057FE5_E8B1_Orb_Cal_TC_HV.tif\n",
      "Alignment finished in 92.3 minutes\n",
      "\n",
      "Alignment for csv file number 22 completed\n",
      "Tiff folder now contains 23 files\n",
      "Alignment method: piecewise-affine\n",
      "\n",
      "Convert geocoded cooridnates to raster coordinates...\n",
      "77.32247924804688 -11.801506996154785\n",
      "wow3 -1385342.1764432844 -248487.6932314939\n",
      "wow4 -3417.607318885532 -4228.7199519054675\n",
      "77.32247924804686 -11.790548315015432\n",
      "wow3 -1385342.1764432858 -248334.81835981985\n",
      "wow4 -3413.785447093681 -4218.154936085863\n",
      "Done.\n",
      "\n",
      "\n",
      "Estimating piecewise-affine transformation...\n",
      "Done.\n",
      "\n",
      "Warping C:\\Anna\\Icedrift\\Special_curriculum\\19-20_subset_experiment\\model_drift\\iterative_lambert\\Aligned_sar\\Aligned_20221120T05_subset_of_S1A_EW_GRDM_1SDH_20221119T072104_20221119T072208_045960_057FE5_E8B1_Orb_Cal_TC_HV.tif\n",
      "A new name of the file is C:\\Anna\\Icedrift\\Special_curriculum\\19-20_subset_experiment\\model_drift\\iterative_lambert\\Aligned_sar/Aligned_20221120T06_subset_of_S1A_EW_GRDM_1SDH_20221119T072104_20221119T072208_045960_057FE5_E8B1_Orb_Cal_TC_HV.tif\n",
      "Alignment finished in 90.0 minutes\n",
      "\n",
      "Alignment for csv file number 23 completed\n",
      "Tiff folder now contains 24 files\n",
      "Alignment method: piecewise-affine\n",
      "\n",
      "Convert geocoded cooridnates to raster coordinates...\n",
      "77.32247924804688 -11.801506996154785\n",
      "wow3 -1385342.1764432844 -248487.6932314939\n",
      "wow4 -3417.607318885532 -4228.7199519054675\n",
      "77.32247924804686 -11.790517799976245\n",
      "wow3 -1385342.1764432858 -248333.64480501966\n",
      "wow4 -3413.756108223676 -4218.055619899702\n",
      "Done.\n",
      "\n",
      "\n",
      "Estimating piecewise-affine transformation...\n",
      "Done.\n",
      "\n",
      "Warping C:\\Anna\\Icedrift\\Special_curriculum\\19-20_subset_experiment\\model_drift\\iterative_lambert\\Aligned_sar\\Aligned_20221120T06_subset_of_S1A_EW_GRDM_1SDH_20221119T072104_20221119T072208_045960_057FE5_E8B1_Orb_Cal_TC_HV.tif\n",
      "A new name of the file is C:\\Anna\\Icedrift\\Special_curriculum\\19-20_subset_experiment\\model_drift\\iterative_lambert\\Aligned_sar/Aligned_20221120T07_subset_of_S1A_EW_GRDM_1SDH_20221119T072104_20221119T072208_045960_057FE5_E8B1_Orb_Cal_TC_HV.tif\n",
      "Alignment finished in 91.1 minutes\n",
      "\n",
      "Alignment for csv file number 24 completed\n",
      "Tiff folder now contains 25 files\n",
      "Alignment method: piecewise-affine\n",
      "\n",
      "Convert geocoded cooridnates to raster coordinates...\n",
      "77.32247924804688 -11.801506996154785\n",
      "wow3 -1385342.1764432844 -248487.6932314939\n",
      "wow4 -3417.607318885532 -4228.7199519054675\n",
      "77.32247924804686 -11.790464600429026\n",
      "wow3 -1385342.1764432858 -248332.0043526494\n",
      "wow4 -3413.71509691442 -4217.967291278451\n",
      "Done.\n",
      "\n",
      "\n",
      "Estimating piecewise-affine transformation...\n",
      "Done.\n",
      "\n",
      "Warping C:\\Anna\\Icedrift\\Special_curriculum\\19-20_subset_experiment\\model_drift\\iterative_lambert\\Aligned_sar\\Aligned_20221120T07_subset_of_S1A_EW_GRDM_1SDH_20221119T072104_20221119T072208_045960_057FE5_E8B1_Orb_Cal_TC_HV.tif\n",
      "A new name of the file is C:\\Anna\\Icedrift\\Special_curriculum\\19-20_subset_experiment\\model_drift\\iterative_lambert\\Aligned_sar/Aligned_20221120T08_subset_of_S1A_EW_GRDM_1SDH_20221119T072104_20221119T072208_045960_057FE5_E8B1_Orb_Cal_TC_HV.tif\n",
      "Alignment finished in 91.0 minutes\n",
      "\n",
      "Alignment for csv file number 25 completed\n",
      "Tiff folder now contains 26 files\n",
      "Alignment method: piecewise-affine\n",
      "\n",
      "Convert geocoded cooridnates to raster coordinates...\n",
      "77.32247924804688 -11.801506996154785\n",
      "wow3 -1385342.1764432844 -248487.6932314939\n",
      "wow4 -3417.607318885532 -4228.7199519054675\n",
      "77.32247924804686 -11.80094733738757\n",
      "wow3 -1385342.1764432858 -248479.68230181903\n",
      "wow4 -3417.4070456436602 -4228.184504397324\n",
      "Done.\n",
      "\n",
      "\n",
      "Estimating piecewise-affine transformation...\n",
      "Done.\n",
      "\n",
      "Warping C:\\Anna\\Icedrift\\Special_curriculum\\19-20_subset_experiment\\model_drift\\iterative_lambert\\Aligned_sar\\Aligned_20221120T08_subset_of_S1A_EW_GRDM_1SDH_20221119T072104_20221119T072208_045960_057FE5_E8B1_Orb_Cal_TC_HV.tif\n",
      "A new name of the file is C:\\Anna\\Icedrift\\Special_curriculum\\19-20_subset_experiment\\model_drift\\iterative_lambert\\Aligned_sar/Aligned_20221120T09_subset_of_S1A_EW_GRDM_1SDH_20221119T072104_20221119T072208_045960_057FE5_E8B1_Orb_Cal_TC_HV.tif\n",
      "Alignment finished in 91.2 minutes\n",
      "\n",
      "Alignment for csv file number 26 completed\n",
      "CPU times: total: 1d 10h 15min 35s\n",
      "Wall time: 1d 13h 59min 29s\n"
     ]
    }
   ],
   "source": [
    "%%time\n",
    "#2) i > 0\n",
    "\n",
    "#set general parameters for alignment\n",
    "img2_path=r'/home/jovyan/data/SAR_images/subset_of_S1A_EW_GRDM_1SDH_20221120T080155_20221120T080259_045975_05805E_51E1_Orb_Cal_TC_HV.tif'\n",
    "#Set outpath the same as input so all tiff would be saved in obe folder for further animation\n",
    "out_path = tiff_folder\n",
    "\n",
    "for i, file in enumerate(csv_files):\n",
    "    if i == 0:\n",
    "        print(\"already done\")\n",
    "\n",
    "    if i > 0:\n",
    "\n",
    "        #First, update a list of tif files. I use this as I don't know how to get output out of Denis's class to append it to the list\n",
    "        tif_files = glob.glob(os.path.join(tiff_folder, '*.tif'))\n",
    "\n",
    "        #sorting the list by creation time. if I would just append, I'd use tif_files[-1] immidiatly\n",
    "        tif_files = sorted(tif_files, key=Zlambda x: os.path.getctime(os.path.join(tiff_folder, x)))\n",
    "        print(f\"Tiff folder now contains {len(tif_files)} files\")\n",
    "\n",
    "        #Using the last created aligned tif file from the list     \n",
    "        img1_path = tif_files[-1]\n",
    "        displacement_path = os.path.join(csv_folder, csv_files[i])\n",
    "        \n",
    "        a = Alignment(img1_path = img1_path,\n",
    "              img2_path = img2_path,\n",
    "              displacement_path = displacement_path,\n",
    "              out_path = out_path,\n",
    "              geocoded=True)\n",
    "        print(f\"Alignment for csv file number {i+1} completed\")\n"
   ]
  },
  {
   "cell_type": "markdown",
   "id": "2a64c621-5ac5-42d9-b383-9579a8634cff",
   "metadata": {
    "jp-MarkdownHeadingCollapsed": true,
    "tags": []
   },
   "source": [
    "### Version which for some reason doesn't work (but try to run again."
   ]
  },
  {
   "cell_type": "code",
   "execution_count": null,
   "id": "fb3988cf-9f1d-4784-90fc-e844c6cabba5",
   "metadata": {
    "tags": []
   },
   "outputs": [
    {
     "name": "stdout",
     "output_type": "stream",
     "text": [
      "Alignment method: piecewise-affine\n",
      "\n",
      "Convert geocoded cooridnates to raster coordinates...\n",
      "79.65628051757812 -8.828641891479492\n",
      "wow3 -1135617.5582795101 -152852.05443175766\n",
      "wow4 -784.7163488921259 -728.8975283399841\n",
      "79.65455873074836 -8.81192071532945\n",
      "wow3 -1135862.735876632 -152649.2009924326\n",
      "wow4 -779.6450129089994 -727.3873988878947\n",
      "Done.\n",
      "\n",
      "\n",
      "Estimating piecewise-affine transformation...\n",
      "Done.\n",
      "\n",
      "Warping C:\\Anna\\Icedrift\\Chalmers\\alignment_OOP\\alignment_test_data\\ensemble_experiment\\ens8_hourly_drift\\sar_images\\subset_S1A_EW_GRDM_1SDH_20221119T072104_20221119T072208_045960_057FE5_E8B1_Orb_Cal_TC_HV.tif\n",
      "A new name of the file is C:\\Anna\\Icedrift\\Chalmers\\alignment_OOP\\alignment_test_data\\ensemble_experiment\\ens8_hourly_drift\\sar_images/Aligned_20221119T08_subset_S1A_EW_GRDM_1SDH_20221119T072104_20221119T072208_045960_057FE5_E8B1_Orb_Cal_TC_HV.tif\n"
     ]
    }
   ],
   "source": [
    "#I checnged ALign.py and now it names first files without \"Aligned\" in the beginning and just then with\n",
    "\n",
    "#set general parameters for alignment\n",
    "img2_path = r'C:\\Anna\\Icedrift\\Chalmers\\alignment_OOP\\alignment_test_data\\ensemble_experiment\\sar2\\subset_S1A_EW_GRDM_1SDH_20221120T080155_20221120T080259_045975_05805E_51E1_Orb_Cal_TC_HV.tif' #have to set it as alignment asks for it\n",
    "#Set outpath the same as input so all tiff would be saved in obe folder for further animation\n",
    "out_path = tiff_folder\n",
    "\n",
    "for i, file in enumerate(csv_files):\n",
    "    if i == 0:\n",
    "        #Runs alignment algortihm on the original tif for the first csv file\n",
    "        img1_path = tif_files[0]\n",
    "        displacement_path = os.path.join(csv_folder, csv_files[i])\n",
    "        #print(i, displacement_path)\n",
    "        \n",
    "        a = Alignment(img1_path = img1_path,\n",
    "                      img2_path = img2_path, \n",
    "                      displacement_path = displacement_path,\n",
    "                      out_path = out_path, \n",
    "                      geocoded=True)\n",
    "        print(f\"Alignment for csv file number {i+1} completed\")\n",
    "\n",
    "    if i > 0:\n",
    "\n",
    "        #First, update a list of tif files. I use this as I don't know how to get output out of Denis's class to append it to the list\n",
    "        tif_files = glob.glob(os.path.join(tiff_folder, '*.tif'))\n",
    "\n",
    "        #sorting the list by creation time. if I would just append, I'd use tif_files[-1] immidiatly\n",
    "        tif_files = sorted(tif_files, key=lambda x: os.path.getctime(os.path.join(tiff_folder, x)))\n",
    "        print(f\"Tiff folder now contains {len(tif_files)} files\")\n",
    "\n",
    "        #Using the last created aligned tif file from the list     \n",
    "        img1_path = tif_files[-1]\n",
    "        displacement_path = os.path.join(csv_folder, csv_files[i])\n",
    "        \n",
    "        a = Alignment(img1_path = img1_path,\n",
    "              img2_path = img2_path,\n",
    "              displacement_path = displacement_path,\n",
    "              out_path = out_path,\n",
    "              geocoded=True)\n",
    "        print(f\"Alignment for csv file number {i+1} completed\")"
   ]
  },
  {
   "cell_type": "markdown",
   "id": "00d8c2b9-024d-41bc-81f2-1a70c7ea3917",
   "metadata": {
    "jp-MarkdownHeadingCollapsed": true,
    "tags": []
   },
   "source": [
    "### For integrated (drift-driven) drift\n",
    "(using as input only the original SAR1 image)"
   ]
  },
  {
   "cell_type": "code",
   "execution_count": null,
   "id": "8f5872d5-e12c-429d-aac0-e8f2b0fc31b5",
   "metadata": {
    "tags": []
   },
   "outputs": [
    {
     "name": "stdout",
     "output_type": "stream",
     "text": [
      "Alignment method: piecewise-affine\n",
      "\n",
      "Convert geocoded cooridnates to raster coordinates...\n",
      "77.32247602133035 -11.801506800074447\n",
      "wow3 -1385342.53240098 -248487.6182931384\n",
      "wow4 -3417.6054454266446 -4228.725223841533\n",
      "77.32247602133035 -11.559545533953916\n",
      "wow3 -1385342.53240098 -245590.54043879098\n",
      "wow4 -3345.178499067959 -3991.6580046933523\n",
      "Done.\n",
      "\n",
      "\n",
      "Estimating piecewise-affine transformation...\n",
      "Done.\n",
      "\n",
      "Warping C:\\Anna\\Icedrift\\Special_curriculum\\19-20_subset_experiment\\model_drift\\integrated_lambert\\Aligned_sar\\subset_of_S1A_EW_GRDM_1SDH_20221119T072104_20221119T072208_045960_057FE5_E8B1_Orb_Cal_TC_HV.tif\n",
      "A new name of the file is C:\\Anna\\Icedrift\\Special_curriculum\\19-20_subset_experiment\\model_drift\\integrated_lambert\\Aligned_sar/Aligned_20221120T09_subset_of_S1A_EW_GRDM_1SDH_20221119T072104_20221119T072208_045960_057FE5_E8B1_Orb_Cal_TC_HV.tif\n",
      "Alignment finished in 95.5 minutes\n",
      "\n",
      "Alignment for csv file number 1 completed\n",
      "CPU times: total: 1h 29min 12s\n",
      "Wall time: 1h 35min 32s\n"
     ]
    }
   ],
   "source": [
    "%%time\n",
    "#1) i == 0\n",
    "\n",
    "#set general parameters for alignment\n",
    "img1_path = r'/home/jovyan/data/SAR_images/subset_of_S1A_EW_GRDM_1SDH_20221119T072104_20221119T072208_045960_057FE5_E8B1_Orb_Cal_TC_HV.tif'\n",
    "img2_path=r'/home/jovyan/data/SAR_images/subset_of_S1A_EW_GRDM_1SDH_20221120T080155_20221120T080259_045975_05805E_51E1_Orb_Cal_TC_HV.tif'\n",
    "#Set outpath the same as input so all tiff would be saved in obe folder for further animation\n",
    "out_path = tiff_folder\n",
    "\n",
    "for i, file in enumerate(csv_files):\n",
    "        #Runs alignment algortihm on the original tif for the first csv file\n",
    "        #img1_path = tif_files[0]\n",
    "        displacement_path = os.path.join(csv_folder, csv_files[i])\n",
    "        #print(i, displacement_path)\n",
    "        \n",
    "        a = Alignment(img1_path = img1_path,\n",
    "                      img2_path = img2_path, \n",
    "                      displacement_path = displacement_path,\n",
    "                      out_path = out_path, \n",
    "                      geocoded=True)\n",
    "        print(f\"Alignment for csv file number {i+1} completed\")"
   ]
  },
  {
   "cell_type": "code",
   "execution_count": 2,
   "id": "4c83ab96",
   "metadata": {
    "tags": []
   },
   "outputs": [],
   "source": [
    "img1_path=r'C:\\Anna\\Icedrift\\Chalmers\\alignment_OOP\\alignment_test_data\\images\\sub\\subset_1_of_subset_1_of_S1A_EW_GRDM_1SDH_20221119T072104_20221119T072208_045960_057FE5_E8B1_Orb_Cal_TC_HV.tif'\n",
    "img2_path=r'C:\\Anna\\Icedrift\\Chalmers\\alignment_OOP\\alignment_test_data\\images\\sub\\subset_2_of_S1A_EW_GRDM_1SDH_20221120T080155_20221120T080259_045975_05805E_51E1_Orb_Cal_TC_HV.tif'\n",
    "displacement_path=r'C:\\Anna\\Icedrift\\Chalmers\\alignment_OOP\\alignment_test_data\\drift\\model\\subset_19-20_nov_model_lat12lon12.csv'\n",
    "#displacement_path=r'C:\\Anna\\Icedrift\\Chalmers\\alignment_OOP\\alignment_test_data\\drift\\060\\fltrd_CTU_drift_20191028T174022-20191031T170040.csv'\n",
    "out_path=r'C:\\Anna\\Icedrift\\Chalmers\\alignment_OOP\\alignment_test_data\\model_shift'"
   ]
  },
  {
   "cell_type": "code",
   "execution_count": null,
   "id": "e04af44f",
   "metadata": {},
   "outputs": [],
   "source": [
    "with open(displacement_path) as csvfile:\n",
    "            csvreader = csv.reader(csvfile)\n",
    "            displacements = np.array([row for row in csvreader]).astype(float)"
   ]
  },
  {
   "cell_type": "code",
   "execution_count": 44,
   "id": "917bb5df",
   "metadata": {},
   "outputs": [],
   "source": [
    "# Select only not NaN data for displacements\n",
    "displacements = displacements[~np.any(np.isnan(displacements), axis=1), :]\n",
    "orig_locs = displacements[:, [1, 0]]\n",
    "new_locs = displacements[:, [3, 2]] + orig_locs"
   ]
  },
  {
   "cell_type": "code",
   "execution_count": 45,
   "id": "69b8bc95",
   "metadata": {},
   "outputs": [
    {
     "data": {
      "text/plain": [
       "array([[       inf,        inf],\n",
       "       [       inf,        inf],\n",
       "       [       inf,        inf],\n",
       "       ...,\n",
       "       [4900.52932, 2755.18578],\n",
       "       [4951.09626, 2801.21019],\n",
       "       [4939.09913, 2771.61271]])"
      ]
     },
     "execution_count": 45,
     "metadata": {},
     "output_type": "execute_result"
    }
   ],
   "source": [
    "new_locs"
   ]
  },
  {
   "cell_type": "code",
   "execution_count": 10,
   "id": "2d302178",
   "metadata": {
    "tags": []
   },
   "outputs": [
    {
     "name": "stdout",
     "output_type": "stream",
     "text": [
      "\n",
      "Convert geocoded cooridnates to raster coordinates...\n",
      "[[nan nan]\n",
      " [nan nan]\n",
      " [nan nan]\n",
      " ...\n",
      " [nan nan]\n",
      " [nan nan]\n",
      " [nan nan]]\n"
     ]
    }
   ],
   "source": [
    "#from LocationMapping import LocationMapping\n",
    "\n",
    "img1_path=r'C:\\Anna\\Icedrift\\Chalmers\\alignment_OOP\\alignment_test_data\\images\\sub\\subset_1_of_subset_1_of_S1A_EW_GRDM_1SDH_20221119T072104_20221119T072208_045960_057FE5_E8B1_Orb_Cal_TC_HV.tif'\n",
    "img2_path=r'C:\\Anna\\Icedrift\\Chalmers\\alignment_OOP\\alignment_test_data\\images\\sub\\subset_2_of_S1A_EW_GRDM_1SDH_20221120T080155_20221120T080259_045975_05805E_51E1_Orb_Cal_TC_HV.tif'\n",
    "image1 =gdal.Open(img1_path)\n",
    "image2 =gdal.Open(img2_path)\n",
    "displacement_path=r'C:\\Anna\\Model_data\\model_output\\19_20_Nov_for_aligh\\subset_19-20_nov_model_lat12lon12.csv'\n",
    "\n",
    "with open(displacement_path) as csvfile:\n",
    "    csvreader = csv.reader(csvfile)\n",
    "    displacements = np.array([row for row in csvreader]).astype(float)\n",
    "\n",
    "    lm1 = LocationMapping(image1.GetGeoTransform(), image1.GetProjection())\n",
    "    lm2 = LocationMapping(image2.GetGeoTransform(), image2.GetProjection())\n",
    "    print('\\nConvert geocoded cooridnates to raster coordinates...')\n",
    "    displacements = displacements[~np.any(np.isnan(displacements), axis=1), :]\n",
    "    orig_locs = displacements[:, [0, 1]] \n",
    "    new_locs = displacements[:, [2, 3]]\n",
    "    \n",
    "    #print(\"here are cordinates!\", orig_locs, new_locs)\n",
    "    \n",
    "    c0, r0 = lm1.latLon2Raster( orig_locs[:,1].reshape( (-1) ), orig_locs[:,0].reshape( (-1) ) )\n",
    "    c1, r1 = lm2.latLon2Raster( new_locs[:,1].reshape( (-1) ), new_locs[:,0].reshape( (-1) ) )\n",
    "    orig_locs = np.stack((c0, r0)).T\n",
    "    new_locs = np.stack((c1, r1)).T\n",
    "    print(orig_locs)"
   ]
  },
  {
   "cell_type": "code",
   "execution_count": 105,
   "id": "0b71fb0b",
   "metadata": {},
   "outputs": [
    {
     "data": {
      "text/plain": [
       "(array([ -34.64850695,   27.85149305,   90.35149305, ..., 1902.85149305,\n",
       "        1965.35149305, 2027.85149305]),\n",
       " array([-359.64486866, -359.64486866, -359.64486866, ..., 3390.35513134,\n",
       "        3390.35513134, 3390.35513134]))"
      ]
     },
     "execution_count": 105,
     "metadata": {},
     "output_type": "execute_result"
    }
   ],
   "source": [
    "c0, r0"
   ]
  },
  {
   "cell_type": "code",
   "execution_count": 90,
   "id": "4fdbe9e7",
   "metadata": {},
   "outputs": [],
   "source": [
    "# Open geotiff file\n",
    "image = gdal.Open(str(img1_path))\n",
    "# Create Location mapping\n",
    "lm = LocationMapping( image.GetGeoTransform(), image.GetProjection() )\n",
    "# Get lon and lat values of all pixels\n",
    "X = np.arange( image.RasterXSize )\n",
    "Y = np.arange( image.RasterYSize )\n",
    "X, Y = np.meshgrid( X, Y )\n",
    "\n",
    "lon, lat  = lm.raster2LatLon( X.reshape( (-1) ), Y.reshape( (-1) ) ) #changed lat and lon"
   ]
  },
  {
   "cell_type": "code",
   "execution_count": 92,
   "id": "ab2c4cd9",
   "metadata": {},
   "outputs": [
    {
     "name": "stdout",
     "output_type": "stream",
     "text": [
      "80.13542745597685 -3.822772608567932\n",
      "wow3 -1083703.0595653877 -64503.400476076\n",
      "wow4 -8.440110832452775e-11 5.704350769519806e-10\n"
     ]
    }
   ],
   "source": [
    "lon = lon.reshape(image.RasterYSize,image.RasterXSize)\n",
    "lat = lat.reshape(image.RasterYSize,image.RasterXSize)\n",
    "\n",
    "x, y = lm.latLon2Raster(lat.reshape((-1)),lon.reshape((-1)))"
   ]
  },
  {
   "cell_type": "code",
   "execution_count": 93,
   "id": "7302e464",
   "metadata": {},
   "outputs": [
    {
     "data": {
      "text/plain": [
       "(-0.0, 1.0)"
      ]
     },
     "execution_count": 93,
     "metadata": {},
     "output_type": "execute_result"
    }
   ],
   "source": [
    "minx = np.nanmin(x)\n",
    "miny = np.nanmin(y)\n",
    "np.ceil(minx), np.ceil(miny)"
   ]
  },
  {
   "cell_type": "code",
   "execution_count": 94,
   "id": "23237050",
   "metadata": {},
   "outputs": [
    {
     "data": {
      "text/plain": [
       "(2960.0, 2960.0)"
      ]
     },
     "execution_count": 94,
     "metadata": {},
     "output_type": "execute_result"
    }
   ],
   "source": [
    "np.ceil(np.nanmax(x)),np.ceil(np.nanmax(y))"
   ]
  },
  {
   "cell_type": "code",
   "execution_count": 104,
   "id": "15dff5c9",
   "metadata": {},
   "outputs": [
    {
     "data": {
      "text/plain": [
       "2960"
      ]
     },
     "execution_count": 104,
     "metadata": {},
     "output_type": "execute_result"
    }
   ],
   "source": [
    "u, v = "
   ]
  },
  {
   "cell_type": "code",
   "execution_count": 78,
   "id": "a2ec39c6",
   "metadata": {},
   "outputs": [
    {
     "data": {
      "text/plain": [
       "(-3.822772608567932, 80.13542745597685)"
      ]
     },
     "execution_count": 78,
     "metadata": {},
     "output_type": "execute_result"
    },
    {
     "data": {
      "image/png": "[encoded data removed]",
      "text/plain": [
       "<Figure size 640x480 with 2 Axes>"
      ]
     },
     "metadata": {},
     "output_type": "display_data"
    }
   ],
   "source": [
    "import matplotlib.pyplot as plt \n",
    "\n",
    "plt.imshow(lat)\n",
    "plt.colorbar()\n",
    "np.nanmin(lon), np.nanmin(lat)"
   ]
  },
  {
   "cell_type": "code",
   "execution_count": 106,
   "id": "833c93fa",
   "metadata": {},
   "outputs": [
    {
     "name": "stdout",
     "output_type": "stream",
     "text": [
      "C:\\Anna\\Icedrift\\Chalmers\\alignment_OOP\\ice_drift_pc_ncc\\tools\\geolocation_grid\n"
     ]
    }
   ],
   "source": [
    "cd C:\\Anna\\Icedrift\\Chalmers\\alignment_OOP\\ice_drift_pc_ncc\\tools\\geolocation_grid"
   ]
  },
  {
   "cell_type": "code",
   "execution_count": 22,
   "id": "1b65f4e2",
   "metadata": {},
   "outputs": [
    {
     "name": "stdout",
     "output_type": "stream",
     "text": [
      "Alignment method: piecewise-affine\n",
      "\n",
      "Convert geocoded cooridnates to raster coordinates...\n",
      "Done.\n",
      "\n",
      "\n",
      "Estimating piecewise-affine transformation...\n",
      "Done.\n",
      "\n",
      "Warping C:\\Anna\\Icedrift\\Chalmers\\alignment_OOP\\alignment_test_data\\images\\sub\\subset_1_of_subset_1_of_S1A_EW_GRDM_1SDH_20221119T072104_20221119T072208_045960_057FE5_E8B1_Orb_Cal_TC_HV.tif\n",
      "CPU times: total: 59 s\n",
      "Wall time: 58 s\n"
     ]
    }
   ],
   "source": [
    "%%time\n",
    "a = Alignment(img1_path=r'C:\\Anna\\Icedrift\\Chalmers\\alignment_OOP\\alignment_test_data\\images\\sub\\subset_1_of_subset_1_of_S1A_EW_GRDM_1SDH_20221119T072104_20221119T072208_045960_057FE5_E8B1_Orb_Cal_TC_HV.tif',\n",
    "              img2_path=r'C:\\Anna\\Icedrift\\Chalmers\\alignment_OOP\\alignment_test_data\\images\\sub\\subset_2_of_S1A_EW_GRDM_1SDH_20221120T080155_20221120T080259_045975_05805E_51E1_Orb_Cal_TC_HV.tif',\n",
    "              displacement_path=r'C:\\Anna\\Icedrift\\Chalmers\\alignment_OOP\\alignment_test_data\\drift\\sub\\subset_19-20_nov_drift_HV.csv',\n",
    "              out_path=r'C:\\Anna\\Icedrift\\Chalmers\\alignment_OOP\\alignment_test_data\\alignments2',\n",
    "              geocoded=True)\n",
    "\n"
   ]
  },
  {
   "cell_type": "code",
   "execution_count": 16,
   "id": "dc470ae0",
   "metadata": {},
   "outputs": [
    {
     "name": "stdout",
     "output_type": "stream",
     "text": [
      "Alignment method: piecewise-affine\n",
      "\n",
      "Convert geocoded cooridnates to raster coordinates...\n",
      "Done.\n",
      "\n",
      "\n",
      "Estimating piecewise-affine transformation...\n"
     ]
    },
    {
     "ename": "ValueError",
     "evalue": "Points cannot contain NaN",
     "output_type": "error",
     "traceback": [
      "\u001b[1;31m---------------------------------------------------------------------------\u001b[0m",
      "\u001b[1;31mValueError\u001b[0m                                Traceback (most recent call last)",
      "File \u001b[1;32m<timed exec>:1\u001b[0m\n",
      "File \u001b[1;32mC:\\Anna\\Icedrift\\Chalmers\\alignment_OOP\\ice_drift_pc_ncc\\tools\\align\\AlignSAR.py:48\u001b[0m, in \u001b[0;36mAlignment.__init__\u001b[1;34m(self, img1_path, img2_path, displacement_path, transform_type, out_path, transform_master, geocoded, proj)\u001b[0m\n\u001b[0;32m     45\u001b[0m os\u001b[38;5;241m.\u001b[39mmakedirs(\u001b[38;5;28mself\u001b[39m\u001b[38;5;241m.\u001b[39mout_path, exist_ok\u001b[38;5;241m=\u001b[39m\u001b[38;5;28;01mTrue\u001b[39;00m)\n\u001b[0;32m     47\u001b[0m \u001b[38;5;28;01mif\u001b[39;00m \u001b[38;5;129;01mnot\u001b[39;00m (\u001b[38;5;28mself\u001b[39m\u001b[38;5;241m.\u001b[39mimg1_path \u001b[38;5;129;01mand\u001b[39;00m \u001b[38;5;28mself\u001b[39m\u001b[38;5;241m.\u001b[39mimg2_path \u001b[38;5;129;01mand\u001b[39;00m \u001b[38;5;28mself\u001b[39m\u001b[38;5;241m.\u001b[39mdisplacement_path) \u001b[38;5;129;01mis\u001b[39;00m \u001b[38;5;28;01mNone\u001b[39;00m:\n\u001b[1;32m---> 48\u001b[0m \t\u001b[38;5;28;43mself\u001b[39;49m\u001b[38;5;241;43m.\u001b[39;49m\u001b[43mperformAlignment\u001b[49m\u001b[43m(\u001b[49m\u001b[43mpadding\u001b[49m\u001b[38;5;241;43m=\u001b[39;49m\u001b[38;5;124;43m'\u001b[39;49m\u001b[38;5;124;43mconstant\u001b[39;49m\u001b[38;5;124;43m'\u001b[39;49m\u001b[43m,\u001b[49m\u001b[43m \u001b[49m\u001b[43mback_alignment\u001b[49m\u001b[38;5;241;43m=\u001b[39;49m\u001b[38;5;28;43;01mFalse\u001b[39;49;00m\u001b[43m)\u001b[49m\n\u001b[0;32m     49\u001b[0m \u001b[38;5;28;01melse\u001b[39;00m:\n\u001b[0;32m     50\u001b[0m \t\u001b[38;5;28;01mraise\u001b[39;00m \u001b[38;5;167;01mTypeError\u001b[39;00m(\n\u001b[0;32m     51\u001b[0m \t\t\u001b[38;5;124m\"\u001b[39m\u001b[38;5;124mPlease specify all neccesseaury path to data (Image 1, Image 2 and a path to displacement data)\u001b[39m\u001b[38;5;124m\"\u001b[39m)\n",
      "File \u001b[1;32mC:\\Anna\\Icedrift\\Chalmers\\alignment_OOP\\ice_drift_pc_ncc\\tools\\align\\AlignSAR.py:92\u001b[0m, in \u001b[0;36mAlignment.performAlignment\u001b[1;34m(self, padding, back_alignment)\u001b[0m\n\u001b[0;32m     90\u001b[0m \u001b[38;5;28mprint\u001b[39m(\u001b[38;5;124mf\u001b[39m\u001b[38;5;124m'\u001b[39m\u001b[38;5;130;01m\\n\u001b[39;00m\u001b[38;5;124mEstimating \u001b[39m\u001b[38;5;132;01m{\u001b[39;00m\u001b[38;5;28mself\u001b[39m\u001b[38;5;241m.\u001b[39mtransform_type\u001b[38;5;132;01m}\u001b[39;00m\u001b[38;5;124m transformation...\u001b[39m\u001b[38;5;124m'\u001b[39m)\n\u001b[0;32m     91\u001b[0m p \u001b[38;5;241m=\u001b[39m PiecewiseAffineTransform()\n\u001b[1;32m---> 92\u001b[0m \u001b[43mp\u001b[49m\u001b[38;5;241;43m.\u001b[39;49m\u001b[43mestimate\u001b[49m\u001b[43m(\u001b[49m\u001b[43msrc\u001b[49m\u001b[38;5;241;43m=\u001b[39;49m\u001b[43morig_locs\u001b[49m\u001b[43m,\u001b[49m\u001b[43m \u001b[49m\u001b[43mdst\u001b[49m\u001b[38;5;241;43m=\u001b[39;49m\u001b[43mnew_locs\u001b[49m\u001b[43m)\u001b[49m\n\u001b[0;32m     93\u001b[0m \u001b[38;5;28mself\u001b[39m\u001b[38;5;241m.\u001b[39mp \u001b[38;5;241m=\u001b[39m p\n\u001b[0;32m     94\u001b[0m \u001b[38;5;28mprint\u001b[39m(\u001b[38;5;124mf\u001b[39m\u001b[38;5;124m'\u001b[39m\u001b[38;5;124mDone.\u001b[39m\u001b[38;5;124m'\u001b[39m)\n",
      "File \u001b[1;32m~\\Miniconda3\\envs\\chalmers\\lib\\site-packages\\skimage\\transform\\_geometric.py:978\u001b[0m, in \u001b[0;36mPiecewiseAffineTransform.estimate\u001b[1;34m(self, src, dst)\u001b[0m\n\u001b[0;32m    975\u001b[0m ndim \u001b[38;5;241m=\u001b[39m src\u001b[38;5;241m.\u001b[39mshape[\u001b[38;5;241m1\u001b[39m]\n\u001b[0;32m    976\u001b[0m \u001b[38;5;66;03m# forward piecewise affine\u001b[39;00m\n\u001b[0;32m    977\u001b[0m \u001b[38;5;66;03m# triangulate input positions into mesh\u001b[39;00m\n\u001b[1;32m--> 978\u001b[0m \u001b[38;5;28mself\u001b[39m\u001b[38;5;241m.\u001b[39m_tesselation \u001b[38;5;241m=\u001b[39m \u001b[43mspatial\u001b[49m\u001b[38;5;241;43m.\u001b[39;49m\u001b[43mDelaunay\u001b[49m\u001b[43m(\u001b[49m\u001b[43msrc\u001b[49m\u001b[43m)\u001b[49m\n\u001b[0;32m    980\u001b[0m success \u001b[38;5;241m=\u001b[39m \u001b[38;5;28;01mTrue\u001b[39;00m\n\u001b[0;32m    982\u001b[0m \u001b[38;5;66;03m# find affine mapping from source positions to destination\u001b[39;00m\n",
      "File \u001b[1;32m_qhull.pyx:1841\u001b[0m, in \u001b[0;36mscipy.spatial._qhull.Delaunay.__init__\u001b[1;34m()\u001b[0m\n",
      "File \u001b[1;32m_qhull.pyx:280\u001b[0m, in \u001b[0;36mscipy.spatial._qhull._Qhull.__init__\u001b[1;34m()\u001b[0m\n",
      "\u001b[1;31mValueError\u001b[0m: Points cannot contain NaN"
     ]
    }
   ],
   "source": [
    "%%time\n",
    "a = Alignment(img1_path=r'C:\\Anna\\Icedrift\\Chalmers\\alignment_OOP\\alignment_test_data\\images\\sub_3996\\subset_1_of_subset_1_of_S1A_EW_GRDM_1SDH_20221119T072104_20221119T072208_045960_057FE5_E8B1_Orb_Cal_TC_HV.tif',\n",
    "              img2_path=r'C:\\Anna\\Icedrift\\Chalmers\\alignment_OOP\\alignment_test_data\\images\\sub_3996\\subset_2_of_S1A_EW_GRDM_1SDH_20221120T080155_20221120T080259_045975_05805E_51E1_Orb_Cal_TC_HV.tif',\n",
    "              displacement_path=r'C:\\Anna\\Icedrift\\Chalmers\\alignment_OOP\\alignment_test_data\\drift\\sub_3996\\subset_19-20_nov_drift_HV_projected.csv',\n",
    "              out_path=r'C:\\Anna\\Icedrift\\Chalmers\\alignment_OOP\\alignment_test_data\\alignments3',\n",
    "              geocoded=True,\n",
    "              proj=3996)"
   ]
  },
  {
   "cell_type": "code",
   "execution_count": 4,
   "id": "47483432",
   "metadata": {},
   "outputs": [
    {
     "data": {
      "text/plain": [
       "array([[  0,   1,   2, ..., 246, 247, 248],\n",
       "       [  0,   1,   2, ..., 246, 247, 248],\n",
       "       [  0,   1,   2, ..., 246, 247, 248],\n",
       "       ...,\n",
       "       [  0,   1,   2, ..., 246, 247, 248],\n",
       "       [  0,   1,   2, ..., 246, 247, 248],\n",
       "       [  0,   1,   2, ..., 246, 247, 248]])"
      ]
     },
     "execution_count": 4,
     "metadata": {},
     "output_type": "execute_result"
    }
   ],
   "source": [
    "i_coords, j_coords = np.meshgrid(range(252), range(249), indexing='ij')\n",
    "j_coords"
   ]
  },
  {
   "cell_type": "code",
   "execution_count": 12,
   "id": "75425bb4",
   "metadata": {},
   "outputs": [],
   "source": [
    "#open csv and add the columns x y instead of the previous"
   ]
  },
  {
   "cell_type": "code",
   "execution_count": 8,
   "id": "a9b94d30",
   "metadata": {},
   "outputs": [
    {
     "name": "stdout",
     "output_type": "stream",
     "text": [
      "C:\\Anna\\Icedrift\\Chalmers\\alignment_OOP\\ice_drift_pc_ncc\\tools\\geolocation_grid\n"
     ]
    }
   ],
   "source": [
    "cd C:\\Anna\\Icedrift\\Chalmers\\alignment_OOP\\ice_drift_pc_ncc\\tools\\geolocation_grid"
   ]
  },
  {
   "cell_type": "code",
   "execution_count": 15,
   "id": "0063483e",
   "metadata": {},
   "outputs": [
    {
     "name": "stdout",
     "output_type": "stream",
     "text": [
      "C:\\Anna\\Icedrift\\Chalmers\\alignment_OOP\\ice_drift_pc_ncc\\tools\\geolocation_grid\n"
     ]
    }
   ],
   "source": [
    "cd C:\\Anna\\Icedrift\\Chalmers\\alignment_OOP\\ice_drift_pc_ncc\\tools\\geolocation_grid"
   ]
  },
  {
   "cell_type": "code",
   "execution_count": null,
   "id": "ca14fad9",
   "metadata": {},
   "outputs": [],
   "source": []
  }
 ],
 "metadata": {
  "kernelspec": {
   "display_name": "Python 3 (ipykernel)",
   "language": "python",
   "name": "python3"
  },
  "language_info": {
   "codemirror_mode": {
    "name": "ipython",
    "version": 3
   },
   "file_extension": ".py",
   "mimetype": "text/x-python",
   "name": "python",
   "nbconvert_exporter": "python",
   "pygments_lexer": "ipython3",
   "version": "3.8.15"
  },
  "varInspector": {
   "cols": {
    "lenName": 16,
    "lenType": 16,
    "lenVar": 40
   },
   "kernels_config": {
    "python": {
     "delete_cmd_postfix": "",
     "delete_cmd_prefix": "del ",
     "library": "var_list.py",
     "varRefreshCmd": "print(var_dic_list())"
    },
    "r": {
     "delete_cmd_postfix": ") ",
     "delete_cmd_prefix": "rm(",
     "library": "var_list.r",
     "varRefreshCmd": "cat(var_dic_list()) "
    }
   },
   "types_to_exclude": [
    "module",
    "function",
    "builtin_function_or_method",
    "instance",
    "_Feature"
   ],
   "window_display": false
  }
 },
 "nbformat": 4,
 "nbformat_minor": 5
}
