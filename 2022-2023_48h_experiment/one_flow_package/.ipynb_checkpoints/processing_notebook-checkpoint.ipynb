{
 "cells": [
  {
   "cell_type": "code",
   "execution_count": null,
   "id": "9429456e",
   "metadata": {},
   "outputs": [],
   "source": [
    "\n",
    "import sys\n",
    "sys.path.append(\"./modules\")\n"
   ]
  },
  {
   "cell_type": "code",
   "execution_count": null,
   "id": "f6834b5f",
   "metadata": {},
   "outputs": [],
   "source": [
    "import config"
   ]
  },
  {
   "cell_type": "code",
   "execution_count": null,
   "id": "4239b0ae",
   "metadata": {},
   "outputs": [],
   "source": [
    "import domains_preparation"
   ]
  },
  {
   "cell_type": "code",
   "execution_count": null,
   "id": "e44cd732",
   "metadata": {},
   "outputs": [],
   "source": [
    "import s1_preparation"
   ]
  },
  {
   "cell_type": "code",
   "execution_count": null,
   "id": "1a45a75e",
   "metadata": {},
   "outputs": [],
   "source": [
    "import SAR1_SAR2_drift_retrivial"
   ]
  },
  {
   "cell_type": "code",
   "execution_count": null,
   "id": "ac53e6af",
   "metadata": {},
   "outputs": [],
   "source": [
    "from config import path_to_HH_files"
   ]
  },
  {
   "cell_type": "code",
   "execution_count": null,
   "id": "2a03dd8c",
   "metadata": {},
   "outputs": [],
   "source": [
    "from config import path_to_HV_files"
   ]
  },
  {
   "cell_type": "code",
   "execution_count": null,
   "id": "49215aaf",
   "metadata": {},
   "outputs": [],
   "source": [
    "from config import safe_folder"
   ]
  },
  {
   "cell_type": "code",
   "execution_count": null,
   "id": "0894f539",
   "metadata": {},
   "outputs": [],
   "source": [
    "from config import output_folder"
   ]
  },
  {
   "cell_type": "code",
   "execution_count": null,
   "id": "0cb98349",
   "metadata": {},
   "outputs": [],
   "source": [
    "from config import input_folder"
   ]
  },
  {
   "cell_type": "code",
   "execution_count": null,
   "id": "6da08167",
   "metadata": {},
   "outputs": [],
   "source": [
    "from config import S1_prod_regex"
   ]
  },
  {
   "cell_type": "code",
   "execution_count": null,
   "id": "58226b74",
   "metadata": {},
   "outputs": [],
   "source": [
    "from config import S1_safe_regex"
   ]
  },
  {
   "cell_type": "code",
   "execution_count": null,
   "id": "70449cda",
   "metadata": {},
   "outputs": [],
   "source": [
    "from config import S1_prod_regex"
   ]
  },
  {
   "cell_type": "code",
   "execution_count": null,
   "id": "716451de",
   "metadata": {},
   "outputs": [],
   "source": [
    "from config import S1_safe_regex"
   ]
  },
  {
   "cell_type": "code",
   "execution_count": null,
   "id": "813c0211",
   "metadata": {},
   "outputs": [],
   "source": [
    "from config import save_path_input"
   ]
  },
  {
   "cell_type": "code",
   "execution_count": null,
   "id": "0422d3ec",
   "metadata": {},
   "outputs": [],
   "source": [
    "from config import data"
   ]
  },
  {
   "cell_type": "code",
   "execution_count": null,
   "id": "6dfd07e7",
   "metadata": {},
   "outputs": [],
   "source": [
    "from config import lon"
   ]
  },
  {
   "cell_type": "code",
   "execution_count": null,
   "id": "c4ab4658",
   "metadata": {},
   "outputs": [],
   "source": [
    "from config import lat"
   ]
  },
  {
   "cell_type": "code",
   "execution_count": null,
   "id": "94e8e74b",
   "metadata": {},
   "outputs": [],
   "source": [
    "from config import X"
   ]
  },
  {
   "cell_type": "code",
   "execution_count": null,
   "id": "d8b78b77",
   "metadata": {},
   "outputs": [],
   "source": [
    "from config import Y"
   ]
  },
  {
   "cell_type": "code",
   "execution_count": null,
   "id": "875b6783",
   "metadata": {},
   "outputs": [],
   "source": [
    "from config import proj4"
   ]
  },
  {
   "cell_type": "code",
   "execution_count": null,
   "id": "114bf5af",
   "metadata": {},
   "outputs": [],
   "source": [
    "from config import srs"
   ]
  },
  {
   "cell_type": "code",
   "execution_count": 3,
   "id": "28eeefbd-e6c3-4bce-bc20-4d1a0fb8b528",
   "metadata": {},
   "outputs": [
    {
     "name": "stdout",
     "output_type": "stream",
     "text": [
      "Pair 1:\n",
      "SAR1: S1A_EW_GRDM_1SDH_20221120T080155_20221120T080259_045975_05805E_51E1.SAFE \n",
      "timestamp: 2022-11-20 08:01:55\n",
      "SAR2: S1A_EW_GRDM_1SDH_20221122T074535_20221122T074639_046004_05816B_9FC9.SAFE \n",
      "timestamp: 2022-11-22 07:45:35\n",
      "Pair 2:\n",
      "SAR1: S1A_EW_GRDM_1SDH_20230212T080151_20230212T080255_047200_05A9D0_C7EB.SAFE \n",
      "timestamp: 2023-02-12 08:01:51\n",
      "SAR2: S1A_EW_GRDM_1SDH_20230214T074531_20230214T074635_047229_05AAC8_4014.SAFE \n",
      "timestamp: 2023-02-14 07:45:31\n"
     ]
    }
   ],
   "source": [
    "# Execution\n",
    "\n",
    "# Collect Sentinel SAFE objects for files in safe directory.\n",
    "safe_objects = collect_sentinel_files(safe_folder)\n",
    "\n",
    "# Get pairs of Sentinel SAFE objects where their timestamps are within 50 hours of each other.\n",
    "sar_pairs = get_pairs_within_time_limit(safe_objects, hours = 50)\n",
    "\n",
    "# Print details for each pair.\n",
    "for index, pair in enumerate(sar_pairs, start=1):  # start=1 makes the index start from 1\n",
    "    print(f'Pair {index}:')\n",
    "    print(f'SAR1: {pair[0].filename} \\ntimestamp: {pair[0].timestamp}\\n'\n",
    "          f'SAR2: {pair[1].filename} \\ntimestamp: {pair[1].timestamp}')"
   ]
  },
  {
   "cell_type": "code",
   "execution_count": 5,
   "id": "eb6ccdd0-3680-47e3-8348-feb283662131",
   "metadata": {},
   "outputs": [
    {
     "name": "stdout",
     "output_type": "stream",
     "text": [
      "VMIN:  -3.9498636960983275\n",
      "VMAX:  5.663959283828735\n",
      "VMIN:  -3.5571017265319824\n",
      "VMAX:  5.484246134757996\n",
      "VMIN:  -3.774366235733032\n",
      "VMAX:  5.102492332458496\n",
      "VMIN:  -3.0308663845062256\n",
      "VMAX:  4.180728316307068\n"
     ]
    },
    {
     "data": {
      "text/plain": [
       "'/home/jovyan/experiment_data/2022-2023_48h_experiment/batch_output/20230212T080151_20230214T074531/General_plots/images_vs_domain_borders.png'"
      ]
     },
     "execution_count": 81,
     "metadata": {},
     "output_type": "execute_result"
    }
   ],
   "source": [
    "# Execution\n",
    "\n",
    "#Prepare nansat objects for HV polarisation\n",
    "n1_hv, n2_hv, output_dir_name, plots_dir_hv =  prepare_nansat_objects(sar_pairs[1][0], sar_pairs[1][1], output_folder, polarisation='HV')\n",
    "\n",
    "#Prepare nansat objects for HH polarisation\n",
    "n1_hh, n2_hh, output_dir_name, plots_dir_hh =  prepare_nansat_objects(sar_pairs[1][0], sar_pairs[1][1], output_folder, polarisation='HH')\n",
    "\n",
    "\n",
    "# Prepare subset model grid for domains and pattern matching\n",
    "X_subset, Y_subset, lon_subset, lat_subset = prepare_grid(n1_hv, n2_hv, srs, X, Y, lon, lat, buffer=0)\n",
    "\n",
    "# Set a model domain\n",
    "mod_res = 2500\n",
    "mod_dom = Domain(srs, f'-te {min(X_subset.data)} {min(Y_subset.data) - mod_res * 2} {max(X_subset.data) + mod_res} {max(Y_subset.data)} -tr {mod_res} {mod_res}')\n",
    "\n",
    "\n",
    "lon1pm, lat1pm = mod_dom.get_geolocation_grids()\n",
    "x, y = mod_dom.get_geolocation_grids(dst_srs=srs)\n",
    "\n",
    "# Set a comparison domain \n",
    "dst_res = 100\n",
    "dst_dom = Domain(srs, f'-te {min(X_subset.data)} {min(Y_subset.data) - dst_res * 2} {max(X_subset.data) + dst_res} {max(Y_subset.data)} -tr {dst_res} {dst_res}')\n",
    "\n",
    "plot_borders(mod_dom, n1_hv, n2_hv, output_dir_name) # borders for hh and hv are the same\n"
   ]
  },
  {
   "cell_type": "code",
   "execution_count": 7,
   "id": "ef7ed0cd-218f-4ed9-b94c-4f514a30463e",
   "metadata": {},
   "outputs": [
    {
     "name": "stdout",
     "output_type": "stream",
     "text": [
      "Key points found: 50000\n",
      "Key points found: 50000\n",
      "Domain filter: 50000 -> 37701\n",
      "Domain filter: 50000 -> 48850\n",
      "Keypoints matched 3.648167848587036\n",
      "Ratio test 0.600000 found 1552 keypoints\n",
      "MaxDrift filter: 1552 -> 1552\n",
      "LSTSQ filter: 1552 -> 1523\n",
      "100% 03208.0 05242.4 04245.0 05060.0 +09.0 0.32 3.18 0.18\n",
      " Pattern matching - OK! (219 sec)\n"
     ]
    }
   ],
   "source": [
    "# Execution\n",
    "\n",
    "# HV processing\n",
    "# Run feature tracking and plot results \n",
    "c1_hv, r1_hv, c2_hv, r2_hv = run_feature_tracking(n1_hv, n2_hv, plots_dir_hv)\n",
    "\n",
    "#Run pattern matching and plot results\n",
    "upm_hv, vpm_hv, apm_hv, rpm_hv, hpm_hv, ssim_hv, lon2pm_hv, lat2pm_hv = run_pattern_matching(plots_dir_hv, x, y, lon1pm, lat1pm, n1_hv, c1_hv, r1_hv, n2_hv, c2_hv, r2_hv, srs, \n",
    "                                                           min_border=200,\n",
    "                                                           max_border=200,\n",
    "                                                           angles=[-15,-12, -9,-6, -3, 0, 3, 6, 9, 12,15])\n",
    "                                                           #angles=[-50, -45, -40, -35, -30, -25, -20, -15,-12, -9,-6, -3, 0, 3, 6, 9, 12,15, 20, 25, 30, 35, 40, 45, 50])"
   ]
  },
  {
   "cell_type": "code",
   "execution_count": 8,
   "id": "77899945-d1a2-4ed9-aba2-c5b44ae8c0cb",
   "metadata": {},
   "outputs": [
    {
     "name": "stdout",
     "output_type": "stream",
     "text": [
      "Key points found: 50000\n",
      "Key points found: 50000\n",
      "Domain filter: 50000 -> 43258\n",
      "Domain filter: 50000 -> 48486\n",
      "Keypoints matched 4.154120922088623\n",
      "Ratio test 0.600000 found 489 keypoints\n",
      "MaxDrift filter: 489 -> 489\n",
      "LSTSQ filter: 489 -> 481\n",
      "100% 03287.3 05127.9 04004.0 05292.0 +03.0 0.32 5.92 0.1471% 00593.9 03283.2 01490.0 03838.0 -15.0 0.21 4.62 0.1361% 02489.1 03056.9 03340.0 03159.0 -03.0 0.36 2.20 0.11\n",
      " Pattern matching - OK! (215 sec)\n"
     ]
    }
   ],
   "source": [
    "# Execution\n",
    "\n",
    "# HH Processing\n",
    "# Run feature tracking and plot results \n",
    "c1_hh, r1_hh, c2_hh, r2_hh = run_feature_tracking(n1_hh, n2_hh, plots_dir_hh)\n",
    "\n",
    "#Run pattern matching and plot results\n",
    "upm_hh, vpm_hh, apm_hh, rpm_hh, hpm_hh, ssim_hh, lon2pm_hh, lat2pm_hh = run_pattern_matching(plots_dir_hh, x, y, lon1pm, lat1pm, n1_hh, c1_hh, r1_hh, n2_hh, c2_hh, r2_hh,srs, \n",
    "                                                           min_border=200,\n",
    "                                                           max_border=200,\n",
    "                                                           angles=[-15,-12, -9,-6, -3, 0, 3, 6, 9, 12,15,])\n",
    "                                                           #angles=[-50, -40, -35, -30, -25, -20, -15,-12, -9,-6, -3, 0, 3, 6, 9, 12,15, 20, 25, 30, 35, 40, 50 ])"
   ]
  },
  {
   "cell_type": "code",
   "execution_count": 13,
   "id": "0e3a3f95-ea2b-4ba9-8cdf-70fc8cc6e935",
   "metadata": {},
   "outputs": [],
   "source": [
    "# Execution\n",
    "\n",
    "# Combining hh and hv results based on hessian threshold\n",
    "upm, vpm, apm, rpm, hpm, ssim, lon2pm, lat2pm = combine_hh_hv(output_dir_name, x, y, upm_hh, vpm_hh, apm_hh, rpm_hh, hpm_hh, ssim_hh, lon2pm_hh, lat2pm_hh,\n",
    "                              upm_hv, vpm_hv, apm_hv, rpm_hv, hpm_hv, ssim_hv, lon2pm_hv, lat2pm_hv)"
   ]
  },
  {
   "cell_type": "code",
   "execution_count": 27,
   "id": "b6cc64f3-b9b4-4c2c-bfe5-1f65aa52f6a0",
   "metadata": {},
   "outputs": [
    {
     "name": "stdout",
     "output_type": "stream",
     "text": [
      "HV: Number of True values with h > 8 filtering : 8359\n",
      "HV: Number of True values combining h >  8 and number of neighboring pixels > 3 : 7940\n"
     ]
    }
   ],
   "source": [
    "# Execution\n",
    "\n",
    "# Filtering\n",
    "\n",
    "from scipy.ndimage import convolve\n",
    "\n",
    "h_thershold = 8\n",
    "neighbors_threshold = 3\n",
    "# Filterign arrays with hessian first, then excluding pixels with no neigbours\n",
    "filtered_hpm = np.where(hpm > h_thershold, hpm, np.nan)\n",
    "# Define a kernel to count neighbors\n",
    "kernel = np.array([[1, 1, 1],\n",
    "                  [1, 0, 1],\n",
    "                  [1, 1, 1]])\n",
    "\n",
    "# Convert nan values to 1 and valid values to 0\n",
    "nan_mask = np.isnan(filtered_hpm).astype(int)\n",
    "\n",
    "# Count nan neighbors\n",
    "nan_neighbors = convolve(nan_mask, kernel, mode='constant')\n",
    "\n",
    "# Count valid neighbors by subtracting nan neighbors from total neighbors (8 for a 3x3 kernel)\n",
    "valid_neighbors = 8 - nan_neighbors\n",
    "\n",
    "# Mask out pixels with zero valid neighbors\n",
    "filtered_hpm[valid_neighbors < neighbors_threshold] = np.nan\n",
    "\n",
    "# filter vectors with hessian value\n",
    "gpi1 = (hpm > h_thershold) \n",
    "num_true_values = np.sum(gpi1.data)\n",
    "print(f\"HV: Number of True values with h > {h_thershold} filtering : {num_true_values}\")\n",
    "\n",
    "gpi2 = (hpm > h_thershold) & (valid_neighbors >= neighbors_threshold) # & (siconc_subset.data > 0.9)\n",
    "num_true_valuesv2 = np.sum(gpi2)\n",
    "print(f\"HV: Number of True values combining h >  {h_thershold} and number of neighboring pixels > {neighbors_threshold} : {num_true_valuesv2}\")"
   ]
  }
 ],
 "metadata": {},
 "nbformat": 4,
 "nbformat_minor": 5
}
