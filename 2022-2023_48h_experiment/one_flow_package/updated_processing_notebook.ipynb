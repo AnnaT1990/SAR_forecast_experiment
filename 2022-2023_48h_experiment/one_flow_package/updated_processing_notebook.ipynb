{
 "cells": [
  {
   "cell_type": "code",
   "execution_count": 1,
   "id": "9429456e",
   "metadata": {
    "tags": []
   },
   "outputs": [],
   "source": [
    "import sys\n",
    "sys.path.append(\"./modules\")\n"
   ]
  },
  {
   "cell_type": "code",
   "execution_count": 2,
   "id": "f6834b5f",
   "metadata": {
    "tags": []
   },
   "outputs": [],
   "source": [
    "# Import general modules\n",
    "from nansat import Nansat, Domain, NSR\n",
    "import os \n",
    "\n",
    "# Import temporal modules needed for testing plotting\n",
    "import matplotlib.pyplot as plt\n",
    "import numpy as np\n",
    "%matplotlib inline\n",
    "\n",
    "# Import SAR forecasting modules\n",
    "import config\n",
    "import s1_preparation\n",
    "import domains_preparation\n",
    "import SAR1_SAR2_drift_retrivial\n",
    "import warping_with_domain\n",
    "\n",
    "# Import variables\n",
    "from config import path_to_HH_files, path_to_HV_files, safe_folder \n",
    "from config import output_folder, input_folder\n",
    "from config import S1_prod_regex, S1_safe_regex\n",
    "from config import lon, lat, X, Y, proj4, srs\n",
    "\n",
    "# For cleaning up memory\n",
    "import gc\n",
    "\n",
    "import time"
   ]
  },
  {
   "cell_type": "code",
   "execution_count": 3,
   "id": "28eeefbd-e6c3-4bce-bc20-4d1a0fb8b528",
   "metadata": {},
   "outputs": [
    {
     "name": "stdout",
     "output_type": "stream",
     "text": [
      "Pair 1:\n",
      "SAR1: S1A_EW_GRDM_1SDH_20230327T075355_20230327T075459_047827_05BF0B_E30B.SAFE \n",
      "timestamp: 2023-03-27 07:53:55\n",
      "SAR2: S1A_EW_GRDM_1SDH_20230329T073729_20230329T073833_047856_05C011_8100.SAFE \n",
      "timestamp: 2023-03-29 07:37:29\n"
     ]
    }
   ],
   "source": [
    "# 1. Prepare SAR pairs\n",
    "\n",
    "# Collect Sentinel SAFE objects for files in safe directory.\n",
    "safe_objects = s1_preparation.collect_sentinel_files(safe_folder, path_to_HH_files, path_to_HV_files,  S1_safe_regex, S1_prod_regex)\n",
    "\n",
    "# Get pairs of Sentinel SAFE objects where their timestamps are within 50 hours of each other.\n",
    "sar_pairs = s1_preparation.get_pairs_within_time_limit(safe_objects, hours = 50)\n",
    "\n",
    "# Print details for each pair.\n",
    "for index, pair in enumerate(sar_pairs, start=1):  # start=1 makes the index start from 1\n",
    "    print(f'Pair {index}:')\n",
    "    print(f'SAR1: {pair[0].filename} \\ntimestamp: {pair[0].timestamp}\\n'\n",
    "          f'SAR2: {pair[1].filename} \\ntimestamp: {pair[1].timestamp}')"
   ]
  },
  {
   "cell_type": "code",
   "execution_count": 4,
   "id": "eb6ccdd0-3680-47e3-8348-feb283662131",
   "metadata": {},
   "outputs": [
    {
     "name": "stdout",
     "output_type": "stream",
     "text": [
      "VMIN:  -4.618902969360351\n",
      "VMAX:  6.8174938201904265\n",
      "VMIN:  -4.023641300201416\n",
      "VMAX:  6.247359943389878\n",
      "Successfully created /home/jovyan/experiment_data/2022-2023_48h_experiment/batch_output/20230327T075355_20230329T073729\n",
      "Successfully created /home/jovyan/experiment_data/2022-2023_48h_experiment/batch_output/20230327T075355_20230329T073729/HV_plots\n",
      "VMIN:  -4.2762504577636715\n",
      "VMAX:  5.969384288787829\n",
      "VMIN:  -3.859353494644165\n",
      "VMAX:  5.371604099273679\n",
      "Successfully created /home/jovyan/experiment_data/2022-2023_48h_experiment/batch_output/20230327T075355_20230329T073729\n",
      "Successfully created /home/jovyan/experiment_data/2022-2023_48h_experiment/batch_output/20230327T075355_20230329T073729/HH_plots\n",
      "dst_dom corner coordinates: (array([278603.1875, 833603.1875, 278603.1875, 833603.1875]), array([662068.375, 662068.375, -32931.625, -32931.625]))\n",
      "mod_dom corner coordinates: (array([278603.1875, 833603.1875, 278603.1875, 833603.1875]), array([662068.375, 662068.375, -32931.625, -32931.625]))\n",
      "Key points found: 50000\n",
      "Key points found: 50000\n",
      "Domain filter: 50000 -> 38755\n",
      "Domain filter: 50000 -> 48842\n",
      "Keypoints matched 4.7955052852630615\n",
      "Ratio test 0.600000 found 2534 keypoints\n",
      "MaxDrift filter: 2534 -> 2534\n",
      "LSTSQ filter: 2534 -> 2534\n",
      "55% 02170.2 02518.4 02905.0 03140.0 -06.0 0.61 6.63 0.43148% 02764.7 02232.2 03509.0 02873.0 -06.0 0.62 8.68 0.5038% 01560.6 01655.3 02249.0 02275.0 +06.0 0.58 5.71 0.31\r"
     ]
    },
    {
     "name": "stderr",
     "output_type": "stream",
     "text": [
      "/home/jovyan/packages/2022-2023_48h_experiment/one_flow_package/./modules/sea_ice_drift/pmlib_with_ssim.py:60: RuntimeWarning: invalid value encountered in divide\n",
      "  hes = (hes - np.median(hes)) / np.std(hes)\n"
     ]
    },
    {
     "name": "stdout",
     "output_type": "stream",
     "text": [
      "56% 00105.9 02356.4 00838.0 03508.0 +00.0 0.12 4.44 0.1665% 03213.7 03114.2 04099.0 03622.0 +09.0 0.53 8.22 0.4460% 01239.7 02679.7 02046.0 03565.0 +09.0 0.15 2.59 0.12\r"
     ]
    },
    {
     "name": "stderr",
     "output_type": "stream",
     "text": [
      "/home/jovyan/packages/2022-2023_48h_experiment/one_flow_package/./modules/sea_ice_drift/pmlib_with_ssim.py:60: RuntimeWarning: invalid value encountered in divide\n",
      "  hes = (hes - np.median(hes)) / np.std(hes)\n"
     ]
    },
    {
     "name": "stdout",
     "output_type": "stream",
     "text": [
      "71% 02842.6 03359.6 03813.0 03961.0 +09.0 0.68 7.84 0.56\r"
     ]
    },
    {
     "name": "stderr",
     "output_type": "stream",
     "text": [
      "/home/jovyan/packages/2022-2023_48h_experiment/one_flow_package/./modules/sea_ice_drift/pmlib_with_ssim.py:60: RuntimeWarning: invalid value encountered in divide\n",
      "  hes = (hes - np.median(hes)) / np.std(hes)\n"
     ]
    },
    {
     "name": "stdout",
     "output_type": "stream",
     "text": [
      "72% 00716.9 03187.2 01578.0 04178.0 -06.0 0.10 3.33 0.136\r"
     ]
    },
    {
     "name": "stderr",
     "output_type": "stream",
     "text": [
      "/home/jovyan/packages/2022-2023_48h_experiment/one_flow_package/./modules/sea_ice_drift/pmlib_with_ssim.py:60: RuntimeWarning: invalid value encountered in divide\n",
      "  hes = (hes - np.median(hes)) / np.std(hes)\n"
     ]
    },
    {
     "name": "stdout",
     "output_type": "stream",
     "text": [
      "100% 03503.7 04919.6 04654.0 05297.0 +09.0 0.03 0.96 0.1186% 01994.4 03961.4 03045.0 04644.0 +09.0 0.55 5.90 0.3477% 02221.7 03580.0 03163.0 04251.0 +09.0 0.37 4.51 0.2088% 01609.7 04017.1 02626.0 04777.0 +09.0 0.20 0.17 0.1198% 01310.2 04484.7 02390.0 05310.0 +06.0 0.15 2.28 0.12\n",
      " Pattern matching - OK! ( 20 sec)\n",
      "Key points found: 50000\n",
      "Key points found: 50000\n",
      "Domain filter: 50000 -> 44366\n",
      "Domain filter: 50000 -> 47047\n",
      "Keypoints matched 5.406052112579346\n",
      "Ratio test 0.600000 found 1048 keypoints\n",
      "MaxDrift filter: 1048 -> 1048\n",
      "LSTSQ filter: 1048 -> 1044\n",
      "60% 00212.4 02551.7 01007.0 03462.0 -06.0 0.08 4.19 0.131804% 02667.3 00265.9 03207.0 00805.0 -09.0 0.48 3.07 0.1418% 02766.1 00895.0 03368.0 01495.0 -03.0 0.46 5.42 0.3430% 01312.7 01291.2 02008.0 01897.0 -03.0 0.18 3.64 0.1245% 01466.0 01987.0 02212.0 02617.0 +00.0 0.49 7.97 0.4032% 00557.4 01284.6 01194.0 02157.0 -06.0 0.17 3.26 0.0747% 00585.4 01967.8 01316.0 02845.0 +03.0 0.03 2.86 0.0937% 00408.6 01518.6 01068.0 02401.0 +09.0 0.11 2.88 0.1332% 01709.5 01420.5 02401.0 02001.0 +03.0 0.17 1.37 0.0848% 03853.9 02364.4 04762.0 02617.0 -09.0 0.19 3.40 0.1133% 04012.6 01692.4 04759.0 02022.0 +00.0 0.19 4.34 0.1444% 03466.7 02141.6 04248.0 02577.0 +09.0 0.20 0.92 0.1349% 01822.4 02206.5 02559.0 02827.0 +03.0 0.38 4.87 0.20\r"
     ]
    },
    {
     "name": "stderr",
     "output_type": "stream",
     "text": [
      "/home/jovyan/packages/2022-2023_48h_experiment/one_flow_package/./modules/sea_ice_drift/pmlib_with_ssim.py:60: RuntimeWarning: invalid value encountered in divide\n",
      "  hes = (hes - np.median(hes)) / np.std(hes)\n"
     ]
    },
    {
     "name": "stdout",
     "output_type": "stream",
     "text": [
      "52% 03059.3 02445.5 03803.0 03104.0 -06.0 0.70 8.49 0.54\r"
     ]
    },
    {
     "name": "stderr",
     "output_type": "stream",
     "text": [
      "/home/jovyan/packages/2022-2023_48h_experiment/one_flow_package/./modules/sea_ice_drift/pmlib_with_ssim.py:60: RuntimeWarning: invalid value encountered in divide\n",
      "  hes = (hes - np.median(hes)) / np.std(hes)\n",
      "/opt/conda/lib/python3.10/site-packages/skimage/metrics/_structural_similarity.py:251: RuntimeWarning: invalid value encountered in divide\n",
      "  S = (A1 * A2) / D\n"
     ]
    },
    {
     "name": "stdout",
     "output_type": "stream",
     "text": [
      "67% 02115.1 03072.7 02937.0 03770.0 -03.0 0.19 3.84 0.1335% 03213.7 03114.2 04113.0 03544.0 +03.0 0.11 -0.36 0.0956% 03228.5 02648.2 04038.0 03155.0 +09.0 0.28 1.04 0.1152% 04148.4 02578.8 05101.0 02774.0 +00.0 0.50 8.76 0.3666% 00091.4 02818.6 00920.0 03756.0 -09.0 0.16 2.46 0.1471% 01847.2 03233.3 02715.0 03968.0 +00.0 0.25 4.05 0.0953% 01026.9 02287.1 01794.0 03086.0 +09.0 0.25 2.75 0.13\r"
     ]
    },
    {
     "name": "stderr",
     "output_type": "stream",
     "text": [
      "/home/jovyan/packages/2022-2023_48h_experiment/one_flow_package/./modules/sea_ice_drift/pmlib_with_ssim.py:60: RuntimeWarning: invalid value encountered in divide\n",
      "  hes = (hes - np.median(hes)) / np.std(hes)\n"
     ]
    },
    {
     "name": "stdout",
     "output_type": "stream",
     "text": [
      "95% 02043.7 04401.7 03163.0 05063.0 -06.0 0.64 7.74 0.4668% 00159.2 02454.1 00959.0 03372.0 -09.0 0.11 1.77 0.1073% 01713.3 03313.2 02615.0 04043.0 +03.0 0.41 0.76 0.13\n",
      " Pattern matching - OK! ( 19 sec)\n",
      "Arrays saved to /home/jovyan/experiment_data/2022-2023_48h_experiment/batch_output/20230327T075355_20230329T073729/sar_ref_drift_output/sar_ref_drift_output.npz\n",
      "Successfully created /home/jovyan/experiment_data/2022-2023_48h_experiment/batch_output/20230327T075355_20230329T073729/comparison_plots\n",
      "Key points found: 50000\n",
      "Key points found: 50000\n",
      "Domain filter: 50000 -> 50000\n",
      "Domain filter: 50000 -> 50000\n",
      "Keypoints matched 5.522753715515137\n",
      "Ratio test 0.600000 found 2154 keypoints\n",
      "MaxDrift filter: 2154 -> 2152\n",
      "LSTSQ filter: 2152 -> 2152\n",
      "55% 03325.0 03825.0 0000nan 0000nan +0nan 0nan 0nan 0nan70% 04725.0 00725.0 0000nan 0000nan +0nan 0nan 0nan 0nan00% 02550.0 00050.0 0000nan 0000nan +0nan 0nan 0nan 0nan10% 01750.0 00750.0 0000nan 0000nan +0nan 0nan 0nan 0nan15% 00100.0 01100.0 0000nan 0000nan +0nan 0nan 0nan 0nan15% 02600.0 01100.0 0000nan 0000nan +0nan 0nan 0nan 0nan05% 00425.0 00425.0 0000nan 0000nan +0nan 0nan 0nan 0nan06% 02925.0 00425.0 0000nan 0000nan +0nan 0nan 0nan 0nan01% 04575.0 00075.0 0000nan 0000nan +0nan 0nan 0nan 0nan21% 00475.0 01475.0 0000nan 0000nan +0nan 0nan 0nan 0nan16% 02125.0 01125.0 0000nan 0000nan +0nan 0nan 0nan 0nan16% 04625.0 01125.0 0000nan 0000nan +0nan 0nan 0nan 0nan06% 02450.0 00450.0 0000nan 0000nan +0nan 0nan 0nan 0nan11% 03300.0 00800.0 0000nan 0000nan +0nan 0nan 0nan 0nan16% 01650.0 01150.0 0000nan 0000nan +0nan 0nan 0nan 0nan21% 02500.0 01500.0 0000nan 0000nan +0nan 0nan 0nan 0nan16% 04150.0 01150.0 0000nan 0000nan +0nan 0nan 0nan 0nan11% 02825.0 00825.0 0000nan 0000nan +0nan 0nan 0nan 0nan21% 05000.0 01500.0 0000nan 0000nan +0nan 0nan 0nan 0nan02% 02675.0 00175.0 0000nan 0000nan +0nan 0nan 0nan 0nan12% 01875.0 00875.0 0000nan 0000nan +0nan 0nan 0nan 0nan02% 05175.0 00175.0 0000nan 0000nan +0nan 0nan 0nan 0nan17% 02725.0 01225.0 0000nan 0000nan +0nan 0nan 0nan 0nan12% 01400.0 00900.0 0000nan 0000nan +0nan 0nan 0nan 0nan22% 03575.0 01575.0 0000nan 0000nan +0nan 0nan 0nan 0nan13% 03900.0 00900.0 0000nan 0000nan +0nan 0nan 0nan 0nan23% 00600.0 01600.0 0000nan 0000nan +0nan 0nan 0nan 0nan13% 00925.0 00925.0 0000nan 0000nan +0nan 0nan 0nan 0nan03% 04225.0 00225.0 0000nan 0000nan +0nan 0nan 0nan 0nan23% 00125.0 01625.0 0000nan 0000nan +0nan 0nan 0nan 0nan03% 01250.0 00250.0 0000nan 0000nan +0nan 0nan 0nan 0nan13% 00450.0 00950.0 0000nan 0000nan +0nan 0nan 0nan 0nan23% 02625.0 01625.0 0000nan 0000nan +0nan 0nan 0nan 0nan24% 04650.0 01650.0 0000nan 0000nan +0nan 0nan 0nan 0nan04% 00300.0 00300.0 0000nan 0000nan +0nan 0nan 0nan 0nan14% 04975.0 00975.0 0000nan 0000nan +0nan 0nan 0nan 0nan04% 02800.0 00300.0 0000nan 0000nan +0nan 0nan 0nan 0nan14% 02000.0 01000.0 0000nan 0000nan +0nan 0nan 0nan 0nan04% 05300.0 00300.0 0000nan 0000nan +0nan 0nan 0nan 0nan24% 01200.0 01700.0 0000nan 0000nan +0nan 0nan 0nan 0nan04% 01850.0 00350.0 0000nan 0000nan +0nan 0nan 0nan 0nan20% 04875.0 01375.0 0000nan 0000nan +0nan 0nan 0nan 0nan15% 01050.0 01050.0 0000nan 0000nan +0nan 0nan 0nan 0nan05% 04350.0 00350.0 0000nan 0000nan +0nan 0nan 0nan 0nan24% 03700.0 01700.0 0000nan 0000nan +0nan 0nan 0nan 0nan15% 03550.0 01050.0 0000nan 0000nan +0nan 0nan 0nan 0nan10% 05200.0 00700.0 0000nan 0000nan +0nan 0nan 0nan 0nan25% 05250.0 01750.0 0000nan 0000nan +0nan 0nan 0nan 0nan30% 03600.0 02100.0 0000nan 0000nan +0nan 0nan 0nan 0nan32% 00750.0 02250.0 00748.0 02250.0 +00.0 0.66 6.31 0.4437% 04575.0 02575.0 0000nan 0000nan +0nan 0nan 0nan 0nan43% 01975.0 02975.0 01973.0 02975.0 +00.0 0.53 10.05 0.3628% 03475.0 01975.0 0000nan 0000nan +0nan 0nan 0nan 0nan28% 00500.0 02000.0 00499.0 02000.0 +00.0 0.67 9.08 0.5333% 02300.0 02300.0 02298.0 02300.0 +00.0 0.66 10.08 0.41\r"
     ]
    },
    {
     "name": "stderr",
     "output_type": "stream",
     "text": [
      "/home/jovyan/packages/2022-2023_48h_experiment/one_flow_package/./modules/sea_ice_drift/pmlib_with_ssim.py:60: RuntimeWarning: invalid value encountered in divide\n",
      "  hes = (hes - np.median(hes)) / np.std(hes)\n"
     ]
    },
    {
     "name": "stdout",
     "output_type": "stream",
     "text": [
      "52% 04625.0 03625.0 0000nan 0000nan +0nan 0nan 0nan 0nan152% 02600.0 03600.0 0000nan 0000nan +0nan 0nan 0nan 0nan57% 03925.0 03925.0 0000nan 0000nan +0nan 0nan 0nan 0nan\r"
     ]
    },
    {
     "name": "stderr",
     "output_type": "stream",
     "text": [
      "/home/jovyan/packages/2022-2023_48h_experiment/one_flow_package/./modules/sea_ice_drift/pmlib_with_ssim.py:60: RuntimeWarning: invalid value encountered in divide\n",
      "  hes = (hes - np.median(hes)) / np.std(hes)\n"
     ]
    },
    {
     "name": "stdout",
     "output_type": "stream",
     "text": [
      "80% 03525.0 05525.0 0000nan 0000nan +0nan 0nan 0nan 0nan058% 05000.0 04000.0 0000nan 0000nan +0nan 0nan 0nan 0nan53% 03675.0 03675.0 0000nan 0000nan +0nan 0nan 0nan 0nan80% 00550.0 05550.0 0000nan 0000nan +0nan 0nan 0nan 0nan80% 03050.0 05550.0 0000nan 0000nan +0nan 0nan 0nan 0nan55% 00825.0 03825.0 00815.0 03818.0 -06.0 -0.10 3.88 0.0782% 03175.0 05675.0 0000nan 0000nan +0nan 0nan 0nan 0nan95% 03575.0 06575.0 0000nan 0000nan +0nan 0nan 0nan 0nan76% 00775.0 05275.0 00773.0 05275.0 +00.0 0.73 10.61 0.5995% 00600.0 06600.0 0000nan 0000nan +0nan 0nan 0nan 0nan86% 02475.0 05975.0 0000nan 0000nan +0nan 0nan 0nan 0nan95% 03100.0 06600.0 0000nan 0000nan +0nan 0nan 0nan 0nan91% 00825.0 06325.0 0000nan 0000nan +0nan 0nan 0nan 0nan84% 03300.0 05800.0 0000nan 0000nan +0nan 0nan 0nan 0nan92% 00350.0 06350.0 0000nan 0000nan +0nan 0nan 0nan 0nan92% 05350.0 06350.0 0000nan 0000nan +0nan 0nan 0nan 0nan87% 01050.0 06050.0 0000nan 0000nan +0nan 0nan 0nan 0nan76% 03275.0 05275.0 0000nan 0000nan +0nan 0nan 0nan 0nan88% 03550.0 06050.0 0000nan 0000nan +0nan 0nan 0nan 0nan96% 01675.0 06675.0 0000nan 0000nan +0nan 0nan 0nan 0nan88% 00575.0 06075.0 0000nan 0000nan +0nan 0nan 0nan 0nan97% 04175.0 06675.0 0000nan 0000nan +0nan 0nan 0nan 0nan88% 03075.0 06075.0 0000nan 0000nan +0nan 0nan 0nan 0nan97% 03225.0 06725.0 0000nan 0000nan +0nan 0nan 0nan 0nan89% 02125.0 06125.0 0000nan 0000nan +0nan 0nan 0nan 0nan98% 05250.0 06750.0 0000nan 0000nan +0nan 0nan 0nan 0nan94% 02975.0 06475.0 0000nan 0000nan +0nan 0nan 0nan 0nan94% 02025.0 06525.0 0000nan 0000nan +0nan 0nan 0nan 0nan77% 02800.0 05300.0 0000nan 0000nan +0nan 0nan 0nan 0nan99% 01325.0 06825.0 0000nan 0000nan +0nan 0nan 0nan 0nan77% 05300.0 05300.0 0000nan 0000nan +0nan 0nan 0nan 0nan90% 00225.0 06225.0 0000nan 0000nan +0nan 0nan 0nan 0nan99% 00850.0 06850.0 0000nan 0000nan +0nan 0nan 0nan 0nan95% 04050.0 06550.0 0000nan 0000nan +0nan 0nan 0nan 0nan99% 03350.0 06850.0 0000nan 0000nan +0nan 0nan 0nan 0nan95% 01075.0 06575.0 0000nan 0000nan +0nan 0nan 0nan 0nan99% 00375.0 06875.0 0000nan 0000nan +0nan 0nan 0nan 0nan\n",
      " Pattern matching - OK! ( 20 sec)\n",
      "Arrays saved to /home/jovyan/experiment_data/2022-2023_48h_experiment/batch_output/20230327T075355_20230329T073729/comparison_plots/sar_drift_forecast_quality/sar_drift_forecast_quality.npz\n",
      "Pair 1 processed in 293.62 seconds.\n",
      "profiling path is /home/jovyan/experiment_data/2022-2023_48h_experiment/batch_output/20230327T075355_20230329T073729/profiling/profile_results_pair1.prof\n"
     ]
    }
   ],
   "source": [
    "import cProfile\n",
    "import pstats\n",
    "from io import StringIO\n",
    "\n",
    "\n",
    "\n",
    "\n",
    "\n",
    "\n",
    "# Loop over all pairs and use enumerate to get an index for each pair\n",
    "for index, pair in enumerate(sar_pairs, start=1):  # start=1 to have human-friendly indexing\n",
    "    \n",
    "    # Create a Profile object\n",
    "    pr = cProfile.Profile()\n",
    "    pr.enable()  # Start profiling\n",
    "    \n",
    "    start_time = time.time()\n",
    "    \n",
    "    # 2.1. Prepare nansat objects and domains for HV polarisation\n",
    "    n1_hv, n2_hv, output_dir_name, plots_dir_hv = domains_preparation.prepare_nansat_objects(\n",
    "        pair[0], pair[1], output_folder, polarisation='HV')\n",
    "    \n",
    "    # Prepare nansat objects and domains for HH polarisation\n",
    "    n1_hh, n2_hh, output_dir_name, plots_dir_hh = domains_preparation.prepare_nansat_objects(\n",
    "        pair[0], pair[1], output_folder, polarisation='HH')\n",
    "    \n",
    "\n",
    "    # Additional processing steps\n",
    "    # 2.2  Define model domain (mod_dom) for comparing drift and comparison (dst_dom) domain to compare SAR images (real and forecasted)\n",
    "    \n",
    "    # Prepare subset model grid for domains and pattern matching\n",
    "    X_subset, Y_subset, lon_subset, lat_subset = domains_preparation.prepare_grid(n1_hv, n2_hv, srs, X, Y, lon, lat, buffer=0)\n",
    "    \n",
    "    # Set a model domain\n",
    "    mod_res = 2500\n",
    "    mod_dom = Domain(srs, f'-te {min(X_subset.data)} {min(Y_subset.data) - mod_res * 2} {max(X_subset.data) + mod_res} {max(Y_subset.data)} -tr {mod_res} {mod_res}')\n",
    "    \n",
    "    \n",
    "    lon1pm, lat1pm = mod_dom.get_geolocation_grids()\n",
    "    x, y = mod_dom.get_geolocation_grids(dst_srs=srs)\n",
    "    \n",
    "    # Set a comparison domain \n",
    "    dst_res = 100\n",
    "    dst_dom = Domain(srs, f'-te {min(X_subset.data)} {min(Y_subset.data) - dst_res * 2} {max(X_subset.data) + dst_res} {max(Y_subset.data)} -tr {dst_res} {dst_res}')\n",
    "    \n",
    "    domains_preparation.plot_borders(mod_dom, n1_hv, n2_hv, output_dir_name) # borders for hh and hv are the same\n",
    "    # Checking that domains have the same borders \n",
    "    \n",
    "    rows1, cols1 = dst_dom.shape()\n",
    "    print(\"dst_dom corner coordinates:\", dst_dom.transform_points([0,cols1-1,0,cols1-1], [0,0,rows1-1,rows1-1], dst_srs=srs))\n",
    "    \n",
    "    rows1, cols1 = mod_dom.shape()\n",
    "    print(\"mod_dom corner coordinates:\", mod_dom.transform_points([0,cols1-1,0,cols1-1], [0,0,rows1-1,rows1-1], dst_srs=srs))\n",
    "    # 3.   Retrieve reference drift\n",
    "    # 3.1. Run feature tracking and pattern matching for HV\n",
    "    \n",
    "   \n",
    "    # Run feature tracking and plot results \n",
    "    c1_hv, r1_hv, c2_hv, r2_hv = SAR1_SAR2_drift_retrivial.run_feature_tracking(n1_hv, n2_hv, plots_dir_hv)\n",
    "    \n",
    "    #Run pattern matching and plot results\n",
    "    upm_hv, vpm_hv, apm_hv, rpm_hv, hpm_hv, ssim_hv, lon2pm_hv, lat2pm_hv = SAR1_SAR2_drift_retrivial.run_pattern_matching(plots_dir_hv, x, y, \n",
    "                                                               lon1pm, lat1pm, n1_hv, c1_hv, r1_hv, n2_hv, c2_hv, r2_hv, srs, \n",
    "                                                               min_border=200,\n",
    "                                                               max_border=200,\n",
    "                                                               #min_border=10, #test\n",
    "                                                               #max_border=10, #test\n",
    "                                                               #angles=[-9,-6, -3, 0, 3, 6, 9]) #test\n",
    "                                                               angles=[-50, -45, -40, -35, -30, -25, -20, -15,-12, -9,-6, -3, 0, 3, 6, 9, 12,15, 20, 25, 30, 35, 40, 45, 50])\n",
    "    # 3.2. Run feature tracking and pattern matching for HH\n",
    "    \n",
    "    # HH Processing\n",
    "    # Run feature tracking and plot results \n",
    "    c1_hh, r1_hh, c2_hh, r2_hh = SAR1_SAR2_drift_retrivial.run_feature_tracking(n1_hh, n2_hh, plots_dir_hh)\n",
    "    \n",
    "    #Run pattern matching and plot results\n",
    "    upm_hh, vpm_hh, apm_hh, rpm_hh, hpm_hh, ssim_hh, lon2pm_hh, lat2pm_hh = SAR1_SAR2_drift_retrivial.run_pattern_matching(plots_dir_hh, x, y, \n",
    "                                                               lon1pm, lat1pm, n1_hh, c1_hh, r1_hh, n2_hh, c2_hh, r2_hh,srs, \n",
    "                                                               min_border=200,\n",
    "                                                               max_border=200,\n",
    "                                                               #min_border=10, #test\n",
    "                                                               #max_border=10, #test\n",
    "                                                               #angles=[-9,-6, -3, 0, 3, 6, 9]) #test\n",
    "                                                               angles=[-50, -40, -35, -30, -25, -20, -15,-12, -9,-6, -3, 0, 3, 6, 9, 12,15, 20, 25, 30, 35, 40, 50 ])\n",
    "    \n",
    "    \n",
    "    # 3.3. Get combined drift and all textural parameters\n",
    "    \n",
    "    # Combining hh and hv results based on hessian threshold\n",
    "    upm, vpm, apm, rpm, hpm, ssim, lon2pm, lat2pm = SAR1_SAR2_drift_retrivial.combine_hh_hv(output_dir_name, x, y, upm_hh, vpm_hh, apm_hh, rpm_hh, hpm_hh, ssim_hh, lon2pm_hh, lat2pm_hh,\n",
    "                                  upm_hv, vpm_hv, apm_hv, rpm_hv, hpm_hv, ssim_hv, lon2pm_hv, lat2pm_hv)\n",
    "    # 3.4.  Get good pixel indices based on hessian and neighbor thresholds.\n",
    "    \n",
    "    #Returns:\n",
    "    #    - gpi1: Good pixel index based on hessian value\n",
    "    #    - gpi2: Good pixel index combining hessian and neighbors count \n",
    "    \n",
    "    hessian=8\n",
    "    neighbors=2\n",
    "    \n",
    "    gpi1, gpi2 = SAR1_SAR2_drift_retrivial.get_good_pixel_indices(hpm, h_threshold=hessian, neighbors_threshold=neighbors)\n",
    "    \n",
    "        \n",
    "    # Plot the filtering results\n",
    "    general_plots_path = SAR1_SAR2_drift_retrivial.plot_filter_results(output_dir_name, x, y, hpm, upm, vpm, gpi1, gpi2, hessian, neighbors)\n",
    "    \n",
    "    \n",
    "    #  Save final drift, its parameters and filtering arrays to npy files\n",
    "    save_name = 'sar_ref_drift_output'\n",
    "    sar_drift_output_path = SAR1_SAR2_drift_retrivial.save_sar_drift_results(output_dir_name, save_name,\n",
    "                                                                             upm=upm, vpm=vpm, apm=apm, rpm=rpm, \n",
    "                                                                             hpm=hpm, ssim=ssim, lon2pm=lon2pm, \n",
    "                                                                             lat2pm=lat2pm, gpi1=gpi1, gpi2=gpi2)\n",
    "    # 4. Warp SAR1 image with the reference sar drift and compare all arrays in the comparison distination domain\n",
    "    \n",
    "    # 4.1. Warp\n",
    "    # Warp SAR1 with SAR-drift compenstaion/displacement\n",
    "    good_pixels = gpi2\n",
    "    mask_pm = ~good_pixels # mask out low quality or NaN\n",
    "    s1_dst_dom_S_hv = warping_with_domain.warp_with_uv(n1_hv, n1_hv[1], mod_dom, upm, vpm, mask_pm, dst_dom)\n",
    "    s1_dst_dom_S_hh = warping_with_domain.warp_with_uv(n1_hh, n1_hh[1], mod_dom, upm, vpm, mask_pm, dst_dom)\n",
    "    \n",
    "    # Warp SAR2 to the comparison domain\n",
    "    s2_dst_dom_hv = warping_with_domain.warp(n2_hv, n2_hv[1], dst_dom)\n",
    "    s2_dst_dom_hh = warping_with_domain.warp(n2_hh, n2_hh[1], dst_dom)\n",
    "    \n",
    "    # Warp SAR1 to the comparison domain for visualisation\n",
    "    s1_dst_dom_hv = warping_with_domain.warp(n1_hv, n1_hv[1], dst_dom)\n",
    "    s1_dst_dom_hh = warping_with_domain.warp(n1_hh, n1_hh[1], dst_dom)\n",
    "    # 4.2. Plot warping results\n",
    "    warping_with_domain.plot_sar_forecast_images(general_plots_path, \n",
    "                                                 \"Forecast_with_sar_ref_drift\", \n",
    "                                                 s1_dst_dom_hv, s2_dst_dom_hv, s1_dst_dom_S_hv,\n",
    "                                                 s1_dst_dom_hh, s2_dst_dom_hh, s1_dst_dom_S_hh,\n",
    "                                                 gamma_value=1.2)\n",
    "    # 5. Calculate quality parametrs (corr, hess, ssim) for the predicted SAR2 (by calculating pattern matchin on SAR2 and SAR2_predicted)\n",
    "    \n",
    "    # 5.1. Make new nansat objects for comparison\n",
    "    \n",
    "    n_s1_predict = Nansat.from_domain(dst_dom, array = s1_dst_dom_S_hv)\n",
    "    n_s2 = Nansat.from_domain(dst_dom, array = s2_dst_dom_hv)\n",
    "    \n",
    "    # 5.2. Create directory for saving plots \n",
    "    comparison_dir = os.path.join(output_dir_name, f\"comparison_plots\")\n",
    "    try:\n",
    "        os.makedirs(comparison_dir, exist_ok=True)\n",
    "        print(f\"Successfully created {comparison_dir}\")\n",
    "    except Exception as e:\n",
    "        print(f\"Failed to create {comparison_dir}. Error: {e}\")\n",
    "        \n",
    "    # Calculate realibility indexes \n",
    "    \n",
    "    \n",
    "    # 5.4. Run feature tracking and plot results \n",
    "    c1_alg_hv, r1_alg_hv, c2_alg_hv, r2_alg_hv = SAR1_SAR2_drift_retrivial.run_feature_tracking(n_s1_predict, n_s2, comparison_dir)\n",
    "    \n",
    "    # 5.5. Run pattern matching and plot results\n",
    "    upm_alg_hv, vpm_alg_hv, apm_alg_hv, rpm_alg_hv, hpm_alg_hv, ssim_alg_hv, lon2pm_alg_hv, lat2pm_alg_hv = SAR1_SAR2_drift_retrivial.run_pattern_matching(comparison_dir, x, y, \n",
    "                                                               lon1pm, lat1pm, n_s1_predict, c1_alg_hv, r1_alg_hv, n_s2, c2_alg_hv, r2_alg_hv, srs, \n",
    "                                                               min_border=200,\n",
    "                                                               max_border=200,\n",
    "                                                               #min_border=10, #test\n",
    "                                                               #max_border=10, #test\n",
    "                                                               #angles=[-9,-6, -3, 0, 3, 6, 9]) #test\n",
    "                                                               angles=[-50, -45, -40, -35, -30, -25, -20, -15,-12, -9,-6, -3, 0, 3, 6, 9, 12,15, 20, 25, 30, 35, 40, 45, 50])\n",
    "    \n",
    "    # 5.6. Save comparison results, its parameters and filtering arrays to npy files\n",
    "    save_name = 'sar_drift_forecast_quality'\n",
    "    sar_drift_output_path = SAR1_SAR2_drift_retrivial.save_sar_drift_results(comparison_dir, save_name,\n",
    "                                                                             upm=upm, vpm=vpm, apm=apm, rpm=rpm, \n",
    "                                                                             hpm=hpm, ssim=ssim, lon2pm=lon2pm, \n",
    "                                                                             lat2pm=lat2pm, gpi1=gpi1, gpi2=gpi2)\n",
    "\n",
    "    end_time = time.time()\n",
    "    print(f\"Pair {index} processed in {end_time - start_time:.2f} seconds.\")\n",
    "    \n",
    "    pr.disable()  # Stop profiling\n",
    "    s = StringIO()\n",
    "    ps = pstats.Stats(pr, stream=s).sort_stats('cumulative')\n",
    "    ps.print_stats()\n",
    "\n",
    "    # Get the profiling results as a string and print it\n",
    "    profiling_results = s.getvalue()\n",
    "    # Save the stats to a file\n",
    "    profiling_dir_path = os.path.join(output_dir_name, \"profiling\")\n",
    "    os.makedirs(profiling_dir_path, exist_ok=True)\n",
    "    save_path = os.path.join(profiling_dir_path, f\"profile_results_pair{index}.prof\")\n",
    "    print(f'profiling path is {save_path}')\n",
    "    ps.dump_stats(save_path)"
   ]
  },
  {
   "cell_type": "code",
   "execution_count": 11,
   "id": "ea672072-a121-451a-bcef-3286ba89e981",
   "metadata": {},
   "outputs": [
    {
     "name": "stdout",
     "output_type": "stream",
     "text": [
      "Wed Nov  8 16:19:51 2023    /home/jovyan/experiment_data/2022-2023_48h_experiment/batch_output/20230327T075355_20230329T073729/profiling/profile_results_pair1.prof\n",
      "\n",
      "         24601869 function calls (23979703 primitive calls) in 293.601 seconds\n",
      "\n",
      "   Ordered by: cumulative time\n",
      "   List reduced from 3505 to 10 due to restriction <10>\n",
      "\n",
      "   ncalls  tottime  percall  cumtime  percall filename:lineno(function)\n",
      "        2    0.013    0.006  108.826   54.413 /home/jovyan/packages/2022-2023_48h_experiment/one_flow_package/./modules/domains_preparation.py:22(prepare_nansat_objects)\n",
      "        4    1.020    0.255  100.853   25.213 /opt/conda/lib/python3.10/site-packages/sea_ice_drift-0.7.1-py3.10.egg/sea_ice_drift/lib.py:256(get_n)\n",
      "        3    0.002    0.001   82.530   27.510 /home/jovyan/packages/2022-2023_48h_experiment/one_flow_package/./modules/SAR1_SAR2_drift_retrivial.py:155(run_pattern_matching)\n",
      "       33    0.106    0.003   73.657    2.232 /opt/conda/lib/python3.10/site-packages/nansat/nansat.py:161(__getitem__)\n",
      "       33    0.000    0.000   71.116    2.155 /opt/conda/lib/python3.10/site-packages/GDAL-3.5.0-py3.10-linux-x86_64.egg/osgeo/gdal.py:3735(ReadAsArray)\n",
      "       33    0.001    0.000   71.112    2.155 /opt/conda/lib/python3.10/site-packages/GDAL-3.5.0-py3.10-linux-x86_64.egg/osgeo/gdal_array.py:395(BandReadAsArray)\n",
      "       33    0.000    0.000   71.109    2.155 /opt/conda/lib/python3.10/site-packages/GDAL-3.5.0-py3.10-linux-x86_64.egg/osgeo/gdal_array.py:109(BandRasterIONumPy)\n",
      "       33   71.109    2.155   71.109    2.155 {built-in method osgeo._gdal_array.BandRasterIONumPy}\n",
      "        3    0.023    0.008   61.452   20.484 /home/jovyan/packages/2022-2023_48h_experiment/one_flow_package/./modules/sea_ice_drift/pmlib_with_ssim.py:341(pattern_matching)\n",
      "       23    0.000    0.000   59.552    2.589 /home/jovyan/.local/lib/python3.10/site-packages/matplotlib/figure.py:2923(savefig)\n",
      "\n",
      "\n"
     ]
    },
    {
     "data": {
      "text/plain": [
       "<pstats.Stats at 0x7f2ebede8b20>"
      ]
     },
     "execution_count": 11,
     "metadata": {},
     "output_type": "execute_result"
    }
   ],
   "source": [
    "stats = pstats.Stats( \"/home/jovyan/experiment_data/2022-2023_48h_experiment/batch_output/20230327T075355_20230329T073729/profiling/profile_results_pair1.prof\")\n",
    "\n",
    "stats.sort_stats(\"cumulative\")\n",
    "stats.print_stats(10)  # Print the top 10 functions"
   ]
  },
  {
   "cell_type": "code",
   "execution_count": 5,
   "id": "2b94bf92-68f5-486a-9ee8-2359fbcee2a3",
   "metadata": {},
   "outputs": [
    {
     "name": "stdout",
     "output_type": "stream",
     "text": [
      "Collecting snakeviz\n",
      "  Downloading snakeviz-2.2.0-py2.py3-none-any.whl (283 kB)\n",
      "\u001b[2K     \u001b[90m━━━━━━━━━━━━━━━━━━━━━━━━━━━━━━━━━━━━━\u001b[0m \u001b[32m283.7/283.7 kB\u001b[0m \u001b[31m979.3 kB/s\u001b[0m eta \u001b[36m0:00:00\u001b[0ma \u001b[36m0:00:01\u001b[0m\n",
      "\u001b[?25hRequirement already satisfied: tornado>=2.0 in /opt/conda/lib/python3.10/site-packages (from snakeviz) (6.1)\n",
      "Installing collected packages: snakeviz\n",
      "Successfully installed snakeviz-2.2.0\n",
      "Note: you may need to restart the kernel to use updated packages.\n"
     ]
    }
   ],
   "source": [
    "pip install snakeviz"
   ]
  },
  {
   "cell_type": "code",
   "execution_count": 8,
   "id": "0ca29208-adbc-4781-a7af-6d68c8f51ac8",
   "metadata": {},
   "outputs": [
    {
     "name": "stdout",
     "output_type": "stream",
     "text": [
      "snakeviz web server started on 127.0.0.1:8080; enter Ctrl-C to exit\n",
      "http://127.0.0.1:8080/snakeviz/%2Fhome%2Fjovyan%2Fexperiment_data%2F2022-2023_48h_experiment%2Fbatch_output%2F20230327T075355_20230329T073729%2Fprofiling%2Fprofile_results_pair1.prof\n",
      "snakeviz: error: no web browser found: could not locate runnable browser\n",
      "\n",
      "usage: snakeviz [-h] [-v] [-H ADDR] [-p PORT] [-b BROWSER_PATH] [-s] filename\n",
      "\n",
      "Start SnakeViz to view a Python profile.\n",
      "\n",
      "positional arguments:\n",
      "  filename              Python profile to view\n",
      "\n",
      "options:\n",
      "  -h, --help            show this help message and exit\n",
      "  -v, --version         show program's version number and exit\n",
      "  -H ADDR, --hostname ADDR\n",
      "                        hostname to bind to (default: 127.0.0.1)\n",
      "  -p PORT, --port PORT  port to bind to; if this port is already in use a free\n",
      "                        port will be selected automatically (default: 8080)\n",
      "  -b BROWSER_PATH, --browser BROWSER_PATH\n",
      "                        name of webbrowser to launch as described in the\n",
      "                        documentation of Python's webbrowser module:\n",
      "                        https://docs.python.org/3/library/webbrowser.html\n",
      "  -s, --server          start SnakeViz in server-only mode--no attempt will be\n",
      "                        made to open a browser\n"
     ]
    }
   ],
   "source": [
    "!snakeviz /home/jovyan/experiment_data/2022-2023_48h_experiment/batch_output/20230327T075355_20230329T073729/profiling/profile_results_pair1.prof\n"
   ]
  },
  {
   "cell_type": "code",
   "execution_count": null,
   "id": "6bcc3634-fb6a-4d2f-aa99-ceb66fbf3434",
   "metadata": {},
   "outputs": [],
   "source": [
    "stats = pstats.Stats(profiling_file_path)"
   ]
  }
 ],
 "metadata": {
  "kernelspec": {
   "display_name": "Python 3 (ipykernel)",
   "language": "python",
   "name": "python3"
  },
  "language_info": {
   "codemirror_mode": {
    "name": "ipython",
    "version": 3
   },
   "file_extension": ".py",
   "mimetype": "text/x-python",
   "name": "python",
   "nbconvert_exporter": "python",
   "pygments_lexer": "ipython3",
   "version": "3.10.4"
  }
 },
 "nbformat": 4,
 "nbformat_minor": 5
}
