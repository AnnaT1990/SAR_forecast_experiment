{
 "cells": [
  {
   "cell_type": "code",
   "execution_count": 1,
   "id": "9429456e",
   "metadata": {
    "tags": []
   },
   "outputs": [],
   "source": [
    "import sys\n",
    "sys.path.append(\"./modules\")\n"
   ]
  },
  {
   "cell_type": "code",
   "execution_count": 2,
   "id": "f6834b5f",
   "metadata": {
    "tags": []
   },
   "outputs": [],
   "source": [
    "# Import general modules\n",
    "from nansat import Nansat, Domain, NSR\n",
    "import os \n",
    "\n",
    "# Import temporal modules needed for testing plotting\n",
    "import matplotlib.pyplot as plt\n",
    "import numpy as np\n",
    "%matplotlib inline\n",
    "\n",
    "# Import SAR forecasting modules\n",
    "import config\n",
    "import s1_preparation\n",
    "import domains_preparation\n",
    "import SAR1_SAR2_drift_retrivial\n",
    "import warping_with_domain\n",
    "\n",
    "# Import variables\n",
    "from config import path_to_HH_files, path_to_HV_files, safe_folder \n",
    "from config import output_folder, input_folder\n",
    "from config import S1_prod_regex, S1_safe_regex\n",
    "from config import lon, lat, X, Y, proj4, srs\n",
    "\n",
    "# For cleaning up memory\n",
    "import gc\n",
    "\n",
    "import time"
   ]
  },
  {
   "cell_type": "code",
   "execution_count": 3,
   "id": "28eeefbd-e6c3-4bce-bc20-4d1a0fb8b528",
   "metadata": {},
   "outputs": [
    {
     "name": "stdout",
     "output_type": "stream",
     "text": [
      "Pair 1:\n",
      "SAR1: S1A_EW_GRDM_1SDH_20221119T072104_20221119T072208_045960_057FE5_E8B1.SAFE \n",
      "timestamp: 2022-11-19 07:21:04\n",
      "SAR2: S1A_EW_GRDM_1SDH_20221120T080155_20221120T080259_045975_05805E_51E1.SAFE \n",
      "timestamp: 2022-11-20 08:01:55\n",
      "Pair 2:\n",
      "SAR1: S1A_EW_GRDM_1SDH_20221120T080155_20221120T080259_045975_05805E_51E1.SAFE \n",
      "timestamp: 2022-11-20 08:01:55\n",
      "SAR2: S1A_EW_GRDM_1SDH_20221122T074535_20221122T074639_046004_05816B_9FC9.SAFE \n",
      "timestamp: 2022-11-22 07:45:35\n",
      "Pair 3:\n",
      "SAR1: S1A_EW_GRDM_1SDH_20221207T081027_20221207T081131_046223_0588F0_3669.SAFE \n",
      "timestamp: 2022-12-07 08:10:27\n",
      "SAR2: S1A_EW_GRDM_1SDH_20221209T075358_20221209T075502_046252_0589D9_984C.SAFE \n",
      "timestamp: 2022-12-09 07:53:58\n",
      "Pair 4:\n",
      "SAR1: S1A_EW_GRDM_1SDH_20221226T080153_20221226T080257_046500_059247_AF72.SAFE \n",
      "timestamp: 2022-12-26 08:01:53\n",
      "SAR2: S1A_EW_GRDM_1SDH_20221228T074533_20221228T074637_046529_05934F_9B36.SAFE \n",
      "timestamp: 2022-12-28 07:45:33\n",
      "Pair 5:\n",
      "SAR1: S1A_EW_GRDM_1SDH_20230107T080152_20230107T080257_046675_059829_112D.SAFE \n",
      "timestamp: 2023-01-07 08:01:52\n",
      "SAR2: S1A_EW_GRDM_1SDH_20230109T074532_20230109T074637_046704_05992E_8779.SAFE \n",
      "timestamp: 2023-01-09 07:45:32\n",
      "Pair 6:\n",
      "SAR1: S1A_EW_GRDM_1SDH_20230119T080151_20230119T080256_046850_059E12_3404.SAFE \n",
      "timestamp: 2023-01-19 08:01:51\n",
      "SAR2: S1A_EW_GRDM_1SDH_20230121T074532_20230121T074636_046879_059F17_E3F6.SAFE \n",
      "timestamp: 2023-01-21 07:45:32\n",
      "Pair 7:\n",
      "SAR1: S1A_EW_GRDM_1SDH_20230210T081814_20230210T081918_047171_05A8EB_9B9D.SAFE \n",
      "timestamp: 2023-02-10 08:18:14\n",
      "SAR2: S1A_EW_GRDM_1SDH_20230212T080151_20230212T080255_047200_05A9D0_C7EB.SAFE \n",
      "timestamp: 2023-02-12 08:01:51\n",
      "Pair 8:\n",
      "SAR1: S1A_EW_GRDM_1SDH_20230212T080151_20230212T080255_047200_05A9D0_C7EB.SAFE \n",
      "timestamp: 2023-02-12 08:01:51\n",
      "SAR2: S1A_EW_GRDM_1SDH_20230214T074531_20230214T074635_047229_05AAC8_4014.SAFE \n",
      "timestamp: 2023-02-14 07:45:31\n",
      "Pair 9:\n",
      "SAR1: S1A_EW_GRDM_1SDH_20230320T080151_20230320T080255_047725_05BB9A_BFB2.SAFE \n",
      "timestamp: 2023-03-20 08:01:51\n",
      "SAR2: S1A_EW_GRDM_1SDH_20230322T074531_20230322T074635_047754_05BCA1_F9D9.SAFE \n",
      "timestamp: 2023-03-22 07:45:31\n",
      "Pair 10:\n",
      "SAR1: S1A_EW_GRDM_1SDH_20230327T075355_20230327T075459_047827_05BF0B_E30B.SAFE \n",
      "timestamp: 2023-03-27 07:53:55\n",
      "SAR2: S1A_EW_GRDM_1SDH_20230329T073729_20230329T073833_047856_05C011_8100.SAFE \n",
      "timestamp: 2023-03-29 07:37:29\n"
     ]
    }
   ],
   "source": [
    "# 1. Prepare SAR pairs\n",
    "\n",
    "# Collect Sentinel SAFE objects for files in safe directory.\n",
    "safe_objects = s1_preparation.collect_sentinel_files(safe_folder, path_to_HH_files, path_to_HV_files,  S1_safe_regex, S1_prod_regex)\n",
    "\n",
    "# Get pairs of Sentinel SAFE objects where their timestamps are within 50 hours of each other.\n",
    "sar_pairs = s1_preparation.get_pairs_within_time_limit(safe_objects, hours = 50)\n",
    "\n",
    "# Print details for each pair.\n",
    "for index, pair in enumerate(sar_pairs, start=1):  # start=1 makes the index start from 1\n",
    "    print(f'Pair {index}:')\n",
    "    print(f'SAR1: {pair[0].filename} \\ntimestamp: {pair[0].timestamp}\\n'\n",
    "          f'SAR2: {pair[1].filename} \\ntimestamp: {pair[1].timestamp}')"
   ]
  },
  {
   "cell_type": "code",
   "execution_count": null,
   "id": "eb6ccdd0-3680-47e3-8348-feb283662131",
   "metadata": {},
   "outputs": [
    {
     "name": "stdout",
     "output_type": "stream",
     "text": [
      "VMIN:  -4.4586334228515625\n",
      "VMAX:  6.872050971984862\n",
      "VMIN:  -4.306089925765991\n",
      "VMAX:  6.399863028526303\n",
      "Successfully created /home/jovyan/experiment_data/2022-2023_48h_experiment/batch_output/20221119T072104_20221120T080155\n",
      "Successfully created /home/jovyan/experiment_data/2022-2023_48h_experiment/batch_output/20221119T072104_20221120T080155/HV_plots\n",
      "VMIN:  -5.334486770629882\n",
      "VMAX:  6.069247255325315\n",
      "VMIN:  -3.387907314300537\n",
      "VMAX:  4.770930914878845\n",
      "Successfully created /home/jovyan/experiment_data/2022-2023_48h_experiment/batch_output/20221119T072104_20221120T080155\n",
      "Successfully created /home/jovyan/experiment_data/2022-2023_48h_experiment/batch_output/20221119T072104_20221120T080155/HH_plots\n",
      "dst_dom corner coordinates: (array([278603.1875, 998603.1875, 278603.1875, 998603.1875]), array([744568.375, 744568.375,  -5431.625,  -5431.625]))\n",
      "mod_dom corner coordinates: (array([278603.1875, 998603.1875, 278603.1875, 998603.1875]), array([744568.375, 744568.375,  -5431.625,  -5431.625]))\n",
      "Key points found: 50000\n",
      "Key points found: 50000\n",
      "Domain filter: 50000 -> 47286\n",
      "Domain filter: 50000 -> 15468\n",
      "Keypoints matched 1.498063087463379\n",
      "Ratio test 0.600000 found 1152 keypoints\n",
      "MaxDrift filter: 1152 -> 1151\n",
      "LSTSQ filter: 1151 -> 1151\n",
      "17% 05193.1 00687.5 03199.0 01334.0 +03.0 0.60 13.39 0.45\r"
     ]
    },
    {
     "name": "stderr",
     "output_type": "stream",
     "text": [
      "/home/jovyan/packages/2022-2023_48h_experiment/one_flow_package/./modules/sea_ice_drift/pmlib_with_ssim.py:60: RuntimeWarning: invalid value encountered in divide\n",
      "  hes = (hes - np.median(hes)) / np.std(hes)\n"
     ]
    },
    {
     "name": "stdout",
     "output_type": "stream",
     "text": [
      "100% 03052.2 04734.0 00307.0 04998.0 -30.0 0.53 2.63 0.16\n",
      " Pattern matching - OK! (311 sec)\n",
      "Key points found: 50000\n",
      "Key points found: 50000\n",
      "Domain filter: 50000 -> 47546\n",
      "Domain filter: 50000 -> 14114\n",
      "Keypoints matched 1.423753023147583\n",
      "Ratio test 0.600000 found 163 keypoints\n",
      "MaxDrift filter: 163 -> 163\n",
      "LSTSQ filter: 163 -> 163\n",
      "50% 02566.8 02212.9 00401.0 02708.0 +50.0 0.22 1.84 0.126\r"
     ]
    },
    {
     "name": "stderr",
     "output_type": "stream",
     "text": [
      "/home/jovyan/packages/2022-2023_48h_experiment/one_flow_package/./modules/sea_ice_drift/pmlib_with_ssim.py:60: RuntimeWarning: invalid value encountered in divide\n",
      "  hes = (hes - np.median(hes)) / np.std(hes)\n"
     ]
    },
    {
     "name": "stdout",
     "output_type": "stream",
     "text": [
      "70% 03772.4 03151.4 01346.0 03599.0 +00.0 0.44 13.16 0.22\r"
     ]
    },
    {
     "name": "stderr",
     "output_type": "stream",
     "text": [
      "/home/jovyan/packages/2022-2023_48h_experiment/one_flow_package/./modules/sea_ice_drift/pmlib_with_ssim.py:60: RuntimeWarning: invalid value encountered in divide\n",
      "  hes = (hes - np.median(hes)) / np.std(hes)\n",
      "/home/jovyan/packages/2022-2023_48h_experiment/one_flow_package/./modules/sea_ice_drift/pmlib_with_ssim.py:60: RuntimeWarning: invalid value encountered in divide\n",
      "  hes = (hes - np.median(hes)) / np.std(hes)\n"
     ]
    },
    {
     "name": "stdout",
     "output_type": "stream",
     "text": [
      "67% 03264.1 03019.0 01043.0 03226.0 -40.0 0.23 2.15 0.127\r"
     ]
    },
    {
     "name": "stderr",
     "output_type": "stream",
     "text": [
      "/home/jovyan/packages/2022-2023_48h_experiment/one_flow_package/./modules/sea_ice_drift/pmlib_with_ssim.py:60: RuntimeWarning: invalid value encountered in divide\n",
      "  hes = (hes - np.median(hes)) / np.std(hes)\n"
     ]
    },
    {
     "name": "stdout",
     "output_type": "stream",
     "text": [
      "76% 05100.8 03372.5 02652.0 03967.0 +06.0 0.48 14.68 0.40\r"
     ]
    },
    {
     "name": "stderr",
     "output_type": "stream",
     "text": [
      "/home/jovyan/packages/2022-2023_48h_experiment/one_flow_package/./modules/sea_ice_drift/pmlib_with_ssim.py:60: RuntimeWarning: invalid value encountered in divide\n",
      "  hes = (hes - np.median(hes)) / np.std(hes)\n"
     ]
    },
    {
     "name": "stdout",
     "output_type": "stream",
     "text": [
      "95% 03479.8 04407.0 00917.0 04676.0 -03.0 0.32 4.84 0.151\n",
      " Pattern matching - OK! (281 sec)\n",
      "Arrays saved to /home/jovyan/experiment_data/2022-2023_48h_experiment/batch_output/20221119T072104_20221120T080155/sar_ref_drift_output/sar_ref_drift_output.npz\n",
      "Successfully created /home/jovyan/experiment_data/2022-2023_48h_experiment/batch_output/20221119T072104_20221120T080155/comparison_plots\n",
      "Key points found: 50000\n",
      "Key points found: 50000\n",
      "Domain filter: 50000 -> 50000\n",
      "Domain filter: 50000 -> 50000\n",
      "Keypoints matched 5.535325050354004\n",
      "Ratio test 0.600000 found 1593 keypoints\n",
      "MaxDrift filter: 1593 -> 1593\n",
      "LSTSQ filter: 1593 -> 1593\n",
      "34% 00550.0 02650.0 0000nan 0000nan +0nan 0nan 0nan 0nan90% 05825.0 01625.0 0000nan 0000nan +0nan 0nan 0nan 0nan15% 05675.0 01275.0 0000nan 0000nan +0nan 0nan 0nan 0nan00% 02725.0 00225.0 0000nan 0000nan +0nan 0nan 0nan 0nan10% 05525.0 00925.0 0000nan 0000nan +0nan 0nan 0nan 0nan00% 05225.0 00225.0 0000nan 0000nan +0nan 0nan 0nan 0nan05% 01100.0 00600.0 0000nan 0000nan +0nan 0nan 0nan 0nan11% 06250.0 00950.0 0000nan 0000nan +0nan 0nan 0nan 0nan06% 06100.0 00600.0 0000nan 0000nan +0nan 0nan 0nan 0nan11% 01975.0 00975.0 0000nan 0000nan +0nan 0nan 0nan 0nan06% 01825.0 00625.0 0000nan 0000nan +0nan 0nan 0nan 0nan01% 01675.0 00275.0 0000nan 0000nan +0nan 0nan 0nan 0nan06% 04325.0 00625.0 0000nan 0000nan +0nan 0nan 0nan 0nan11% 05200.0 01000.0 0000nan 0000nan +0nan 0nan 0nan 0nan21% 01225.0 01725.0 0000nan 0000nan +0nan 0nan 0nan 0nan11% 00925.0 01025.0 0000nan 0000nan +0nan 0nan 0nan 0nan21% 03725.0 01725.0 0000nan 0000nan +0nan 0nan 0nan 0nan22% 06225.0 01725.0 0000nan 0000nan +0nan 0nan 0nan 0nan17% 06075.0 01375.0 0000nan 0000nan +0nan 0nan 0nan 0nan07% 05775.0 00675.0 0000nan 0000nan +0nan 0nan 0nan 0nan22% 01950.0 01750.0 0000nan 0000nan +0nan 0nan 0nan 0nan07% 06500.0 00700.0 0000nan 0000nan +0nan 0nan 0nan 0nan02% 03850.0 00350.0 0000nan 0000nan +0nan 0nan 0nan 0nan02% 02075.0 00375.0 0000nan 0000nan +0nan 0nan 0nan 0nan12% 04875.0 01075.0 0000nan 0000nan +0nan 0nan 0nan 0nan17% 00750.0 01450.0 0000nan 0000nan +0nan 0nan 0nan 0nan02% 04575.0 00375.0 0000nan 0000nan +0nan 0nan 0nan 0nan12% 00600.0 01100.0 0000nan 0000nan +0nan 0nan 0nan 0nan08% 02950.0 00750.0 0000nan 0000nan +0nan 0nan 0nan 0nan02% 00300.0 00400.0 0000nan 0000nan +0nan 0nan 0nan 0nan17% 03250.0 01450.0 0000nan 0000nan +0nan 0nan 0nan 0nan08% 01175.0 00775.0 0000nan 0000nan +0nan 0nan 0nan 0nan13% 01325.0 01125.0 0000nan 0000nan +0nan 0nan 0nan 0nan08% 03675.0 00775.0 0000nan 0000nan +0nan 0nan 0nan 0nan03% 03525.0 00425.0 0000nan 0000nan +0nan 0nan 0nan 0nan08% 06175.0 00775.0 0000nan 0000nan +0nan 0nan 0nan 0nan03% 06025.0 00425.0 0000nan 0000nan +0nan 0nan 0nan 0nan13% 02050.0 01150.0 0000nan 0000nan +0nan 0nan 0nan 0nan03% 01750.0 00450.0 0000nan 0000nan +0nan 0nan 0nan 0nan04% 04975.0 00475.0 0000nan 0000nan +0nan 0nan 0nan 0nan09% 00850.0 00850.0 0000nan 0000nan +0nan 0nan 0nan 0nan14% 01000.0 01200.0 0000nan 0000nan +0nan 0nan 0nan 0nan19% 03650.0 01550.0 0000nan 0000nan +0nan 0nan 0nan 0nan20% 02600.0 01600.0 0000nan 0000nan +0nan 0nan 0nan 0nan14% 06725.0 01225.0 0000nan 0000nan +0nan 0nan 0nan 0nan05% 02150.0 00550.0 0000nan 0000nan +0nan 0nan 0nan 0nan20% 00825.0 01625.0 0000nan 0000nan +0nan 0nan 0nan 0nan\r"
     ]
    },
    {
     "name": "stderr",
     "output_type": "stream",
     "text": [
      "/home/jovyan/packages/2022-2023_48h_experiment/one_flow_package/./modules/sea_ice_drift/pmlib_with_ssim.py:60: RuntimeWarning: invalid value encountered in divide\n",
      "  hes = (hes - np.median(hes)) / np.std(hes)\n"
     ]
    },
    {
     "name": "stdout",
     "output_type": "stream",
     "text": [
      "60% 05250.0 04450.0 0000nan 0000nan +0nan 0nan 0nan 0nann49% 03500.0 03700.0 0000nan 0000nan +0nan 0nan 0nan 0nan49% 06000.0 03700.0 0000nan 0000nan +0nan 0nan 0nan 0nan66% 03300.0 04900.0 0000nan 0000nan +0nan 0nan 0nan 0nan66% 05800.0 04900.0 0000nan 0000nan +0nan 0nan 0nan 0nan57% 02675.0 04275.0 02796.0 04384.0 +12.0 0.15 4.00 0.0358% 05175.0 04275.0 0000nan 0000nan +0nan 0nan 0nan 0nan65% 02900.0 04800.0 0000nan 0000nan +0nan 0nan 0nan 0nan76% 00375.0 05575.0 0000nan 0000nan +0nan 0nan 0nan 0nan76% 02875.0 05575.0 0000nan 0000nan +0nan 0nan 0nan 0nan80% 06575.0 05875.0 0000nan 0000nan +0nan 0nan 0nan 0nan76% 05375.0 05575.0 0000nan 0000nan +0nan 0nan 0nan 0nan80% 04800.0 05900.0 0000nan 0000nan +0nan 0nan 0nan 0nan76% 01100.0 05600.0 0000nan 0000nan +0nan 0nan 0nan 0nan85% 04225.0 06225.0 0000nan 0000nan +0nan 0nan 0nan 0nan81% 00525.0 05925.0 0000nan 0000nan +0nan 0nan 0nan 0nan76% 03600.0 05600.0 0000nan 0000nan +0nan 0nan 0nan 0nan85% 06725.0 06225.0 0000nan 0000nan +0nan 0nan 0nan 0nan76% 06100.0 05600.0 0000nan 0000nan +0nan 0nan 0nan 0nan76% 01825.0 05625.0 0000nan 0000nan +0nan 0nan 0nan 0nan85% 02450.0 06250.0 0000nan 0000nan +0nan 0nan 0nan 0nan81% 01250.0 05950.0 0000nan 0000nan +0nan 0nan 0nan 0nan77% 06825.0 05625.0 0000nan 0000nan +0nan 0nan 0nan 0nan86% 00675.0 06275.0 0000nan 0000nan +0nan 0nan 0nan 0nan77% 02550.0 05650.0 0000nan 0000nan +0nan 0nan 0nan 0nan86% 01400.0 06300.0 0000nan 0000nan +0nan 0nan 0nan 0nan77% 03275.0 05675.0 0000nan 0000nan +0nan 0nan 0nan 0nan86% 03900.0 06300.0 0000nan 0000nan +0nan 0nan 0nan 0nan77% 05775.0 05675.0 0000nan 0000nan +0nan 0nan 0nan 0nan82% 02700.0 06000.0 0000nan 0000nan +0nan 0nan 0nan 0nan77% 01500.0 05700.0 0000nan 0000nan +0nan 0nan 0nan 0nan87% 00350.0 06350.0 0000nan 0000nan +0nan 0nan 0nan 0nan78% 02225.0 05725.0 0000nan 0000nan +0nan 0nan 0nan 0nan82% 05925.0 06025.0 0000nan 0000nan +0nan 0nan 0nan 0nan78% 04725.0 05725.0 0000nan 0000nan +0nan 0nan 0nan 0nan83% 04150.0 06050.0 0000nan 0000nan +0nan 0nan 0nan 0nan78% 02950.0 05750.0 0000nan 0000nan +0nan 0nan 0nan 0nan88% 05025.0 06425.0 0000nan 0000nan +0nan 0nan 0nan 0nan83% 01325.0 06125.0 0000nan 0000nan +0nan 0nan 0nan 0nan84% 06325.0 06125.0 0000nan 0000nan +0nan 0nan 0nan 0nan79% 05125.0 05825.0 0000nan 0000nan +0nan 0nan 0nan 0nan80% 05850.0 05850.0 0000nan 0000nan +0nan 0nan 0nan 0nan89% 06475.0 06475.0 0000nan 0000nan +0nan 0nan 0nan 0nan80% 01575.0 05875.0 0000nan 0000nan +0nan 0nan 0nan 0nan84% 02775.0 06175.0 0000nan 0000nan +0nan 0nan 0nan 0nan89% 02200.0 06500.0 0000nan 0000nan +0nan 0nan 0nan 0nan84% 01000.0 06200.0 0000nan 0000nan +0nan 0nan 0nan 0nan90% 03650.0 06550.0 0000nan 0000nan +0nan 0nan 0nan 0nan91% 05825.0 06625.0 0000nan 0000nan +0nan 0nan 0nan 0nan95% 02750.0 06950.0 0000nan 0000nan +0nan 0nan 0nan 0nan91% 01550.0 06650.0 0000nan 0000nan +0nan 0nan 0nan 0nan90% 01875.0 06575.0 0000nan 0000nan +0nan 0nan 0nan 0nan95% 00975.0 06975.0 0000nan 0000nan +0nan 0nan 0nan 0nan96% 02425.0 07025.0 0000nan 0000nan +0nan 0nan 0nan 0nan96% 04925.0 07025.0 0000nan 0000nan +0nan 0nan 0nan 0nan92% 01225.0 06725.0 0000nan 0000nan +0nan 0nan 0nan 0nan97% 03150.0 07050.0 0000nan 0000nan +0nan 0nan 0nan 0nan92% 03725.0 06725.0 0000nan 0000nan +0nan 0nan 0nan 0nan97% 05650.0 07050.0 0000nan 0000nan +0nan 0nan 0nan 0nan92% 06225.0 06725.0 0000nan 0000nan +0nan 0nan 0nan 0nan92% 01950.0 06750.0 0000nan 0000nan +0nan 0nan 0nan 0nan93% 05900.0 06800.0 0000nan 0000nan +0nan 0nan 0nan 0nan98% 05325.0 07125.0 0000nan 0000nan +0nan 0nan 0nan 0nan93% 01625.0 06825.0 0000nan 0000nan +0nan 0nan 0nan 0nan93% 04125.0 06825.0 0000nan 0000nan +0nan 0nan 0nan 0nan98% 01050.0 07150.0 0000nan 0000nan +0nan 0nan 0nan 0nan94% 06625.0 06825.0 0000nan 0000nan +0nan 0nan 0nan 0nan98% 03550.0 07150.0 0000nan 0000nan +0nan 0nan 0nan 0nan94% 02350.0 06850.0 0000nan 0000nan +0nan 0nan 0nan 0nan99% 00725.0 07225.0 0000nan 0000nan +0nan 0nan 0nan 0nan95% 02025.0 06925.0 0000nan 0000nan +0nan 0nan 0nan 0nan99% 05725.0 07225.0 0000nan 0000nan +0nan 0nan 0nan 0nan99% 01450.0 07250.0 0000nan 0000nan +0nan 0nan 0nan 0nan\n",
      " Pattern matching - OK! (139 sec)\n",
      "Arrays saved to /home/jovyan/experiment_data/2022-2023_48h_experiment/batch_output/20221119T072104_20221120T080155/comparison_plots/sar_drift_forecast_quality/sar_drift_forecast_quality.npz\n",
      "Pair 1 processed in 950.44 seconds.\n",
      "profiling path is /home/jovyan/experiment_data/2022-2023_48h_experiment/batch_output/20221119T072104_20221120T080155/profiling/profile_results_pair1.prof\n",
      "VMIN:  -4.306089925765991\n",
      "VMAX:  6.399863028526303\n",
      "VMIN:  -4.0071940422058105\n",
      "VMAX:  6.065964317321773\n",
      "Successfully created /home/jovyan/experiment_data/2022-2023_48h_experiment/batch_output/20221120T080155_20221122T074535\n",
      "Successfully created /home/jovyan/experiment_data/2022-2023_48h_experiment/batch_output/20221120T080155_20221122T074535/HV_plots\n",
      "VMIN:  -3.387907314300537\n",
      "VMAX:  4.770930914878845\n",
      "VMIN:  -3.8385958671569824\n",
      "VMAX:  4.498740539550779\n",
      "Successfully created /home/jovyan/experiment_data/2022-2023_48h_experiment/batch_output/20221120T080155_20221122T074535\n",
      "Successfully created /home/jovyan/experiment_data/2022-2023_48h_experiment/batch_output/20221120T080155_20221122T074535/HH_plots\n",
      "dst_dom corner coordinates: (array([278603.1875, 998603.1875, 278603.1875, 998603.1875]), array([744568.375, 744568.375,  -5431.625,  -5431.625]))\n",
      "mod_dom corner coordinates: (array([278603.1875, 998603.1875, 278603.1875, 998603.1875]), array([744568.375, 744568.375,  -5431.625,  -5431.625]))\n",
      "Key points found: 50000\n",
      "Key points found: 50000\n",
      "Domain filter: 50000 -> 36744\n",
      "Domain filter: 50000 -> 47986\n",
      "Keypoints matched 4.019802570343018\n",
      "Ratio test 0.600000 found 2030 keypoints\n",
      "MaxDrift filter: 2030 -> 2030\n",
      "LSTSQ filter: 2030 -> 2030\n",
      "21% 02839.1 01323.5 03468.0 01214.0 -03.0 0.87 12.45 0.54\r"
     ]
    },
    {
     "name": "stderr",
     "output_type": "stream",
     "text": [
      "/home/jovyan/packages/2022-2023_48h_experiment/one_flow_package/./modules/sea_ice_drift/pmlib_with_ssim.py:60: RuntimeWarning: invalid value encountered in divide\n",
      "  hes = (hes - np.median(hes)) / np.std(hes)\n"
     ]
    },
    {
     "name": "stdout",
     "output_type": "stream",
     "text": [
      "100% 00792.8 05081.4 01560.0 05124.0 -03.0 0.38 2.57 0.11\n",
      " Pattern matching - OK! (468 sec)\n",
      "Key points found: 50000\n",
      "Key points found: 50000\n",
      "Domain filter: 50000 -> 38129\n",
      "Domain filter: 50000 -> 47952\n",
      "Keypoints matched 4.093088150024414\n",
      "Ratio test 0.600000 found 702 keypoints\n",
      "MaxDrift filter: 702 -> 702\n",
      "LSTSQ filter: 702 -> 702\n",
      "73% 02690.3 03925.0 03557.0 03766.0 +06.0 0.48 9.64 0.338\r"
     ]
    },
    {
     "name": "stderr",
     "output_type": "stream",
     "text": [
      "/home/jovyan/packages/2022-2023_48h_experiment/one_flow_package/./modules/sea_ice_drift/pmlib_with_ssim.py:60: RuntimeWarning: invalid value encountered in divide\n",
      "  hes = (hes - np.median(hes)) / np.std(hes)\n"
     ]
    },
    {
     "name": "stdout",
     "output_type": "stream",
     "text": [
      "100% 00041.9 05014.4 0000nan 0000nan +0nan 0nan 0nan 0nan\n",
      " Pattern matching - OK! (447 sec)\n",
      "Arrays saved to /home/jovyan/experiment_data/2022-2023_48h_experiment/batch_output/20221120T080155_20221122T074535/sar_ref_drift_output/sar_ref_drift_output.npz\n"
     ]
    }
   ],
   "source": [
    "import cProfile\n",
    "import pstats\n",
    "from io import StringIO\n",
    "\n",
    "\n",
    "# Define mod_dom and dst_dom outside the loop\n",
    "mod_res = 2500\n",
    "mod_dom = None  # Initialize to None\n",
    "dst_res = 100\n",
    "dst_dom = None  # Initialize to None\n",
    "\n",
    "\n",
    "\n",
    "# Loop over all pairs and use enumerate to get an index for each pair\n",
    "for index, pair in enumerate(sar_pairs, start=1):  # start=1 to have human-friendly indexing\n",
    "    \n",
    "    # Create a Profile object\n",
    "    pr = cProfile.Profile()\n",
    "    pr.enable()  # Start profiling\n",
    "    \n",
    "    start_time = time.time()\n",
    "    \n",
    "    # 2.1. Prepare nansat objects and domains for HV polarisation\n",
    "    n1_hv, n2_hv, output_dir_name, plots_dir_hv = domains_preparation.prepare_nansat_objects(\n",
    "        pair[0], pair[1], output_folder, polarisation='HV')\n",
    "    \n",
    "    # Prepare nansat objects and domains for HH polarisation\n",
    "    n1_hh, n2_hh, output_dir_name, plots_dir_hh = domains_preparation.prepare_nansat_objects(\n",
    "        pair[0], pair[1], output_folder, polarisation='HH')\n",
    "    \n",
    "\n",
    "    # Additional processing steps\n",
    "    # 2.2  Define model domain (mod_dom) for comparing drift and comparison (dst_dom) domain to compare SAR images (real and forecasted)\n",
    "    \n",
    "    '''\n",
    "    # Pick this if want create mod and comparison domain for each pair (then they can differ)\n",
    "    # Prepare subset model grid for domains and pattern matching\n",
    "    X_subset, Y_subset, lon_subset, lat_subset = domains_preparation.prepare_grid(n1_hv, n2_hv, srs, X, Y, lon, lat, buffer=0)\n",
    "    \n",
    "    # Set a model domain\n",
    "    mod_res = 2500\n",
    "    mod_dom = Domain(srs, f'-te {min(X_subset.data)} {min(Y_subset.data) - mod_res * 2} {max(X_subset.data) + mod_res} {max(Y_subset.data)} -tr {mod_res} {mod_res}')\n",
    "    \n",
    "    \n",
    "    lon1pm, lat1pm = mod_dom.get_geolocation_grids()\n",
    "    x, y = mod_dom.get_geolocation_grids(dst_srs=srs)\n",
    "    \n",
    "    \n",
    "    # Set a comparison domain \n",
    "    dst_res = 100\n",
    "    dst_dom = Domain(srs, f'-te {min(X_subset.data)} {min(Y_subset.data) - dst_res * 2} {max(X_subset.data) + dst_res} {max(Y_subset.data)} -tr {dst_res} {dst_res}')\n",
    "    '''\n",
    "    \n",
    "    # Check if mod_dom and dst_dom are None, if so, define them based on the first pair\n",
    "    if mod_dom is None:\n",
    "        X_subset, Y_subset, lon_subset, lat_subset = domains_preparation.prepare_grid(n1_hv, n2_hv, srs, X, Y, lon, lat, buffer=0)\n",
    "        mod_dom = Domain(srs, f'-te {min(X_subset.data)} {min(Y_subset.data) - mod_res * 2} {max(X_subset.data) + mod_res} {max(Y_subset.data)} -tr {mod_res} {mod_res}')\n",
    "        lon1pm, lat1pm = mod_dom.get_geolocation_grids()\n",
    "        x, y = mod_dom.get_geolocation_grids(dst_srs=srs)\n",
    "    \n",
    "    if dst_dom is None:\n",
    "        dst_dom = Domain(srs, f'-te {min(X_subset.data)} {min(Y_subset.data) - dst_res * 2} {max(X_subset.data) + dst_res} {max(Y_subset.data)} -tr {dst_res} {dst_res}')\n",
    "        \n",
    "    \n",
    "    domains_preparation.plot_borders(mod_dom, n1_hv, n2_hv, output_dir_name) # borders for hh and hv are the same\n",
    "    # Checking that domains have the same borders\n",
    "    \n",
    "    rows1, cols1 = dst_dom.shape()\n",
    "    print(\"dst_dom corner coordinates:\", dst_dom.transform_points([0,cols1-1,0,cols1-1], [0,0,rows1-1,rows1-1], dst_srs=srs))\n",
    "    \n",
    "    rows1, cols1 = mod_dom.shape()\n",
    "    print(\"mod_dom corner coordinates:\", mod_dom.transform_points([0,cols1-1,0,cols1-1], [0,0,rows1-1,rows1-1], dst_srs=srs))\n",
    "    \n",
    "    # 3.   Retrieve reference drift\n",
    "    # 3.1. Run feature tracking and pattern matching for HV\n",
    "    \n",
    "   \n",
    "    # Run feature tracking and plot results \n",
    "    c1_hv, r1_hv, c2_hv, r2_hv = SAR1_SAR2_drift_retrivial.run_feature_tracking(n1_hv, n2_hv, plots_dir_hv)\n",
    "    \n",
    "    #Run pattern matching and plot results\n",
    "    upm_hv, vpm_hv, apm_hv, rpm_hv, hpm_hv, ssim_hv, lon2pm_hv, lat2pm_hv = SAR1_SAR2_drift_retrivial.run_pattern_matching(plots_dir_hv, x, y, \n",
    "                                                               lon1pm, lat1pm, n1_hv, c1_hv, r1_hv, n2_hv, c2_hv, r2_hv, srs, \n",
    "                                                               min_border=200,\n",
    "                                                               max_border=200,\n",
    "                                                               #min_border=10, #test\n",
    "                                                               #max_border=10, #test\n",
    "                                                               #angles=[-9,-6, -3, 0, 3, 6, 9]) #test\n",
    "                                                               angles=[-50, -45, -40, -35, -30, -25, -20, -15,-12, -9,-6, -3, 0, 3, 6, 9, 12,15, 20, 25, 30, 35, 40, 45, 50])\n",
    "    # 3.2. Run feature tracking and pattern matching for HH\n",
    "    \n",
    "    # HH Processing\n",
    "    # Run feature tracking and plot results \n",
    "    c1_hh, r1_hh, c2_hh, r2_hh = SAR1_SAR2_drift_retrivial.run_feature_tracking(n1_hh, n2_hh, plots_dir_hh)\n",
    "    \n",
    "    #Run pattern matching and plot results\n",
    "    upm_hh, vpm_hh, apm_hh, rpm_hh, hpm_hh, ssim_hh, lon2pm_hh, lat2pm_hh = SAR1_SAR2_drift_retrivial.run_pattern_matching(plots_dir_hh, x, y, \n",
    "                                                               lon1pm, lat1pm, n1_hh, c1_hh, r1_hh, n2_hh, c2_hh, r2_hh,srs, \n",
    "                                                               min_border=200,\n",
    "                                                               max_border=200,\n",
    "                                                               #min_border=10, #test\n",
    "                                                               #max_border=10, #test\n",
    "                                                               #angles=[-9,-6, -3, 0, 3, 6, 9]) #test\n",
    "                                                               angles=[-50, -40, -35, -30, -25, -20, -15,-12, -9,-6, -3, 0, 3, 6, 9, 12,15, 20, 25, 30, 35, 40, 50 ])\n",
    "    \n",
    "    \n",
    "    # 3.3. Get combined drift and all textural parameters\n",
    "    \n",
    "    # Combining hh and hv results based on hessian threshold\n",
    "    upm, vpm, apm, rpm, hpm, ssim, lon2pm, lat2pm = SAR1_SAR2_drift_retrivial.combine_hh_hv(output_dir_name, x, y, upm_hh, vpm_hh, apm_hh, rpm_hh, hpm_hh, ssim_hh, lon2pm_hh, lat2pm_hh,\n",
    "                                  upm_hv, vpm_hv, apm_hv, rpm_hv, hpm_hv, ssim_hv, lon2pm_hv, lat2pm_hv)\n",
    "    # 3.4.  Get good pixel indices based on hessian and neighbor thresholds.\n",
    "    \n",
    "    #Returns:\n",
    "    #    - gpi1: Good pixel index based on hessian value\n",
    "    #    - gpi2: Good pixel index combining hessian and neighbors count \n",
    "    \n",
    "    hessian=8\n",
    "    neighbors=2\n",
    "    \n",
    "    gpi1, gpi2 = SAR1_SAR2_drift_retrivial.get_good_pixel_indices(hpm, h_threshold=hessian, neighbors_threshold=neighbors)\n",
    "    \n",
    "        \n",
    "    # Plot the filtering results\n",
    "    general_plots_path = SAR1_SAR2_drift_retrivial.plot_filter_results(output_dir_name, x, y, hpm, upm, vpm, gpi1, gpi2, hessian, neighbors)\n",
    "    \n",
    "    \n",
    "    #  Save final drift, its parameters and filtering arrays to npy files\n",
    "    save_name = 'sar_ref_drift_output'\n",
    "    sar_drift_output_path = SAR1_SAR2_drift_retrivial.save_sar_drift_results(output_dir_name, save_name,\n",
    "                                                                             upm=upm, vpm=vpm, apm=apm, rpm=rpm, \n",
    "                                                                             hpm=hpm, ssim=ssim, lon2pm=lon2pm, \n",
    "                                                                             lat2pm=lat2pm, gpi1=gpi1, gpi2=gpi2)\n",
    "    # 4. Warp SAR1 image with the reference sar drift and compare all arrays in the comparison distination domain\n",
    "    \n",
    "    # 4.1. Warp\n",
    "    # Warp SAR1 with SAR-drift compenstaion/displacement\n",
    "    good_pixels = gpi2\n",
    "    mask_pm = ~good_pixels # mask out low quality or NaN\n",
    "    s1_dst_dom_S_hv = warping_with_domain.warp_with_uv(n1_hv, n1_hv[1], mod_dom, upm, vpm, mask_pm, dst_dom)\n",
    "    s1_dst_dom_S_hh = warping_with_domain.warp_with_uv(n1_hh, n1_hh[1], mod_dom, upm, vpm, mask_pm, dst_dom)\n",
    "    \n",
    "    # Warp SAR2 to the comparison domain\n",
    "    s2_dst_dom_hv = warping_with_domain.warp(n2_hv, n2_hv[1], dst_dom)\n",
    "    s2_dst_dom_hh = warping_with_domain.warp(n2_hh, n2_hh[1], dst_dom)\n",
    "    \n",
    "    # Warp SAR1 to the comparison domain for visualisation\n",
    "    s1_dst_dom_hv = warping_with_domain.warp(n1_hv, n1_hv[1], dst_dom)\n",
    "    s1_dst_dom_hh = warping_with_domain.warp(n1_hh, n1_hh[1], dst_dom)\n",
    "    # 4.2. Plot warping results\n",
    "    warping_with_domain.plot_sar_forecast_images(general_plots_path, \n",
    "                                                 \"Forecast_with_sar_ref_drift\", \n",
    "                                                 s1_dst_dom_hv, s2_dst_dom_hv, s1_dst_dom_S_hv,\n",
    "                                                 s1_dst_dom_hh, s2_dst_dom_hh, s1_dst_dom_S_hh,\n",
    "                                                 gamma_value=1.2)\n",
    "    # 5. Calculate quality parametrs (corr, hess, ssim) for the predicted SAR2 (by calculating pattern matchin on SAR2 and SAR2_predicted)\n",
    "    \n",
    "    # 5.1. Make new nansat objects for comparison\n",
    "    \n",
    "    n_s1_predict = Nansat.from_domain(dst_dom, array = s1_dst_dom_S_hv)\n",
    "    n_s2 = Nansat.from_domain(dst_dom, array = s2_dst_dom_hv)\n",
    "    \n",
    "    # 5.2. Create directory for saving plots \n",
    "    comparison_dir = os.path.join(output_dir_name, f\"comparison_plots\")\n",
    "    try:\n",
    "        os.makedirs(comparison_dir, exist_ok=True)\n",
    "        print(f\"Successfully created {comparison_dir}\")\n",
    "    except Exception as e:\n",
    "        print(f\"Failed to create {comparison_dir}. Error: {e}\")\n",
    "        \n",
    "    # Calculate realibility indexes \n",
    "    \n",
    "    \n",
    "    # 5.4. Run feature tracking and plot results \n",
    "    c1_alg_hv, r1_alg_hv, c2_alg_hv, r2_alg_hv = SAR1_SAR2_drift_retrivial.run_feature_tracking(n_s1_predict, n_s2, comparison_dir)\n",
    "    \n",
    "    # 5.5. Run pattern matching and plot results\n",
    "    upm_alg_hv, vpm_alg_hv, apm_alg_hv, rpm_alg_hv, hpm_alg_hv, ssim_alg_hv, lon2pm_alg_hv, lat2pm_alg_hv = SAR1_SAR2_drift_retrivial.run_pattern_matching(comparison_dir, x, y, \n",
    "                                                               lon1pm, lat1pm, n_s1_predict, c1_alg_hv, r1_alg_hv, n_s2, c2_alg_hv, r2_alg_hv, srs, \n",
    "                                                               min_border=200,\n",
    "                                                               max_border=200,\n",
    "                                                               #min_border=10, #test\n",
    "                                                               #max_border=10, #test\n",
    "                                                               angles=[-15,-12,-9,-6, -3, 0, 3, 6, 9, 12, 15]) #light\n",
    "                                                               #angles=[-50, -45, -40, -35, -30, -25, -20, -15,-12, -9,-6, -3, 0, 3, 6, 9, 12,15, 20, 25, 30, 35, 40, 45, 50])\n",
    "    \n",
    "    # 5.6. Save comparison results, its parameters and filtering arrays to npy files\n",
    "    save_name = 'sar_drift_forecast_quality'\n",
    "    sar_drift_output_path = SAR1_SAR2_drift_retrivial.save_sar_drift_results(comparison_dir, save_name,\n",
    "                                                                             upm=upm, vpm=vpm, apm=apm, rpm=rpm, \n",
    "                                                                             hpm=hpm, ssim=ssim, lon2pm=lon2pm, \n",
    "                                                                             lat2pm=lat2pm, gpi1=gpi1, gpi2=gpi2)\n",
    "\n",
    "    end_time = time.time()\n",
    "    print(f\"Pair {index} processed in {end_time - start_time:.2f} seconds.\")\n",
    "    \n",
    "    pr.disable()  # Stop profiling\n",
    "    s = StringIO()\n",
    "    ps = pstats.Stats(pr, stream=s).sort_stats('cumulative')\n",
    "    ps.print_stats()\n",
    "\n",
    "    # Get the profiling results as a string and print it\n",
    "    profiling_results = s.getvalue()\n",
    "    # Save the stats to a file\n",
    "    profiling_dir_path = os.path.join(output_dir_name, \"profiling\")\n",
    "    os.makedirs(profiling_dir_path, exist_ok=True)\n",
    "    save_path = os.path.join(profiling_dir_path, f\"profile_results_pair{index}.prof\")\n",
    "    print(f'profiling path is {save_path}')\n",
    "    ps.dump_stats(save_path)\n",
    "    gc.collect()"
   ]
  },
  {
   "cell_type": "code",
   "execution_count": 11,
   "id": "ea672072-a121-451a-bcef-3286ba89e981",
   "metadata": {},
   "outputs": [
    {
     "name": "stdout",
     "output_type": "stream",
     "text": [
      "Wed Nov  8 16:19:51 2023    /home/jovyan/experiment_data/2022-2023_48h_experiment/batch_output/20230327T075355_20230329T073729/profiling/profile_results_pair1.prof\n",
      "\n",
      "         24601869 function calls (23979703 primitive calls) in 293.601 seconds\n",
      "\n",
      "   Ordered by: cumulative time\n",
      "   List reduced from 3505 to 10 due to restriction <10>\n",
      "\n",
      "   ncalls  tottime  percall  cumtime  percall filename:lineno(function)\n",
      "        2    0.013    0.006  108.826   54.413 /home/jovyan/packages/2022-2023_48h_experiment/one_flow_package/./modules/domains_preparation.py:22(prepare_nansat_objects)\n",
      "        4    1.020    0.255  100.853   25.213 /opt/conda/lib/python3.10/site-packages/sea_ice_drift-0.7.1-py3.10.egg/sea_ice_drift/lib.py:256(get_n)\n",
      "        3    0.002    0.001   82.530   27.510 /home/jovyan/packages/2022-2023_48h_experiment/one_flow_package/./modules/SAR1_SAR2_drift_retrivial.py:155(run_pattern_matching)\n",
      "       33    0.106    0.003   73.657    2.232 /opt/conda/lib/python3.10/site-packages/nansat/nansat.py:161(__getitem__)\n",
      "       33    0.000    0.000   71.116    2.155 /opt/conda/lib/python3.10/site-packages/GDAL-3.5.0-py3.10-linux-x86_64.egg/osgeo/gdal.py:3735(ReadAsArray)\n",
      "       33    0.001    0.000   71.112    2.155 /opt/conda/lib/python3.10/site-packages/GDAL-3.5.0-py3.10-linux-x86_64.egg/osgeo/gdal_array.py:395(BandReadAsArray)\n",
      "       33    0.000    0.000   71.109    2.155 /opt/conda/lib/python3.10/site-packages/GDAL-3.5.0-py3.10-linux-x86_64.egg/osgeo/gdal_array.py:109(BandRasterIONumPy)\n",
      "       33   71.109    2.155   71.109    2.155 {built-in method osgeo._gdal_array.BandRasterIONumPy}\n",
      "        3    0.023    0.008   61.452   20.484 /home/jovyan/packages/2022-2023_48h_experiment/one_flow_package/./modules/sea_ice_drift/pmlib_with_ssim.py:341(pattern_matching)\n",
      "       23    0.000    0.000   59.552    2.589 /home/jovyan/.local/lib/python3.10/site-packages/matplotlib/figure.py:2923(savefig)\n",
      "\n",
      "\n"
     ]
    },
    {
     "data": {
      "text/plain": [
       "<pstats.Stats at 0x7f2ebede8b20>"
      ]
     },
     "execution_count": 11,
     "metadata": {},
     "output_type": "execute_result"
    }
   ],
   "source": [
    "stats = pstats.Stats( \"/home/jovyan/experiment_data/2022-2023_48h_experiment/batch_output/20230327T075355_20230329T073729/profiling/profile_results_pair1.prof\")\n",
    "\n",
    "stats.sort_stats(\"cumulative\")\n",
    "stats.print_stats(10)  # Print the top 10 functions"
   ]
  },
  {
   "cell_type": "code",
   "execution_count": 5,
   "id": "2b94bf92-68f5-486a-9ee8-2359fbcee2a3",
   "metadata": {},
   "outputs": [
    {
     "name": "stdout",
     "output_type": "stream",
     "text": [
      "Collecting snakeviz\n",
      "  Downloading snakeviz-2.2.0-py2.py3-none-any.whl (283 kB)\n",
      "\u001b[2K     \u001b[90m━━━━━━━━━━━━━━━━━━━━━━━━━━━━━━━━━━━━━\u001b[0m \u001b[32m283.7/283.7 kB\u001b[0m \u001b[31m979.3 kB/s\u001b[0m eta \u001b[36m0:00:00\u001b[0ma \u001b[36m0:00:01\u001b[0m\n",
      "\u001b[?25hRequirement already satisfied: tornado>=2.0 in /opt/conda/lib/python3.10/site-packages (from snakeviz) (6.1)\n",
      "Installing collected packages: snakeviz\n",
      "Successfully installed snakeviz-2.2.0\n",
      "Note: you may need to restart the kernel to use updated packages.\n"
     ]
    }
   ],
   "source": [
    "pip install snakeviz"
   ]
  },
  {
   "cell_type": "code",
   "execution_count": 8,
   "id": "0ca29208-adbc-4781-a7af-6d68c8f51ac8",
   "metadata": {},
   "outputs": [
    {
     "name": "stdout",
     "output_type": "stream",
     "text": [
      "snakeviz web server started on 127.0.0.1:8080; enter Ctrl-C to exit\n",
      "http://127.0.0.1:8080/snakeviz/%2Fhome%2Fjovyan%2Fexperiment_data%2F2022-2023_48h_experiment%2Fbatch_output%2F20230327T075355_20230329T073729%2Fprofiling%2Fprofile_results_pair1.prof\n",
      "snakeviz: error: no web browser found: could not locate runnable browser\n",
      "\n",
      "usage: snakeviz [-h] [-v] [-H ADDR] [-p PORT] [-b BROWSER_PATH] [-s] filename\n",
      "\n",
      "Start SnakeViz to view a Python profile.\n",
      "\n",
      "positional arguments:\n",
      "  filename              Python profile to view\n",
      "\n",
      "options:\n",
      "  -h, --help            show this help message and exit\n",
      "  -v, --version         show program's version number and exit\n",
      "  -H ADDR, --hostname ADDR\n",
      "                        hostname to bind to (default: 127.0.0.1)\n",
      "  -p PORT, --port PORT  port to bind to; if this port is already in use a free\n",
      "                        port will be selected automatically (default: 8080)\n",
      "  -b BROWSER_PATH, --browser BROWSER_PATH\n",
      "                        name of webbrowser to launch as described in the\n",
      "                        documentation of Python's webbrowser module:\n",
      "                        https://docs.python.org/3/library/webbrowser.html\n",
      "  -s, --server          start SnakeViz in server-only mode--no attempt will be\n",
      "                        made to open a browser\n"
     ]
    }
   ],
   "source": [
    "!snakeviz /home/jovyan/experiment_data/2022-2023_48h_experiment/batch_output/20230327T075355_20230329T073729/profiling/profile_results_pair1.prof\n"
   ]
  },
  {
   "cell_type": "code",
   "execution_count": null,
   "id": "6bcc3634-fb6a-4d2f-aa99-ceb66fbf3434",
   "metadata": {},
   "outputs": [],
   "source": [
    "stats = pstats.Stats(profiling_file_path)"
   ]
  }
 ],
 "metadata": {
  "kernelspec": {
   "display_name": "Python 3 (ipykernel)",
   "language": "python",
   "name": "python3"
  },
  "language_info": {
   "codemirror_mode": {
    "name": "ipython",
    "version": 3
   },
   "file_extension": ".py",
   "mimetype": "text/x-python",
   "name": "python",
   "nbconvert_exporter": "python",
   "pygments_lexer": "ipython3",
   "version": "3.10.4"
  }
 },
 "nbformat": 4,
 "nbformat_minor": 5
}
