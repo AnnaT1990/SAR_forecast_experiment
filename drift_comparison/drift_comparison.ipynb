{
 "cells": [
  {
   "cell_type": "code",
   "execution_count": 1,
   "id": "b03ce18d-a9e9-4d84-9680-25bdf91fb3ce",
   "metadata": {},
   "outputs": [],
   "source": [
    "import numpy as np\n",
    "import pandas as pd\n",
    "from scipy.interpolate import RegularGridInterpolator\n",
    "import os\n",
    "import csv\n",
    "from osgeo import osr"
   ]
  },
  {
   "cell_type": "code",
   "execution_count": 37,
   "id": "8cb0b03a-bc0e-4c04-bc39-ea0c2a9352ed",
   "metadata": {},
   "outputs": [],
   "source": [
    "# Load the CSV directly into a numpy array\n",
    "data_array = np.loadtxt(r'/home/jovyan/data/model_data_process_output/cum_drift_3996_csv/cum_ice_displacement_dxdy.csv', delimiter=',', skiprows=1)"
   ]
  },
  {
   "cell_type": "code",
   "execution_count": 41,
   "id": "d9e94c4e-0a59-4bc5-ba52-89abfa99a87d",
   "metadata": {},
   "outputs": [
    {
     "data": {
      "text/plain": [
       "(36945, 4)"
      ]
     },
     "execution_count": 41,
     "metadata": {},
     "output_type": "execute_result"
    }
   ],
   "source": [
    "model_drift = data_array[:,]\n",
    "model_drift.shape"
   ]
  },
  {
   "cell_type": "code",
   "execution_count": 31,
   "id": "46048e4d-41d1-4f68-b0e5-763ed922f80d",
   "metadata": {},
   "outputs": [],
   "source": [
    "input_srs = osr.SpatialReference()\n",
    "input_srs.ImportFromEPSG(4326)\n",
    "\n",
    "output_srs = osr.SpatialReference()\n",
    "output_srs.ImportFromEPSG(3996)\n",
    "\n",
    "transformation = osr.CoordinateTransformation(input_srs, output_srs)"
   ]
  },
  {
   "cell_type": "code",
   "execution_count": 32,
   "id": "e278aa1f-47eb-4009-830c-b9a3a45931b2",
   "metadata": {},
   "outputs": [],
   "source": [
    "transformed_points1 = transformation.TransformPoints(data_array[:, [0, 1]])\n",
    "transformed_points2 = transformation.TransformPoints(data_array[:, [2, 3]])"
   ]
  },
  {
   "cell_type": "code",
   "execution_count": 33,
   "id": "0ea18fc7-3b67-49d6-a925-96782f4b8b86",
   "metadata": {},
   "outputs": [],
   "source": [
    "x1 = np.array([point[0] for point in transformed_points1])\n",
    "y1 = np.array([point[1] for point in transformed_points1])\n",
    "\n",
    "x2 = np.array([point[0] for point in transformed_points2])\n",
    "y2 = np.array([point[1] for point in transformed_points2])"
   ]
  },
  {
   "cell_type": "code",
   "execution_count": 34,
   "id": "f9062fa9-b0f5-4a53-a926-4510335cc5ba",
   "metadata": {},
   "outputs": [],
   "source": [
    "dx = x2 - x1\n",
    "dy = y2 - y1"
   ]
  },
  {
   "cell_type": "code",
   "execution_count": 35,
   "id": "a760426f-ffb4-4480-bc60-ec196e2e67eb",
   "metadata": {},
   "outputs": [
    {
     "data": {
      "text/plain": [
       "(array([-69360.58141776, -68919.2964629 , -68472.50605247, ...,\n",
       "             0.        ,      0.        ,      0.        ]),\n",
       " array([-12534.61428575, -12577.2199337 , -12615.6109262 , ...,\n",
       "             0.        ,      0.        ,      0.        ]))"
      ]
     },
     "execution_count": 35,
     "metadata": {},
     "output_type": "execute_result"
    }
   ],
   "source": [
    "dx, dy"
   ]
  },
  {
   "cell_type": "code",
   "execution_count": null,
   "id": "573a5448-32cd-453f-84e5-78b460f202b7",
   "metadata": {},
   "outputs": [],
   "source": []
  }
 ],
 "metadata": {
  "kernelspec": {
   "display_name": "Python 3 (ipykernel)",
   "language": "python",
   "name": "python3"
  },
  "language_info": {
   "codemirror_mode": {
    "name": "ipython",
    "version": 3
   },
   "file_extension": ".py",
   "mimetype": "text/x-python",
   "name": "python",
   "nbconvert_exporter": "python",
   "pygments_lexer": "ipython3",
   "version": "3.10.4"
  }
 },
 "nbformat": 4,
 "nbformat_minor": 5
}
