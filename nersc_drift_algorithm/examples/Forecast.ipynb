{
 "cells": [
  {
   "cell_type": "code",
   "execution_count": 4,
   "id": "ac6fcf42-cfa4-4d6e-bed2-be59e8e468df",
   "metadata": {},
   "outputs": [],
   "source": [
    "import numpy as np\n",
    "from PIL import Image\n",
    "\n",
    "Image.MAX_IMAGE_PIXELS = 1000000000 "
   ]
  },
  {
   "cell_type": "code",
   "execution_count": 5,
   "id": "0ac1a72c-704e-4cc1-b4ee-aa6d72192916",
   "metadata": {},
   "outputs": [
    {
     "name": "stderr",
     "output_type": "stream",
     "text": [
      "Error: no \"view\" mailcap rules found for type \"image/png\"\n",
      "/usr/bin/xdg-open: 869: www-browser: not found\n",
      "/usr/bin/xdg-open: 869: links2: not found\n",
      "/usr/bin/xdg-open: 869: elinks: not found\n",
      "/usr/bin/xdg-open: 869: links: not found\n",
      "/usr/bin/xdg-open: 869: lynx: not found\n",
      "/usr/bin/xdg-open: 869: w3m: not found\n",
      "xdg-open: no method available for opening '/tmp/tmpc669g2j0.PNG'\n"
     ]
    }
   ],
   "source": [
    "img = Image.open('/home/jovyan/work/Icedrift/AOI/Fram srtarit/HH/S1B_EW_GRDM_1SDH_20200501T105132_20200501T105232_021387_028991_5462_Orb_Cal_EC_HH.tif')\n",
    "img.show()"
   ]
  },
  {
   "cell_type": "code",
   "execution_count": null,
   "id": "bea182e2-bc26-459d-8561-a7f17db92c35",
   "metadata": {},
   "outputs": [],
   "source": []
  }
 ],
 "metadata": {
  "kernelspec": {
   "display_name": "Python 3 (ipykernel)",
   "language": "python",
   "name": "python3"
  },
  "language_info": {
   "codemirror_mode": {
    "name": "ipython",
    "version": 3
   },
   "file_extension": ".py",
   "mimetype": "text/x-python",
   "name": "python",
   "nbconvert_exporter": "python",
   "pygments_lexer": "ipython3",
   "version": "3.10.4"
  }
 },
 "nbformat": 4,
 "nbformat_minor": 5
}
